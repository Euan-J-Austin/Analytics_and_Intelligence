{
 "cells": [
  {
   "cell_type": "markdown",
   "id": "6d7637fe",
   "metadata": {},
   "source": [
    "# Logistic regression"
   ]
  },
  {
   "cell_type": "markdown",
   "id": "da17f6cd",
   "metadata": {},
   "source": [
    "Classification problem - yes or no, sale or no sale "
   ]
  },
  {
   "cell_type": "markdown",
   "id": "25e8cd16",
   "metadata": {},
   "source": [
    "A logistic regeession reveals the relationship between a discrete (separate and distinct, yes or no?) dependent variable and at least one independent variable"
   ]
  },
  {
   "cell_type": "markdown",
   "id": "05e83808",
   "metadata": {},
   "source": [
    "# y_i = e^a+bX / 1 + e^a+bX + error"
   ]
  },
  {
   "cell_type": "markdown",
   "id": "d97aec8b",
   "metadata": {},
   "source": [
    "#### \"For each X unit increase, the probability of Y hapening increases by exp(b) - 1 * 100%\" e.g. if coefficient b = 0.5, then for each unit increase in X will increase the probability of Y by 64%\""
   ]
  },
  {
   "cell_type": "code",
   "execution_count": 64,
   "id": "93eae88c",
   "metadata": {},
   "outputs": [],
   "source": [
    "import pandas as pd\n",
    "import statsmodels.api as sm\n",
    "import seaborn as sns\n",
    "import numpy as np"
   ]
  },
  {
   "cell_type": "code",
   "execution_count": 65,
   "id": "94805d2a",
   "metadata": {},
   "outputs": [
    {
     "data": {
      "text/html": [
       "<div>\n",
       "<style scoped>\n",
       "    .dataframe tbody tr th:only-of-type {\n",
       "        vertical-align: middle;\n",
       "    }\n",
       "\n",
       "    .dataframe tbody tr th {\n",
       "        vertical-align: top;\n",
       "    }\n",
       "\n",
       "    .dataframe thead th {\n",
       "        text-align: right;\n",
       "    }\n",
       "</style>\n",
       "<table border=\"1\" class=\"dataframe\">\n",
       "  <thead>\n",
       "    <tr style=\"text-align: right;\">\n",
       "      <th></th>\n",
       "      <th>crl.tot</th>\n",
       "      <th>dollar</th>\n",
       "      <th>bang</th>\n",
       "      <th>money</th>\n",
       "      <th>n000</th>\n",
       "      <th>make</th>\n",
       "      <th>yesno</th>\n",
       "    </tr>\n",
       "  </thead>\n",
       "  <tbody>\n",
       "    <tr>\n",
       "      <th>0</th>\n",
       "      <td>278</td>\n",
       "      <td>0.0</td>\n",
       "      <td>0.778</td>\n",
       "      <td>0.0</td>\n",
       "      <td>0.0</td>\n",
       "      <td>0.0</td>\n",
       "      <td>y</td>\n",
       "    </tr>\n",
       "  </tbody>\n",
       "</table>\n",
       "</div>"
      ],
      "text/plain": [
       "   crl.tot  dollar   bang  money  n000  make yesno\n",
       "0      278     0.0  0.778    0.0   0.0   0.0     y"
      ]
     },
     "execution_count": 65,
     "metadata": {},
     "output_type": "execute_result"
    }
   ],
   "source": [
    "df = pd.read_csv('spam.csv')\n",
    "df.head(1)"
   ]
  },
  {
   "cell_type": "markdown",
   "id": "4c343160",
   "metadata": {},
   "source": [
    "# Data analysis"
   ]
  },
  {
   "cell_type": "code",
   "execution_count": 66,
   "id": "705879f0",
   "metadata": {},
   "outputs": [
    {
     "data": {
      "text/html": [
       "<div>\n",
       "<style scoped>\n",
       "    .dataframe tbody tr th:only-of-type {\n",
       "        vertical-align: middle;\n",
       "    }\n",
       "\n",
       "    .dataframe tbody tr th {\n",
       "        vertical-align: top;\n",
       "    }\n",
       "\n",
       "    .dataframe thead th {\n",
       "        text-align: right;\n",
       "    }\n",
       "</style>\n",
       "<table border=\"1\" class=\"dataframe\">\n",
       "  <thead>\n",
       "    <tr style=\"text-align: right;\">\n",
       "      <th></th>\n",
       "      <th>crl.tot</th>\n",
       "      <th>dollar</th>\n",
       "      <th>bang</th>\n",
       "      <th>money</th>\n",
       "      <th>n000</th>\n",
       "      <th>make</th>\n",
       "    </tr>\n",
       "  </thead>\n",
       "  <tbody>\n",
       "    <tr>\n",
       "      <th>count</th>\n",
       "      <td>4601.000000</td>\n",
       "      <td>4601.000000</td>\n",
       "      <td>4601.000000</td>\n",
       "      <td>4601.000000</td>\n",
       "      <td>4601.000000</td>\n",
       "      <td>4601.000000</td>\n",
       "    </tr>\n",
       "    <tr>\n",
       "      <th>mean</th>\n",
       "      <td>283.289285</td>\n",
       "      <td>0.075811</td>\n",
       "      <td>0.269071</td>\n",
       "      <td>0.094269</td>\n",
       "      <td>0.101645</td>\n",
       "      <td>0.104553</td>\n",
       "    </tr>\n",
       "    <tr>\n",
       "      <th>std</th>\n",
       "      <td>606.347851</td>\n",
       "      <td>0.245882</td>\n",
       "      <td>0.815672</td>\n",
       "      <td>0.442636</td>\n",
       "      <td>0.350286</td>\n",
       "      <td>0.305358</td>\n",
       "    </tr>\n",
       "    <tr>\n",
       "      <th>min</th>\n",
       "      <td>1.000000</td>\n",
       "      <td>0.000000</td>\n",
       "      <td>0.000000</td>\n",
       "      <td>0.000000</td>\n",
       "      <td>0.000000</td>\n",
       "      <td>0.000000</td>\n",
       "    </tr>\n",
       "    <tr>\n",
       "      <th>25%</th>\n",
       "      <td>35.000000</td>\n",
       "      <td>0.000000</td>\n",
       "      <td>0.000000</td>\n",
       "      <td>0.000000</td>\n",
       "      <td>0.000000</td>\n",
       "      <td>0.000000</td>\n",
       "    </tr>\n",
       "    <tr>\n",
       "      <th>50%</th>\n",
       "      <td>95.000000</td>\n",
       "      <td>0.000000</td>\n",
       "      <td>0.000000</td>\n",
       "      <td>0.000000</td>\n",
       "      <td>0.000000</td>\n",
       "      <td>0.000000</td>\n",
       "    </tr>\n",
       "    <tr>\n",
       "      <th>75%</th>\n",
       "      <td>266.000000</td>\n",
       "      <td>0.052000</td>\n",
       "      <td>0.315000</td>\n",
       "      <td>0.000000</td>\n",
       "      <td>0.000000</td>\n",
       "      <td>0.000000</td>\n",
       "    </tr>\n",
       "    <tr>\n",
       "      <th>max</th>\n",
       "      <td>15841.000000</td>\n",
       "      <td>6.003000</td>\n",
       "      <td>32.478000</td>\n",
       "      <td>12.500000</td>\n",
       "      <td>5.450000</td>\n",
       "      <td>4.540000</td>\n",
       "    </tr>\n",
       "  </tbody>\n",
       "</table>\n",
       "</div>"
      ],
      "text/plain": [
       "            crl.tot       dollar         bang        money         n000  \\\n",
       "count   4601.000000  4601.000000  4601.000000  4601.000000  4601.000000   \n",
       "mean     283.289285     0.075811     0.269071     0.094269     0.101645   \n",
       "std      606.347851     0.245882     0.815672     0.442636     0.350286   \n",
       "min        1.000000     0.000000     0.000000     0.000000     0.000000   \n",
       "25%       35.000000     0.000000     0.000000     0.000000     0.000000   \n",
       "50%       95.000000     0.000000     0.000000     0.000000     0.000000   \n",
       "75%      266.000000     0.052000     0.315000     0.000000     0.000000   \n",
       "max    15841.000000     6.003000    32.478000    12.500000     5.450000   \n",
       "\n",
       "              make  \n",
       "count  4601.000000  \n",
       "mean      0.104553  \n",
       "std       0.305358  \n",
       "min       0.000000  \n",
       "25%       0.000000  \n",
       "50%       0.000000  \n",
       "75%       0.000000  \n",
       "max       4.540000  "
      ]
     },
     "execution_count": 66,
     "metadata": {},
     "output_type": "execute_result"
    }
   ],
   "source": [
    "df.describe()"
   ]
  },
  {
   "cell_type": "code",
   "execution_count": 67,
   "id": "6167e758",
   "metadata": {},
   "outputs": [
    {
     "data": {
      "text/plain": [
       "array([[<AxesSubplot:title={'center':'crl.tot'}>,\n",
       "        <AxesSubplot:title={'center':'dollar'}>],\n",
       "       [<AxesSubplot:title={'center':'bang'}>,\n",
       "        <AxesSubplot:title={'center':'money'}>],\n",
       "       [<AxesSubplot:title={'center':'n000'}>,\n",
       "        <AxesSubplot:title={'center':'make'}>]], dtype=object)"
      ]
     },
     "execution_count": 67,
     "metadata": {},
     "output_type": "execute_result"
    },
    {
     "data": {
      "image/png": "[encoded data removed]",
      "text/plain": [
       "<Figure size 1500x2000 with 6 Axes>"
      ]
     },
     "metadata": {},
     "output_type": "display_data"
    }
   ],
   "source": [
    "df.hist(figsize = (15,20))"
   ]
  },
  {
   "cell_type": "markdown",
   "id": "6dd17986",
   "metadata": {},
   "source": [
    "# Removing Outliers"
   ]
  },
  {
   "cell_type": "code",
   "execution_count": 68,
   "id": "24a9ee1a",
   "metadata": {},
   "outputs": [
    {
     "name": "stdout",
     "output_type": "stream",
     "text": [
      "4601\n"
     ]
    }
   ],
   "source": [
    "print(len(df))"
   ]
  },
  {
   "cell_type": "code",
   "execution_count": 69,
   "id": "04e08e93",
   "metadata": {},
   "outputs": [
    {
     "data": {
      "text/plain": [
       "<AxesSubplot:>"
      ]
     },
     "execution_count": 69,
     "metadata": {},
     "output_type": "execute_result"
    },
    {
     "data": {
      "image/png": "[encoded data removed]",
      "text/plain": [
       "<Figure size 640x480 with 1 Axes>"
      ]
     },
     "metadata": {},
     "output_type": "display_data"
    }
   ],
   "source": [
    "df = df[df['crl.tot'] < 1500]\n",
    "df['crl.tot'].hist()"
   ]
  },
  {
   "cell_type": "code",
   "execution_count": 70,
   "id": "2a616b3f",
   "metadata": {},
   "outputs": [
    {
     "data": {
      "text/plain": [
       "<AxesSubplot:>"
      ]
     },
     "execution_count": 70,
     "metadata": {},
     "output_type": "execute_result"
    },
    {
     "data": {
      "image/png": "[encoded data removed]",
      "text/plain": [
       "<Figure size 640x480 with 1 Axes>"
      ]
     },
     "metadata": {},
     "output_type": "display_data"
    }
   ],
   "source": [
    "df = df[df['bang'] < 5]\n",
    "df['bang'].hist()"
   ]
  },
  {
   "cell_type": "code",
   "execution_count": 71,
   "id": "a43a6fd0",
   "metadata": {},
   "outputs": [
    {
     "data": {
      "text/plain": [
       "<AxesSubplot:>"
      ]
     },
     "execution_count": 71,
     "metadata": {},
     "output_type": "execute_result"
    },
    {
     "data": {
      "image/png": "[encoded data removed]",
      "text/plain": [
       "<Figure size 640x480 with 1 Axes>"
      ]
     },
     "metadata": {},
     "output_type": "display_data"
    }
   ],
   "source": [
    "df =  df[df['money'] < 6]\n",
    "df['money'].hist()"
   ]
  },
  {
   "cell_type": "code",
   "execution_count": 72,
   "id": "18c94180",
   "metadata": {},
   "outputs": [
    {
     "data": {
      "text/html": [
       "<div>\n",
       "<style scoped>\n",
       "    .dataframe tbody tr th:only-of-type {\n",
       "        vertical-align: middle;\n",
       "    }\n",
       "\n",
       "    .dataframe tbody tr th {\n",
       "        vertical-align: top;\n",
       "    }\n",
       "\n",
       "    .dataframe thead th {\n",
       "        text-align: right;\n",
       "    }\n",
       "</style>\n",
       "<table border=\"1\" class=\"dataframe\">\n",
       "  <thead>\n",
       "    <tr style=\"text-align: right;\">\n",
       "      <th></th>\n",
       "      <th>crl.tot</th>\n",
       "      <th>dollar</th>\n",
       "      <th>bang</th>\n",
       "      <th>money</th>\n",
       "      <th>n000</th>\n",
       "      <th>make</th>\n",
       "    </tr>\n",
       "  </thead>\n",
       "  <tbody>\n",
       "    <tr>\n",
       "      <th>count</th>\n",
       "      <td>4432.000000</td>\n",
       "      <td>4432.000000</td>\n",
       "      <td>4432.000000</td>\n",
       "      <td>4432.000000</td>\n",
       "      <td>4432.000000</td>\n",
       "      <td>4432.000000</td>\n",
       "    </tr>\n",
       "    <tr>\n",
       "      <th>mean</th>\n",
       "      <td>205.729468</td>\n",
       "      <td>0.066484</td>\n",
       "      <td>0.228118</td>\n",
       "      <td>0.074675</td>\n",
       "      <td>0.093960</td>\n",
       "      <td>0.099059</td>\n",
       "    </tr>\n",
       "    <tr>\n",
       "      <th>std</th>\n",
       "      <td>288.775851</td>\n",
       "      <td>0.230603</td>\n",
       "      <td>0.438474</td>\n",
       "      <td>0.278046</td>\n",
       "      <td>0.346232</td>\n",
       "      <td>0.299311</td>\n",
       "    </tr>\n",
       "    <tr>\n",
       "      <th>min</th>\n",
       "      <td>1.000000</td>\n",
       "      <td>0.000000</td>\n",
       "      <td>0.000000</td>\n",
       "      <td>0.000000</td>\n",
       "      <td>0.000000</td>\n",
       "      <td>0.000000</td>\n",
       "    </tr>\n",
       "    <tr>\n",
       "      <th>25%</th>\n",
       "      <td>33.750000</td>\n",
       "      <td>0.000000</td>\n",
       "      <td>0.000000</td>\n",
       "      <td>0.000000</td>\n",
       "      <td>0.000000</td>\n",
       "      <td>0.000000</td>\n",
       "    </tr>\n",
       "    <tr>\n",
       "      <th>50%</th>\n",
       "      <td>90.000000</td>\n",
       "      <td>0.000000</td>\n",
       "      <td>0.000000</td>\n",
       "      <td>0.000000</td>\n",
       "      <td>0.000000</td>\n",
       "      <td>0.000000</td>\n",
       "    </tr>\n",
       "    <tr>\n",
       "      <th>75%</th>\n",
       "      <td>238.000000</td>\n",
       "      <td>0.040000</td>\n",
       "      <td>0.289250</td>\n",
       "      <td>0.000000</td>\n",
       "      <td>0.000000</td>\n",
       "      <td>0.000000</td>\n",
       "    </tr>\n",
       "    <tr>\n",
       "      <th>max</th>\n",
       "      <td>1484.000000</td>\n",
       "      <td>6.003000</td>\n",
       "      <td>4.733000</td>\n",
       "      <td>5.980000</td>\n",
       "      <td>5.450000</td>\n",
       "      <td>4.340000</td>\n",
       "    </tr>\n",
       "  </tbody>\n",
       "</table>\n",
       "</div>"
      ],
      "text/plain": [
       "           crl.tot       dollar         bang        money         n000  \\\n",
       "count  4432.000000  4432.000000  4432.000000  4432.000000  4432.000000   \n",
       "mean    205.729468     0.066484     0.228118     0.074675     0.093960   \n",
       "std     288.775851     0.230603     0.438474     0.278046     0.346232   \n",
       "min       1.000000     0.000000     0.000000     0.000000     0.000000   \n",
       "25%      33.750000     0.000000     0.000000     0.000000     0.000000   \n",
       "50%      90.000000     0.000000     0.000000     0.000000     0.000000   \n",
       "75%     238.000000     0.040000     0.289250     0.000000     0.000000   \n",
       "max    1484.000000     6.003000     4.733000     5.980000     5.450000   \n",
       "\n",
       "              make  \n",
       "count  4432.000000  \n",
       "mean      0.099059  \n",
       "std       0.299311  \n",
       "min       0.000000  \n",
       "25%       0.000000  \n",
       "50%       0.000000  \n",
       "75%       0.000000  \n",
       "max       4.340000  "
      ]
     },
     "execution_count": 72,
     "metadata": {},
     "output_type": "execute_result"
    }
   ],
   "source": [
    "df.describe()"
   ]
  },
  {
   "cell_type": "code",
   "execution_count": 73,
   "id": "adca405b",
   "metadata": {},
   "outputs": [
    {
     "data": {
      "text/plain": [
       "<AxesSubplot:>"
      ]
     },
     "execution_count": 73,
     "metadata": {},
     "output_type": "execute_result"
    },
    {
     "data": {
      "image/png": "[encoded data removed]",
      "text/plain": [
       "<Figure size 640x480 with 1 Axes>"
      ]
     },
     "metadata": {},
     "output_type": "display_data"
    }
   ],
   "source": [
    "df = df[df['n000'] < 1.5]\n",
    "df['n000'].hist()"
   ]
  },
  {
   "cell_type": "markdown",
   "id": "5bdea2b0",
   "metadata": {},
   "source": [
    "# Correlation matrix"
   ]
  },
  {
   "cell_type": "code",
   "execution_count": 74,
   "id": "71f1310f",
   "metadata": {},
   "outputs": [
    {
     "data": {
      "text/plain": [
       "<AxesSubplot:>"
      ]
     },
     "execution_count": 74,
     "metadata": {},
     "output_type": "execute_result"
    },
    {
     "data": {
      "image/png": "[encoded data removed]",
      "text/plain": [
       "<Figure size 640x480 with 2 Axes>"
      ]
     },
     "metadata": {},
     "output_type": "display_data"
    }
   ],
   "source": [
    "sns.heatmap(df.corr(),\n",
    "           annot =  True,\n",
    "           fmt = '.1g',\n",
    "           center = 0,\n",
    "           cmap = 'Reds',\n",
    "           linewidth = 1,\n",
    "           linecolor = 'orange')"
   ]
  },
  {
   "cell_type": "markdown",
   "id": "a9a34938",
   "metadata": {},
   "source": [
    "### Checking for multicolinearity."
   ]
  },
  {
   "cell_type": "markdown",
   "id": "c3e5ab24",
   "metadata": {},
   "source": [
    "# Preparing for logistic regression"
   ]
  },
  {
   "cell_type": "code",
   "execution_count": 75,
   "id": "e2c7cad6",
   "metadata": {},
   "outputs": [
    {
     "data": {
      "text/html": [
       "<div>\n",
       "<style scoped>\n",
       "    .dataframe tbody tr th:only-of-type {\n",
       "        vertical-align: middle;\n",
       "    }\n",
       "\n",
       "    .dataframe tbody tr th {\n",
       "        vertical-align: top;\n",
       "    }\n",
       "\n",
       "    .dataframe thead th {\n",
       "        text-align: right;\n",
       "    }\n",
       "</style>\n",
       "<table border=\"1\" class=\"dataframe\">\n",
       "  <thead>\n",
       "    <tr style=\"text-align: right;\">\n",
       "      <th></th>\n",
       "      <th>crl.tot</th>\n",
       "      <th>dollar</th>\n",
       "      <th>bang</th>\n",
       "      <th>money</th>\n",
       "      <th>n000</th>\n",
       "      <th>make</th>\n",
       "      <th>yesno</th>\n",
       "    </tr>\n",
       "  </thead>\n",
       "  <tbody>\n",
       "    <tr>\n",
       "      <th>0</th>\n",
       "      <td>278</td>\n",
       "      <td>0.00</td>\n",
       "      <td>0.778</td>\n",
       "      <td>0.00</td>\n",
       "      <td>0.00</td>\n",
       "      <td>0.00</td>\n",
       "      <td>1</td>\n",
       "    </tr>\n",
       "    <tr>\n",
       "      <th>1</th>\n",
       "      <td>1028</td>\n",
       "      <td>0.18</td>\n",
       "      <td>0.372</td>\n",
       "      <td>0.43</td>\n",
       "      <td>0.43</td>\n",
       "      <td>0.21</td>\n",
       "      <td>1</td>\n",
       "    </tr>\n",
       "    <tr>\n",
       "      <th>3</th>\n",
       "      <td>191</td>\n",
       "      <td>0.00</td>\n",
       "      <td>0.137</td>\n",
       "      <td>0.00</td>\n",
       "      <td>0.00</td>\n",
       "      <td>0.00</td>\n",
       "      <td>1</td>\n",
       "    </tr>\n",
       "    <tr>\n",
       "      <th>4</th>\n",
       "      <td>191</td>\n",
       "      <td>0.00</td>\n",
       "      <td>0.135</td>\n",
       "      <td>0.00</td>\n",
       "      <td>0.00</td>\n",
       "      <td>0.00</td>\n",
       "      <td>1</td>\n",
       "    </tr>\n",
       "    <tr>\n",
       "      <th>5</th>\n",
       "      <td>54</td>\n",
       "      <td>0.00</td>\n",
       "      <td>0.000</td>\n",
       "      <td>0.00</td>\n",
       "      <td>0.00</td>\n",
       "      <td>0.00</td>\n",
       "      <td>1</td>\n",
       "    </tr>\n",
       "  </tbody>\n",
       "</table>\n",
       "</div>"
      ],
      "text/plain": [
       "   crl.tot  dollar   bang  money  n000  make  yesno\n",
       "0      278    0.00  0.778   0.00  0.00  0.00      1\n",
       "1     1028    0.18  0.372   0.43  0.43  0.21      1\n",
       "3      191    0.00  0.137   0.00  0.00  0.00      1\n",
       "4      191    0.00  0.135   0.00  0.00  0.00      1\n",
       "5       54    0.00  0.000   0.00  0.00  0.00      1"
      ]
     },
     "execution_count": 75,
     "metadata": {},
     "output_type": "execute_result"
    }
   ],
   "source": [
    "df['yesno'] = np.where(df['yesno'] == 'y', 1, 0)\n",
    "df.head()"
   ]
  },
  {
   "cell_type": "code",
   "execution_count": 76,
   "id": "9148e738",
   "metadata": {},
   "outputs": [],
   "source": [
    "y = df.yesno\n",
    "x = df.iloc[:,:-1] #last column excluded\n",
    "x = sm.add_constant(x)"
   ]
  },
  {
   "cell_type": "code",
   "execution_count": 77,
   "id": "722f283b",
   "metadata": {},
   "outputs": [
    {
     "data": {
      "text/plain": [
       "0    1\n",
       "1    1\n",
       "3    1\n",
       "4    1\n",
       "5    1\n",
       "Name: yesno, dtype: int32"
      ]
     },
     "execution_count": 77,
     "metadata": {},
     "output_type": "execute_result"
    }
   ],
   "source": [
    "y.head()"
   ]
  },
  {
   "cell_type": "code",
   "execution_count": 78,
   "id": "25d5bf24",
   "metadata": {},
   "outputs": [
    {
     "data": {
      "text/html": [
       "<div>\n",
       "<style scoped>\n",
       "    .dataframe tbody tr th:only-of-type {\n",
       "        vertical-align: middle;\n",
       "    }\n",
       "\n",
       "    .dataframe tbody tr th {\n",
       "        vertical-align: top;\n",
       "    }\n",
       "\n",
       "    .dataframe thead th {\n",
       "        text-align: right;\n",
       "    }\n",
       "</style>\n",
       "<table border=\"1\" class=\"dataframe\">\n",
       "  <thead>\n",
       "    <tr style=\"text-align: right;\">\n",
       "      <th></th>\n",
       "      <th>const</th>\n",
       "      <th>crl.tot</th>\n",
       "      <th>dollar</th>\n",
       "      <th>bang</th>\n",
       "      <th>money</th>\n",
       "      <th>n000</th>\n",
       "      <th>make</th>\n",
       "    </tr>\n",
       "  </thead>\n",
       "  <tbody>\n",
       "    <tr>\n",
       "      <th>0</th>\n",
       "      <td>1.0</td>\n",
       "      <td>278</td>\n",
       "      <td>0.00</td>\n",
       "      <td>0.778</td>\n",
       "      <td>0.00</td>\n",
       "      <td>0.00</td>\n",
       "      <td>0.00</td>\n",
       "    </tr>\n",
       "    <tr>\n",
       "      <th>1</th>\n",
       "      <td>1.0</td>\n",
       "      <td>1028</td>\n",
       "      <td>0.18</td>\n",
       "      <td>0.372</td>\n",
       "      <td>0.43</td>\n",
       "      <td>0.43</td>\n",
       "      <td>0.21</td>\n",
       "    </tr>\n",
       "    <tr>\n",
       "      <th>3</th>\n",
       "      <td>1.0</td>\n",
       "      <td>191</td>\n",
       "      <td>0.00</td>\n",
       "      <td>0.137</td>\n",
       "      <td>0.00</td>\n",
       "      <td>0.00</td>\n",
       "      <td>0.00</td>\n",
       "    </tr>\n",
       "    <tr>\n",
       "      <th>4</th>\n",
       "      <td>1.0</td>\n",
       "      <td>191</td>\n",
       "      <td>0.00</td>\n",
       "      <td>0.135</td>\n",
       "      <td>0.00</td>\n",
       "      <td>0.00</td>\n",
       "      <td>0.00</td>\n",
       "    </tr>\n",
       "    <tr>\n",
       "      <th>5</th>\n",
       "      <td>1.0</td>\n",
       "      <td>54</td>\n",
       "      <td>0.00</td>\n",
       "      <td>0.000</td>\n",
       "      <td>0.00</td>\n",
       "      <td>0.00</td>\n",
       "      <td>0.00</td>\n",
       "    </tr>\n",
       "  </tbody>\n",
       "</table>\n",
       "</div>"
      ],
      "text/plain": [
       "   const  crl.tot  dollar   bang  money  n000  make\n",
       "0    1.0      278    0.00  0.778   0.00  0.00  0.00\n",
       "1    1.0     1028    0.18  0.372   0.43  0.43  0.21\n",
       "3    1.0      191    0.00  0.137   0.00  0.00  0.00\n",
       "4    1.0      191    0.00  0.135   0.00  0.00  0.00\n",
       "5    1.0       54    0.00  0.000   0.00  0.00  0.00"
      ]
     },
     "execution_count": 78,
     "metadata": {},
     "output_type": "execute_result"
    }
   ],
   "source": [
    "x.head()"
   ]
  },
  {
   "cell_type": "markdown",
   "id": "975a8920",
   "metadata": {},
   "source": [
    "# Train, test, split"
   ]
  },
  {
   "cell_type": "code",
   "execution_count": 79,
   "id": "7ce218b6",
   "metadata": {},
   "outputs": [],
   "source": [
    "from sklearn.model_selection import train_test_split"
   ]
  },
  {
   "cell_type": "code",
   "execution_count": 88,
   "id": "a10f8cd4",
   "metadata": {},
   "outputs": [],
   "source": [
    "x_train, x_test, y_train, y_test = train_test_split(x, y,\n",
    "                                                    test_size = 0.2,\n",
    "                                                    random_state = 1502)"
   ]
  },
  {
   "cell_type": "markdown",
   "id": "a22e4ba6",
   "metadata": {},
   "source": [
    "# Logistic regression"
   ]
  },
  {
   "cell_type": "code",
   "execution_count": 89,
   "id": "818f8500",
   "metadata": {},
   "outputs": [
    {
     "data": {
      "text/plain": [
       "1017    1\n",
       "430     1\n",
       "1277    1\n",
       "3451    0\n",
       "4467    0\n",
       "       ..\n",
       "840     1\n",
       "1049    1\n",
       "483     1\n",
       "4368    0\n",
       "1654    1\n",
       "Name: yesno, Length: 3497, dtype: int32"
      ]
     },
     "execution_count": 89,
     "metadata": {},
     "output_type": "execute_result"
    }
   ],
   "source": [
    "y_train"
   ]
  },
  {
   "cell_type": "code",
   "execution_count": 90,
   "id": "660ba7ef",
   "metadata": {},
   "outputs": [
    {
     "name": "stdout",
     "output_type": "stream",
     "text": [
      "Optimization terminated successfully.\n",
      "         Current function value: 0.402151\n",
      "         Iterations 8\n"
     ]
    }
   ],
   "source": [
    "model = sm.Logit(y_train, x_train).fit()"
   ]
  },
  {
   "cell_type": "code",
   "execution_count": 107,
   "id": "60e37ab6",
   "metadata": {},
   "outputs": [
    {
     "data": {
      "text/html": [
       "<table class=\"simpletable\">\n",
       "<caption>Logit Regression Results</caption>\n",
       "<tr>\n",
       "  <th>Dep. Variable:</th>         <td>yesno</td>      <th>  No. Observations:  </th>  <td>  3497</td> \n",
       "</tr>\n",
       "<tr>\n",
       "  <th>Model:</th>                 <td>Logit</td>      <th>  Df Residuals:      </th>  <td>  3490</td> \n",
       "</tr>\n",
       "<tr>\n",
       "  <th>Method:</th>                 <td>MLE</td>       <th>  Df Model:          </th>  <td>     6</td> \n",
       "</tr>\n",
       "<tr>\n",
       "  <th>Date:</th>            <td>Fri, 09 Jun 2023</td> <th>  Pseudo R-squ.:     </th>  <td>0.3946</td> \n",
       "</tr>\n",
       "<tr>\n",
       "  <th>Time:</th>                <td>08:41:09</td>     <th>  Log-Likelihood:    </th> <td> -1406.3</td>\n",
       "</tr>\n",
       "<tr>\n",
       "  <th>converged:</th>             <td>True</td>       <th>  LL-Null:           </th> <td> -2322.8</td>\n",
       "</tr>\n",
       "<tr>\n",
       "  <th>Covariance Type:</th>     <td>nonrobust</td>    <th>  LLR p-value:       </th>  <td> 0.000</td> \n",
       "</tr>\n",
       "</table>\n",
       "<table class=\"simpletable\">\n",
       "<tr>\n",
       "     <td></td>        <th>coef</th>     <th>std err</th>      <th>z</th>      <th>P>|z|</th>  <th>[0.025</th>    <th>0.975]</th>  \n",
       "</tr>\n",
       "<tr>\n",
       "  <th>const</th>   <td>   -2.1143</td> <td>    0.072</td> <td>  -29.256</td> <td> 0.000</td> <td>   -2.256</td> <td>   -1.973</td>\n",
       "</tr>\n",
       "<tr>\n",
       "  <th>crl.tot</th> <td>    0.0016</td> <td>    0.000</td> <td>    9.039</td> <td> 0.000</td> <td>    0.001</td> <td>    0.002</td>\n",
       "</tr>\n",
       "<tr>\n",
       "  <th>dollar</th>  <td>    6.1255</td> <td>    0.649</td> <td>    9.439</td> <td> 0.000</td> <td>    4.854</td> <td>    7.397</td>\n",
       "</tr>\n",
       "<tr>\n",
       "  <th>bang</th>    <td>    3.1966</td> <td>    0.181</td> <td>   17.626</td> <td> 0.000</td> <td>    2.841</td> <td>    3.552</td>\n",
       "</tr>\n",
       "<tr>\n",
       "  <th>money</th>   <td>    3.4515</td> <td>    0.369</td> <td>    9.349</td> <td> 0.000</td> <td>    2.728</td> <td>    4.175</td>\n",
       "</tr>\n",
       "<tr>\n",
       "  <th>n000</th>    <td>    3.8836</td> <td>    0.481</td> <td>    8.069</td> <td> 0.000</td> <td>    2.940</td> <td>    4.827</td>\n",
       "</tr>\n",
       "<tr>\n",
       "  <th>make</th>    <td>   -0.0931</td> <td>    0.185</td> <td>   -0.504</td> <td> 0.614</td> <td>   -0.455</td> <td>    0.269</td>\n",
       "</tr>\n",
       "</table>"
      ],
      "text/plain": [
       "<class 'statsmodels.iolib.summary.Summary'>\n",
       "\"\"\"\n",
       "                           Logit Regression Results                           \n",
       "==============================================================================\n",
       "Dep. Variable:                  yesno   No. Observations:                 3497\n",
       "Model:                          Logit   Df Residuals:                     3490\n",
       "Method:                           MLE   Df Model:                            6\n",
       "Date:                Fri, 09 Jun 2023   Pseudo R-squ.:                  0.3946\n",
       "Time:                        08:41:09   Log-Likelihood:                -1406.3\n",
       "converged:                       True   LL-Null:                       -2322.8\n",
       "Covariance Type:            nonrobust   LLR p-value:                     0.000\n",
       "==============================================================================\n",
       "                 coef    std err          z      P>|z|      [0.025      0.975]\n",
       "------------------------------------------------------------------------------\n",
       "const         -2.1143      0.072    -29.256      0.000      -2.256      -1.973\n",
       "crl.tot        0.0016      0.000      9.039      0.000       0.001       0.002\n",
       "dollar         6.1255      0.649      9.439      0.000       4.854       7.397\n",
       "bang           3.1966      0.181     17.626      0.000       2.841       3.552\n",
       "money          3.4515      0.369      9.349      0.000       2.728       4.175\n",
       "n000           3.8836      0.481      8.069      0.000       2.940       4.827\n",
       "make          -0.0931      0.185     -0.504      0.614      -0.455       0.269\n",
       "==============================================================================\n",
       "\"\"\""
      ]
     },
     "execution_count": 107,
     "metadata": {},
     "output_type": "execute_result"
    }
   ],
   "source": [
    "model.summary()"
   ]
  },
  {
   "cell_type": "code",
   "execution_count": 127,
   "id": "b0fc84aa",
   "metadata": {},
   "outputs": [
    {
     "data": {
      "text/html": [
       "<div>\n",
       "<style scoped>\n",
       "    .dataframe tbody tr th:only-of-type {\n",
       "        vertical-align: middle;\n",
       "    }\n",
       "\n",
       "    .dataframe tbody tr th {\n",
       "        vertical-align: top;\n",
       "    }\n",
       "\n",
       "    .dataframe thead th {\n",
       "        text-align: right;\n",
       "    }\n",
       "</style>\n",
       "<table border=\"1\" class=\"dataframe\">\n",
       "  <thead>\n",
       "    <tr style=\"text-align: right;\">\n",
       "      <th></th>\n",
       "      <th>coef</th>\n",
       "      <th>std err</th>\n",
       "      <th>z</th>\n",
       "      <th>P&gt;|z|</th>\n",
       "      <th>[0.025</th>\n",
       "      <th>0.975]</th>\n",
       "    </tr>\n",
       "  </thead>\n",
       "  <tbody>\n",
       "    <tr>\n",
       "      <th>const</th>\n",
       "      <td>-2.1143</td>\n",
       "      <td>0.072</td>\n",
       "      <td>-29.256</td>\n",
       "      <td>0.000</td>\n",
       "      <td>-2.256</td>\n",
       "      <td>-1.973</td>\n",
       "    </tr>\n",
       "    <tr>\n",
       "      <th>crl.tot</th>\n",
       "      <td>0.0016</td>\n",
       "      <td>0.000</td>\n",
       "      <td>9.039</td>\n",
       "      <td>0.000</td>\n",
       "      <td>0.001</td>\n",
       "      <td>0.002</td>\n",
       "    </tr>\n",
       "    <tr>\n",
       "      <th>dollar</th>\n",
       "      <td>6.1255</td>\n",
       "      <td>0.649</td>\n",
       "      <td>9.439</td>\n",
       "      <td>0.000</td>\n",
       "      <td>4.854</td>\n",
       "      <td>7.397</td>\n",
       "    </tr>\n",
       "    <tr>\n",
       "      <th>bang</th>\n",
       "      <td>3.1966</td>\n",
       "      <td>0.181</td>\n",
       "      <td>17.626</td>\n",
       "      <td>0.000</td>\n",
       "      <td>2.841</td>\n",
       "      <td>3.552</td>\n",
       "    </tr>\n",
       "    <tr>\n",
       "      <th>money</th>\n",
       "      <td>3.4515</td>\n",
       "      <td>0.369</td>\n",
       "      <td>9.349</td>\n",
       "      <td>0.000</td>\n",
       "      <td>2.728</td>\n",
       "      <td>4.175</td>\n",
       "    </tr>\n",
       "    <tr>\n",
       "      <th>n000</th>\n",
       "      <td>3.8836</td>\n",
       "      <td>0.481</td>\n",
       "      <td>8.069</td>\n",
       "      <td>0.000</td>\n",
       "      <td>2.940</td>\n",
       "      <td>4.827</td>\n",
       "    </tr>\n",
       "    <tr>\n",
       "      <th>make</th>\n",
       "      <td>-0.0931</td>\n",
       "      <td>0.185</td>\n",
       "      <td>-0.504</td>\n",
       "      <td>0.614</td>\n",
       "      <td>-0.455</td>\n",
       "      <td>0.269</td>\n",
       "    </tr>\n",
       "  </tbody>\n",
       "</table>\n",
       "</div>"
      ],
      "text/plain": [
       "           coef  std err       z  P>|z|  [0.025  0.975]\n",
       "const   -2.1143    0.072 -29.256  0.000  -2.256  -1.973\n",
       "crl.tot  0.0016    0.000   9.039  0.000   0.001   0.002\n",
       "dollar   6.1255    0.649   9.439  0.000   4.854   7.397\n",
       "bang     3.1966    0.181  17.626  0.000   2.841   3.552\n",
       "money    3.4515    0.369   9.349  0.000   2.728   4.175\n",
       "n000     3.8836    0.481   8.069  0.000   2.940   4.827\n",
       "make    -0.0931    0.185  -0.504  0.614  -0.455   0.269"
      ]
     },
     "execution_count": 127,
     "metadata": {},
     "output_type": "execute_result"
    }
   ],
   "source": [
    "res = model.summary().tables[1]\n",
    "res_html = res.as_html()\n",
    "res_df = pd.read_html(res_html, header = 0, index_col = 0)[0]\n",
    "res_df"
   ]
  },
  {
   "cell_type": "code",
   "execution_count": 128,
   "id": "59c2224c",
   "metadata": {},
   "outputs": [
    {
     "ename": "KeyError",
     "evalue": "'P'",
     "output_type": "error",
     "traceback": [
      "\u001b[1;31m---------------------------------------------------------------------------\u001b[0m",
      "\u001b[1;31mKeyError\u001b[0m                                  Traceback (most recent call last)",
      "\u001b[1;32m~\\anaconda3\\lib\\site-packages\\pandas\\core\\indexes\\base.py\u001b[0m in \u001b[0;36mget_loc\u001b[1;34m(self, key, method, tolerance)\u001b[0m\n\u001b[0;32m   3628\u001b[0m             \u001b[1;32mtry\u001b[0m\u001b[1;33m:\u001b[0m\u001b[1;33m\u001b[0m\u001b[1;33m\u001b[0m\u001b[0m\n\u001b[1;32m-> 3629\u001b[1;33m                 \u001b[1;32mreturn\u001b[0m \u001b[0mself\u001b[0m\u001b[1;33m.\u001b[0m\u001b[0m_engine\u001b[0m\u001b[1;33m.\u001b[0m\u001b[0mget_loc\u001b[0m\u001b[1;33m(\u001b[0m\u001b[0mcasted_key\u001b[0m\u001b[1;33m)\u001b[0m\u001b[1;33m\u001b[0m\u001b[1;33m\u001b[0m\u001b[0m\n\u001b[0m\u001b[0;32m   3630\u001b[0m             \u001b[1;32mexcept\u001b[0m \u001b[0mKeyError\u001b[0m \u001b[1;32mas\u001b[0m \u001b[0merr\u001b[0m\u001b[1;33m:\u001b[0m\u001b[1;33m\u001b[0m\u001b[1;33m\u001b[0m\u001b[0m\n",
      "\u001b[1;32m~\\anaconda3\\lib\\site-packages\\pandas\\_libs\\index.pyx\u001b[0m in \u001b[0;36mpandas._libs.index.IndexEngine.get_loc\u001b[1;34m()\u001b[0m\n",
      "\u001b[1;32m~\\anaconda3\\lib\\site-packages\\pandas\\_libs\\index.pyx\u001b[0m in \u001b[0;36mpandas._libs.index.IndexEngine.get_loc\u001b[1;34m()\u001b[0m\n",
      "\u001b[1;32mpandas\\_libs\\hashtable_class_helper.pxi\u001b[0m in \u001b[0;36mpandas._libs.hashtable.PyObjectHashTable.get_item\u001b[1;34m()\u001b[0m\n",
      "\u001b[1;32mpandas\\_libs\\hashtable_class_helper.pxi\u001b[0m in \u001b[0;36mpandas._libs.hashtable.PyObjectHashTable.get_item\u001b[1;34m()\u001b[0m\n",
      "\u001b[1;31mKeyError\u001b[0m: 'P'",
      "\nThe above exception was the direct cause of the following exception:\n",
      "\u001b[1;31mKeyError\u001b[0m                                  Traceback (most recent call last)",
      "\u001b[1;32m~\\AppData\\Local\\Temp\\ipykernel_15964\\875045605.py\u001b[0m in \u001b[0;36m<module>\u001b[1;34m\u001b[0m\n\u001b[0;32m      1\u001b[0m \u001b[0mres_df\u001b[0m \u001b[1;33m=\u001b[0m \u001b[0mres_df\u001b[0m\u001b[1;33m.\u001b[0m\u001b[0mrename\u001b[0m\u001b[1;33m(\u001b[0m\u001b[0mcolumns\u001b[0m\u001b[1;33m=\u001b[0m\u001b[1;33m{\u001b[0m\u001b[1;34m\"P>|z|\"\u001b[0m\u001b[1;33m:\u001b[0m \u001b[1;34m\"P\"\u001b[0m\u001b[1;33m}\u001b[0m\u001b[1;33m)\u001b[0m\u001b[1;33m\u001b[0m\u001b[1;33m\u001b[0m\u001b[0m\n\u001b[1;32m----> 2\u001b[1;33m \u001b[0mcoef_df\u001b[0m \u001b[1;33m=\u001b[0m \u001b[0mres_df\u001b[0m\u001b[1;33m.\u001b[0m\u001b[0mloc\u001b[0m\u001b[1;33m[\u001b[0m\u001b[0mdf\u001b[0m\u001b[1;33m[\u001b[0m\u001b[1;34m'P'\u001b[0m\u001b[1;33m]\u001b[0m \u001b[1;33m<\u001b[0m \u001b[1;36m0.05\u001b[0m\u001b[1;33m,\u001b[0m \u001b[1;33m[\u001b[0m\u001b[1;34m'coef'\u001b[0m\u001b[1;33m]\u001b[0m\u001b[1;33m]\u001b[0m\u001b[1;33m\u001b[0m\u001b[1;33m\u001b[0m\u001b[0m\n\u001b[0m\u001b[0;32m      3\u001b[0m \u001b[1;31m#rename column or use index?\u001b[0m\u001b[1;33m\u001b[0m\u001b[1;33m\u001b[0m\u001b[0m\n\u001b[0;32m      4\u001b[0m \u001b[0mcoef_df\u001b[0m\u001b[1;33m\u001b[0m\u001b[1;33m\u001b[0m\u001b[0m\n",
      "\u001b[1;32m~\\anaconda3\\lib\\site-packages\\pandas\\core\\frame.py\u001b[0m in \u001b[0;36m__getitem__\u001b[1;34m(self, key)\u001b[0m\n\u001b[0;32m   3503\u001b[0m             \u001b[1;32mif\u001b[0m \u001b[0mself\u001b[0m\u001b[1;33m.\u001b[0m\u001b[0mcolumns\u001b[0m\u001b[1;33m.\u001b[0m\u001b[0mnlevels\u001b[0m \u001b[1;33m>\u001b[0m \u001b[1;36m1\u001b[0m\u001b[1;33m:\u001b[0m\u001b[1;33m\u001b[0m\u001b[1;33m\u001b[0m\u001b[0m\n\u001b[0;32m   3504\u001b[0m                 \u001b[1;32mreturn\u001b[0m \u001b[0mself\u001b[0m\u001b[1;33m.\u001b[0m\u001b[0m_getitem_multilevel\u001b[0m\u001b[1;33m(\u001b[0m\u001b[0mkey\u001b[0m\u001b[1;33m)\u001b[0m\u001b[1;33m\u001b[0m\u001b[1;33m\u001b[0m\u001b[0m\n\u001b[1;32m-> 3505\u001b[1;33m             \u001b[0mindexer\u001b[0m \u001b[1;33m=\u001b[0m \u001b[0mself\u001b[0m\u001b[1;33m.\u001b[0m\u001b[0mcolumns\u001b[0m\u001b[1;33m.\u001b[0m\u001b[0mget_loc\u001b[0m\u001b[1;33m(\u001b[0m\u001b[0mkey\u001b[0m\u001b[1;33m)\u001b[0m\u001b[1;33m\u001b[0m\u001b[1;33m\u001b[0m\u001b[0m\n\u001b[0m\u001b[0;32m   3506\u001b[0m             \u001b[1;32mif\u001b[0m \u001b[0mis_integer\u001b[0m\u001b[1;33m(\u001b[0m\u001b[0mindexer\u001b[0m\u001b[1;33m)\u001b[0m\u001b[1;33m:\u001b[0m\u001b[1;33m\u001b[0m\u001b[1;33m\u001b[0m\u001b[0m\n\u001b[0;32m   3507\u001b[0m                 \u001b[0mindexer\u001b[0m \u001b[1;33m=\u001b[0m \u001b[1;33m[\u001b[0m\u001b[0mindexer\u001b[0m\u001b[1;33m]\u001b[0m\u001b[1;33m\u001b[0m\u001b[1;33m\u001b[0m\u001b[0m\n",
      "\u001b[1;32m~\\anaconda3\\lib\\site-packages\\pandas\\core\\indexes\\base.py\u001b[0m in \u001b[0;36mget_loc\u001b[1;34m(self, key, method, tolerance)\u001b[0m\n\u001b[0;32m   3629\u001b[0m                 \u001b[1;32mreturn\u001b[0m \u001b[0mself\u001b[0m\u001b[1;33m.\u001b[0m\u001b[0m_engine\u001b[0m\u001b[1;33m.\u001b[0m\u001b[0mget_loc\u001b[0m\u001b[1;33m(\u001b[0m\u001b[0mcasted_key\u001b[0m\u001b[1;33m)\u001b[0m\u001b[1;33m\u001b[0m\u001b[1;33m\u001b[0m\u001b[0m\n\u001b[0;32m   3630\u001b[0m             \u001b[1;32mexcept\u001b[0m \u001b[0mKeyError\u001b[0m \u001b[1;32mas\u001b[0m \u001b[0merr\u001b[0m\u001b[1;33m:\u001b[0m\u001b[1;33m\u001b[0m\u001b[1;33m\u001b[0m\u001b[0m\n\u001b[1;32m-> 3631\u001b[1;33m                 \u001b[1;32mraise\u001b[0m \u001b[0mKeyError\u001b[0m\u001b[1;33m(\u001b[0m\u001b[0mkey\u001b[0m\u001b[1;33m)\u001b[0m \u001b[1;32mfrom\u001b[0m \u001b[0merr\u001b[0m\u001b[1;33m\u001b[0m\u001b[1;33m\u001b[0m\u001b[0m\n\u001b[0m\u001b[0;32m   3632\u001b[0m             \u001b[1;32mexcept\u001b[0m \u001b[0mTypeError\u001b[0m\u001b[1;33m:\u001b[0m\u001b[1;33m\u001b[0m\u001b[1;33m\u001b[0m\u001b[0m\n\u001b[0;32m   3633\u001b[0m                 \u001b[1;31m# If we have a listlike key, _check_indexing_error will raise\u001b[0m\u001b[1;33m\u001b[0m\u001b[1;33m\u001b[0m\u001b[0m\n",
      "\u001b[1;31mKeyError\u001b[0m: 'P'"
     ]
    }
   ],
   "source": [
    "res_df = res_df.rename(columns={\"P>|z|\": \"P\"})\n",
    "coef_df = res_df.loc[df['P'] < 0.05, ['coef']]\n",
    "#rename column or use index? \n",
    "coef_df"
   ]
  },
  {
   "cell_type": "markdown",
   "id": "c962f9ea",
   "metadata": {},
   "source": [
    "# Function for reading coefficients "
   ]
  },
  {
   "cell_type": "markdown",
   "id": "cda8ad62",
   "metadata": {},
   "source": [
    "#### Is this the Odds Ratio (the multiplicative effect of 1 additonal unit of the x variable on the odds of event) ??"
   ]
  },
  {
   "cell_type": "code",
   "execution_count": 100,
   "id": "ee87d334",
   "metadata": {},
   "outputs": [],
   "source": [
    "def logistic_reader(coef):\n",
    "    p = round((np.exp(coef) - 1) * 100, 2)\n",
    "    if p > 0:\n",
    "        print(f\"At coef {coef} the likelihood increases {p}%.\")\n",
    "    elif p == 0:\n",
    "         print(f\"Coef is zero.\")\n",
    "    else: \n",
    "         print(f\"At coef {coef} the likelihood decreases {p}%.\")"
   ]
  },
  {
   "cell_type": "code",
   "execution_count": 101,
   "id": "a7ac2dd1",
   "metadata": {},
   "outputs": [
    {
     "name": "stdout",
     "output_type": "stream",
     "text": [
      "At coef 1 the likelihood increases 171.83%.\n"
     ]
    }
   ],
   "source": [
    "logistic_reader(1)"
   ]
  },
  {
   "cell_type": "code",
   "execution_count": null,
   "id": "ffd18400",
   "metadata": {},
   "outputs": [],
   "source": [
    "#how to extract coef data from summary and produce a table with corresponding percentages? is this useful? \n",
    "\n",
    "#only retaijn coef if the p value is less than 0.05 \n",
    "\n",
    "#Output will be .... Col 1, Col2, Col 3, Var name, Coef, pc change "
   ]
  }
 ],
 "metadata": {
  "kernelspec": {
   "display_name": "Python 3 (ipykernel)",
   "language": "python",
   "name": "python3"
  },
  "language_info": {
   "codemirror_mode": {
    "name": "ipython",
    "version": 3
   },
   "file_extension": ".py",
   "mimetype": "text/x-python",
   "name": "python",
   "nbconvert_exporter": "python",
   "pygments_lexer": "ipython3",
   "version": "3.9.13"
  }
 },
 "nbformat": 4,
 "nbformat_minor": 5
}
