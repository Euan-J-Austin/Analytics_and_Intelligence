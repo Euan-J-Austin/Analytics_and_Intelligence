{
  "nbformat": 4,
  "nbformat_minor": 0,
  "metadata": {
    "colab": {
      "provenance": [],
      "mount_file_id": "1hsy_htdf2KTgTpnmr2pllExGAr_thR7V",
      "authorship_tag": "ABX9TyMcbq6XzgOMjfi/1pAKVsFh",
      "include_colab_link": true
    },
    "kernelspec": {
      "name": "python3",
      "display_name": "Python 3"
    },
    "language_info": {
      "name": "python"
    }
  },
  "cells": [
    {
      "cell_type": "markdown",
      "metadata": {
        "id": "view-in-github",
        "colab_type": "text"
      },
      "source": [
        "<a href=\"https://colab.research.google.com/github/Euan-J-Austin/Analytics_and_Intelligence/blob/main/Matching.ipynb\" target=\"_parent\"><img src=\"https://colab.research.google.com/assets/colab-badge.svg\" alt=\"Open In Colab\"/></a>"
      ]
    },
    {
      "cell_type": "markdown",
      "source": [
        "# MATCHING"
      ],
      "metadata": {
        "id": "qywCbhiSaAQq"
      }
    },
    {
      "cell_type": "markdown",
      "source": [
        "1. No comparable control group, so create one using individuals and entities.\n",
        "\n",
        "2. Helps with (self)-selection bias ... sample not representative of the popultion"
      ],
      "metadata": {
        "id": "kypGolgzaFdq"
      }
    },
    {
      "cell_type": "markdown",
      "source": [
        "## How to value Amazon Prime?\n",
        "\n",
        "Prime is a loyalty program for free shipping, discounts and other services\n",
        "\n",
        "Aims to: (1) Increase customer loyalty, (2) Increase revenue per customer, (3) decrease marketing spend in customer re-activation, (4) decrease paid advertising in conversion."
      ],
      "metadata": {
        "id": "-CXSd_ambkDy"
      }
    },
    {
      "cell_type": "markdown",
      "source": [
        "### Selection\n",
        "\n",
        "Those who use Prime and those who don't are different from the start, so they're not comparable.\n",
        "\n",
        "We need to create a conterfactual control group with characteristics similar to the treatment group.\n",
        "\n",
        "The matching alogithim will form a control group, selecting from the unmatched those most similar to the treatment group.\n"
      ],
      "metadata": {
        "id": "xp-oj7ghcWli"
      }
    },
    {
      "cell_type": "markdown",
      "source": [
        "## Comparing standardized test scores for Catholic and public schools"
      ],
      "metadata": {
        "id": "Wt_BT46-cqfx"
      }
    },
    {
      "cell_type": "markdown",
      "source": [
        "Students at both schools have different backgrounds and upbringing so we will need to create a comparable control group."
      ],
      "metadata": {
        "id": "rCE8dFezdnxL"
      }
    },
    {
      "cell_type": "code",
      "source": [
        "!pip install CausalInference"
      ],
      "metadata": {
        "colab": {
          "base_uri": "https://localhost:8080/"
        },
        "id": "pg1XUWLmf0c1",
        "outputId": "f1378c32-d662-4eaf-f2f2-38e18b13f147"
      },
      "execution_count": 1,
      "outputs": [
        {
          "output_type": "stream",
          "name": "stdout",
          "text": [
            "Looking in indexes: https://pypi.org/simple, https://us-python.pkg.dev/colab-wheels/public/simple/\n",
            "Collecting CausalInference\n",
            "  Downloading CausalInference-0.1.3-py3-none-any.whl (51 kB)\n",
            "\u001b[2K     \u001b[90m━━━━━━━━━━━━━━━━━━━━━━━━━━━━━━━━━━━━━━━━\u001b[0m \u001b[32m51.1/51.1 kB\u001b[0m \u001b[31m2.1 MB/s\u001b[0m eta \u001b[36m0:00:00\u001b[0m\n",
            "\u001b[?25hInstalling collected packages: CausalInference\n",
            "Successfully installed CausalInference-0.1.3\n"
          ]
        }
      ]
    },
    {
      "cell_type": "code",
      "source": [
        "#import libraries\n",
        "import pandas as pd\n",
        "import numpy as np\n",
        "import seaborn as sns\n",
        "import scipy.stats as ss\n",
        "from causalinference import CausalModel"
      ],
      "metadata": {
        "id": "YWjlsfOvgbtc"
      },
      "execution_count": 4,
      "outputs": []
    },
    {
      "cell_type": "code",
      "source": [
        "#Data\n",
        "df = pd.read_csv(\"/content/school.csv\")\n",
        "df = df.iloc[:,1:]\n",
        "df.head()"
      ],
      "metadata": {
        "colab": {
          "base_uri": "https://localhost:8080/",
          "height": 478
        },
        "id": "OBneajkyggF0",
        "outputId": "202af284-3b7a-4a99-8ece-8ed4e0684c9f"
      },
      "execution_count": 6,
      "outputs": [
        {
          "output_type": "execute_result",
          "data": {
            "text/plain": [
              "   catholic                 race  number_places_lived  mom_age  dad_age  \\\n",
              "0         0  WHITE, NON-HISPANIC                    1       47       45   \n",
              "1         0  WHITE, NON-HISPANIC                    1       41       48   \n",
              "2         0  WHITE, NON-HISPANIC                    1       43       55   \n",
              "3         1  WHITE, NON-HISPANIC                    1       38       39   \n",
              "4         0  WHITE, NON-HISPANIC                    1       47       57   \n",
              "\n",
              "                      dad_education                           mom_education  \\\n",
              "0  DOCTORATE OR PROFESSIONAL DEGREE                            SOME COLLEGE   \n",
              "1                 BACHELOR'S DEGREE  GRADUATE/PROFESSIONAL SCHOOL-NO DEGREE   \n",
              "2          MASTER'S DEGREE (MA, MS)  GRADUATE/PROFESSIONAL SCHOOL-NO DEGREE   \n",
              "3                 BACHELOR'S DEGREE  GRADUATE/PROFESSIONAL SCHOOL-NO DEGREE   \n",
              "4  DOCTORATE OR PROFESSIONAL DEGREE                MASTER'S DEGREE (MA, MS)   \n",
              "\n",
              "   mom_score  dad_score    income  poverty  food_stamps  score_standardized  \n",
              "0      53.50       77.5   62500.5        0            0            0.981753  \n",
              "1      34.95       53.5   45000.5        0            0            0.594378  \n",
              "2      63.43       53.5   62500.5        0            0            0.490611  \n",
              "3      53.50       53.5   87500.5        0            0            1.451278  \n",
              "4      61.56       77.5  150000.5        0            0            2.595699  "
            ],
            "text/html": [
              "\n",
              "  <div id=\"df-64f7b752-8b62-4c1a-84b4-6aee4ed5fe30\">\n",
              "    <div class=\"colab-df-container\">\n",
              "      <div>\n",
              "<style scoped>\n",
              "    .dataframe tbody tr th:only-of-type {\n",
              "        vertical-align: middle;\n",
              "    }\n",
              "\n",
              "    .dataframe tbody tr th {\n",
              "        vertical-align: top;\n",
              "    }\n",
              "\n",
              "    .dataframe thead th {\n",
              "        text-align: right;\n",
              "    }\n",
              "</style>\n",
              "<table border=\"1\" class=\"dataframe\">\n",
              "  <thead>\n",
              "    <tr style=\"text-align: right;\">\n",
              "      <th></th>\n",
              "      <th>catholic</th>\n",
              "      <th>race</th>\n",
              "      <th>number_places_lived</th>\n",
              "      <th>mom_age</th>\n",
              "      <th>dad_age</th>\n",
              "      <th>dad_education</th>\n",
              "      <th>mom_education</th>\n",
              "      <th>mom_score</th>\n",
              "      <th>dad_score</th>\n",
              "      <th>income</th>\n",
              "      <th>poverty</th>\n",
              "      <th>food_stamps</th>\n",
              "      <th>score_standardized</th>\n",
              "    </tr>\n",
              "  </thead>\n",
              "  <tbody>\n",
              "    <tr>\n",
              "      <th>0</th>\n",
              "      <td>0</td>\n",
              "      <td>WHITE, NON-HISPANIC</td>\n",
              "      <td>1</td>\n",
              "      <td>47</td>\n",
              "      <td>45</td>\n",
              "      <td>DOCTORATE OR PROFESSIONAL DEGREE</td>\n",
              "      <td>SOME COLLEGE</td>\n",
              "      <td>53.50</td>\n",
              "      <td>77.5</td>\n",
              "      <td>62500.5</td>\n",
              "      <td>0</td>\n",
              "      <td>0</td>\n",
              "      <td>0.981753</td>\n",
              "    </tr>\n",
              "    <tr>\n",
              "      <th>1</th>\n",
              "      <td>0</td>\n",
              "      <td>WHITE, NON-HISPANIC</td>\n",
              "      <td>1</td>\n",
              "      <td>41</td>\n",
              "      <td>48</td>\n",
              "      <td>BACHELOR'S DEGREE</td>\n",
              "      <td>GRADUATE/PROFESSIONAL SCHOOL-NO DEGREE</td>\n",
              "      <td>34.95</td>\n",
              "      <td>53.5</td>\n",
              "      <td>45000.5</td>\n",
              "      <td>0</td>\n",
              "      <td>0</td>\n",
              "      <td>0.594378</td>\n",
              "    </tr>\n",
              "    <tr>\n",
              "      <th>2</th>\n",
              "      <td>0</td>\n",
              "      <td>WHITE, NON-HISPANIC</td>\n",
              "      <td>1</td>\n",
              "      <td>43</td>\n",
              "      <td>55</td>\n",
              "      <td>MASTER'S DEGREE (MA, MS)</td>\n",
              "      <td>GRADUATE/PROFESSIONAL SCHOOL-NO DEGREE</td>\n",
              "      <td>63.43</td>\n",
              "      <td>53.5</td>\n",
              "      <td>62500.5</td>\n",
              "      <td>0</td>\n",
              "      <td>0</td>\n",
              "      <td>0.490611</td>\n",
              "    </tr>\n",
              "    <tr>\n",
              "      <th>3</th>\n",
              "      <td>1</td>\n",
              "      <td>WHITE, NON-HISPANIC</td>\n",
              "      <td>1</td>\n",
              "      <td>38</td>\n",
              "      <td>39</td>\n",
              "      <td>BACHELOR'S DEGREE</td>\n",
              "      <td>GRADUATE/PROFESSIONAL SCHOOL-NO DEGREE</td>\n",
              "      <td>53.50</td>\n",
              "      <td>53.5</td>\n",
              "      <td>87500.5</td>\n",
              "      <td>0</td>\n",
              "      <td>0</td>\n",
              "      <td>1.451278</td>\n",
              "    </tr>\n",
              "    <tr>\n",
              "      <th>4</th>\n",
              "      <td>0</td>\n",
              "      <td>WHITE, NON-HISPANIC</td>\n",
              "      <td>1</td>\n",
              "      <td>47</td>\n",
              "      <td>57</td>\n",
              "      <td>DOCTORATE OR PROFESSIONAL DEGREE</td>\n",
              "      <td>MASTER'S DEGREE (MA, MS)</td>\n",
              "      <td>61.56</td>\n",
              "      <td>77.5</td>\n",
              "      <td>150000.5</td>\n",
              "      <td>0</td>\n",
              "      <td>0</td>\n",
              "      <td>2.595699</td>\n",
              "    </tr>\n",
              "  </tbody>\n",
              "</table>\n",
              "</div>\n",
              "      <button class=\"colab-df-convert\" onclick=\"convertToInteractive('df-64f7b752-8b62-4c1a-84b4-6aee4ed5fe30')\"\n",
              "              title=\"Convert this dataframe to an interactive table.\"\n",
              "              style=\"display:none;\">\n",
              "        \n",
              "  <svg xmlns=\"http://www.w3.org/2000/svg\" height=\"24px\"viewBox=\"0 0 24 24\"\n",
              "       width=\"24px\">\n",
              "    <path d=\"M0 0h24v24H0V0z\" fill=\"none\"/>\n",
              "    <path d=\"M18.56 5.44l.94 2.06.94-2.06 2.06-.94-2.06-.94-.94-2.06-.94 2.06-2.06.94zm-11 1L8.5 8.5l.94-2.06 2.06-.94-2.06-.94L8.5 2.5l-.94 2.06-2.06.94zm10 10l.94 2.06.94-2.06 2.06-.94-2.06-.94-.94-2.06-.94 2.06-2.06.94z\"/><path d=\"M17.41 7.96l-1.37-1.37c-.4-.4-.92-.59-1.43-.59-.52 0-1.04.2-1.43.59L10.3 9.45l-7.72 7.72c-.78.78-.78 2.05 0 2.83L4 21.41c.39.39.9.59 1.41.59.51 0 1.02-.2 1.41-.59l7.78-7.78 2.81-2.81c.8-.78.8-2.07 0-2.86zM5.41 20L4 18.59l7.72-7.72 1.47 1.35L5.41 20z\"/>\n",
              "  </svg>\n",
              "      </button>\n",
              "      \n",
              "  <style>\n",
              "    .colab-df-container {\n",
              "      display:flex;\n",
              "      flex-wrap:wrap;\n",
              "      gap: 12px;\n",
              "    }\n",
              "\n",
              "    .colab-df-convert {\n",
              "      background-color: #E8F0FE;\n",
              "      border: none;\n",
              "      border-radius: 50%;\n",
              "      cursor: pointer;\n",
              "      display: none;\n",
              "      fill: #1967D2;\n",
              "      height: 32px;\n",
              "      padding: 0 0 0 0;\n",
              "      width: 32px;\n",
              "    }\n",
              "\n",
              "    .colab-df-convert:hover {\n",
              "      background-color: #E2EBFA;\n",
              "      box-shadow: 0px 1px 2px rgba(60, 64, 67, 0.3), 0px 1px 3px 1px rgba(60, 64, 67, 0.15);\n",
              "      fill: #174EA6;\n",
              "    }\n",
              "\n",
              "    [theme=dark] .colab-df-convert {\n",
              "      background-color: #3B4455;\n",
              "      fill: #D2E3FC;\n",
              "    }\n",
              "\n",
              "    [theme=dark] .colab-df-convert:hover {\n",
              "      background-color: #434B5C;\n",
              "      box-shadow: 0px 1px 3px 1px rgba(0, 0, 0, 0.15);\n",
              "      filter: drop-shadow(0px 1px 2px rgba(0, 0, 0, 0.3));\n",
              "      fill: #FFFFFF;\n",
              "    }\n",
              "  </style>\n",
              "\n",
              "      <script>\n",
              "        const buttonEl =\n",
              "          document.querySelector('#df-64f7b752-8b62-4c1a-84b4-6aee4ed5fe30 button.colab-df-convert');\n",
              "        buttonEl.style.display =\n",
              "          google.colab.kernel.accessAllowed ? 'block' : 'none';\n",
              "\n",
              "        async function convertToInteractive(key) {\n",
              "          const element = document.querySelector('#df-64f7b752-8b62-4c1a-84b4-6aee4ed5fe30');\n",
              "          const dataTable =\n",
              "            await google.colab.kernel.invokeFunction('convertToInteractive',\n",
              "                                                     [key], {});\n",
              "          if (!dataTable) return;\n",
              "\n",
              "          const docLinkHtml = 'Like what you see? Visit the ' +\n",
              "            '<a target=\"_blank\" href=https://colab.research.google.com/notebooks/data_table.ipynb>data table notebook</a>'\n",
              "            + ' to learn more about interactive tables.';\n",
              "          element.innerHTML = '';\n",
              "          dataTable['output_type'] = 'display_data';\n",
              "          await google.colab.output.renderOutput(dataTable, element);\n",
              "          const docLink = document.createElement('div');\n",
              "          docLink.innerHTML = docLinkHtml;\n",
              "          element.appendChild(docLink);\n",
              "        }\n",
              "      </script>\n",
              "    </div>\n",
              "  </div>\n",
              "  "
            ]
          },
          "metadata": {},
          "execution_count": 6
        }
      ]
    },
    {
      "cell_type": "markdown",
      "source": [
        "## Unconfoundedness"
      ],
      "metadata": {
        "id": "2IaRo_pBiI0n"
      }
    },
    {
      "cell_type": "markdown",
      "source": [
        "The variables (confounders) used accurately represent the people or entities (W). \n",
        "\n",
        "The characteristics affect the likelihood of someone being part of the treatment (X)\n",
        "\n",
        "The combination of confounders and the treatment leads to the outcome (Y)\n",
        "\n",
        "The ASSUMPTION of unconfoundedness is a tall order, minimising (self-)selection bias requires great effort ... difficult to allocate metrics to fully represent people"
      ],
      "metadata": {
        "id": "hc9VJ6BwiNFV"
      }
    },
    {
      "cell_type": "markdown",
      "source": [
        "## Data Analysis"
      ],
      "metadata": {
        "id": "-kI9D8ULjX-X"
      }
    },
    {
      "cell_type": "markdown",
      "source": [
        "### Compring the averages of both groups`\n"
      ],
      "metadata": {
        "id": "dDZ04hJMjbGL"
      }
    },
    {
      "cell_type": "code",
      "source": [
        "df.groupby('catholic').mean()"
      ],
      "metadata": {
        "colab": {
          "base_uri": "https://localhost:8080/",
          "height": 198
        },
        "id": "ghl79M-ujguv",
        "outputId": "f73582a9-1bc0-44d9-97af-ca5dad9fde7d"
      },
      "execution_count": 7,
      "outputs": [
        {
          "output_type": "stream",
          "name": "stderr",
          "text": [
            "<ipython-input-7-f0bef2010b81>:1: FutureWarning: The default value of numeric_only in DataFrameGroupBy.mean is deprecated. In a future version, numeric_only will default to False. Either specify numeric_only or select only columns which should be valid for the function.\n",
            "  df.groupby('catholic').mean()\n"
          ]
        },
        {
          "output_type": "execute_result",
          "data": {
            "text/plain": [
              "          number_places_lived    mom_age    dad_age  mom_score  dad_score  \\\n",
              "catholic                                                                    \n",
              "0                    1.106246  37.794621  40.134919  43.909495  42.590520   \n",
              "1                    1.073118  39.775269  42.007527  47.620871  45.908269   \n",
              "\n",
              "                income   poverty  food_stamps  score_standardized  \n",
              "catholic                                                           \n",
              "0         65393.928540  0.101578     0.045566            0.163128  \n",
              "1         86180.625269  0.016129     0.006452            0.219685  "
            ],
            "text/html": [
              "\n",
              "  <div id=\"df-e4f4a299-9edf-4b46-8538-b281da061555\">\n",
              "    <div class=\"colab-df-container\">\n",
              "      <div>\n",
              "<style scoped>\n",
              "    .dataframe tbody tr th:only-of-type {\n",
              "        vertical-align: middle;\n",
              "    }\n",
              "\n",
              "    .dataframe tbody tr th {\n",
              "        vertical-align: top;\n",
              "    }\n",
              "\n",
              "    .dataframe thead th {\n",
              "        text-align: right;\n",
              "    }\n",
              "</style>\n",
              "<table border=\"1\" class=\"dataframe\">\n",
              "  <thead>\n",
              "    <tr style=\"text-align: right;\">\n",
              "      <th></th>\n",
              "      <th>number_places_lived</th>\n",
              "      <th>mom_age</th>\n",
              "      <th>dad_age</th>\n",
              "      <th>mom_score</th>\n",
              "      <th>dad_score</th>\n",
              "      <th>income</th>\n",
              "      <th>poverty</th>\n",
              "      <th>food_stamps</th>\n",
              "      <th>score_standardized</th>\n",
              "    </tr>\n",
              "    <tr>\n",
              "      <th>catholic</th>\n",
              "      <th></th>\n",
              "      <th></th>\n",
              "      <th></th>\n",
              "      <th></th>\n",
              "      <th></th>\n",
              "      <th></th>\n",
              "      <th></th>\n",
              "      <th></th>\n",
              "      <th></th>\n",
              "    </tr>\n",
              "  </thead>\n",
              "  <tbody>\n",
              "    <tr>\n",
              "      <th>0</th>\n",
              "      <td>1.106246</td>\n",
              "      <td>37.794621</td>\n",
              "      <td>40.134919</td>\n",
              "      <td>43.909495</td>\n",
              "      <td>42.590520</td>\n",
              "      <td>65393.928540</td>\n",
              "      <td>0.101578</td>\n",
              "      <td>0.045566</td>\n",
              "      <td>0.163128</td>\n",
              "    </tr>\n",
              "    <tr>\n",
              "      <th>1</th>\n",
              "      <td>1.073118</td>\n",
              "      <td>39.775269</td>\n",
              "      <td>42.007527</td>\n",
              "      <td>47.620871</td>\n",
              "      <td>45.908269</td>\n",
              "      <td>86180.625269</td>\n",
              "      <td>0.016129</td>\n",
              "      <td>0.006452</td>\n",
              "      <td>0.219685</td>\n",
              "    </tr>\n",
              "  </tbody>\n",
              "</table>\n",
              "</div>\n",
              "      <button class=\"colab-df-convert\" onclick=\"convertToInteractive('df-e4f4a299-9edf-4b46-8538-b281da061555')\"\n",
              "              title=\"Convert this dataframe to an interactive table.\"\n",
              "              style=\"display:none;\">\n",
              "        \n",
              "  <svg xmlns=\"http://www.w3.org/2000/svg\" height=\"24px\"viewBox=\"0 0 24 24\"\n",
              "       width=\"24px\">\n",
              "    <path d=\"M0 0h24v24H0V0z\" fill=\"none\"/>\n",
              "    <path d=\"M18.56 5.44l.94 2.06.94-2.06 2.06-.94-2.06-.94-.94-2.06-.94 2.06-2.06.94zm-11 1L8.5 8.5l.94-2.06 2.06-.94-2.06-.94L8.5 2.5l-.94 2.06-2.06.94zm10 10l.94 2.06.94-2.06 2.06-.94-2.06-.94-.94-2.06-.94 2.06-2.06.94z\"/><path d=\"M17.41 7.96l-1.37-1.37c-.4-.4-.92-.59-1.43-.59-.52 0-1.04.2-1.43.59L10.3 9.45l-7.72 7.72c-.78.78-.78 2.05 0 2.83L4 21.41c.39.39.9.59 1.41.59.51 0 1.02-.2 1.41-.59l7.78-7.78 2.81-2.81c.8-.78.8-2.07 0-2.86zM5.41 20L4 18.59l7.72-7.72 1.47 1.35L5.41 20z\"/>\n",
              "  </svg>\n",
              "      </button>\n",
              "      \n",
              "  <style>\n",
              "    .colab-df-container {\n",
              "      display:flex;\n",
              "      flex-wrap:wrap;\n",
              "      gap: 12px;\n",
              "    }\n",
              "\n",
              "    .colab-df-convert {\n",
              "      background-color: #E8F0FE;\n",
              "      border: none;\n",
              "      border-radius: 50%;\n",
              "      cursor: pointer;\n",
              "      display: none;\n",
              "      fill: #1967D2;\n",
              "      height: 32px;\n",
              "      padding: 0 0 0 0;\n",
              "      width: 32px;\n",
              "    }\n",
              "\n",
              "    .colab-df-convert:hover {\n",
              "      background-color: #E2EBFA;\n",
              "      box-shadow: 0px 1px 2px rgba(60, 64, 67, 0.3), 0px 1px 3px 1px rgba(60, 64, 67, 0.15);\n",
              "      fill: #174EA6;\n",
              "    }\n",
              "\n",
              "    [theme=dark] .colab-df-convert {\n",
              "      background-color: #3B4455;\n",
              "      fill: #D2E3FC;\n",
              "    }\n",
              "\n",
              "    [theme=dark] .colab-df-convert:hover {\n",
              "      background-color: #434B5C;\n",
              "      box-shadow: 0px 1px 3px 1px rgba(0, 0, 0, 0.15);\n",
              "      filter: drop-shadow(0px 1px 2px rgba(0, 0, 0, 0.3));\n",
              "      fill: #FFFFFF;\n",
              "    }\n",
              "  </style>\n",
              "\n",
              "      <script>\n",
              "        const buttonEl =\n",
              "          document.querySelector('#df-e4f4a299-9edf-4b46-8538-b281da061555 button.colab-df-convert');\n",
              "        buttonEl.style.display =\n",
              "          google.colab.kernel.accessAllowed ? 'block' : 'none';\n",
              "\n",
              "        async function convertToInteractive(key) {\n",
              "          const element = document.querySelector('#df-e4f4a299-9edf-4b46-8538-b281da061555');\n",
              "          const dataTable =\n",
              "            await google.colab.kernel.invokeFunction('convertToInteractive',\n",
              "                                                     [key], {});\n",
              "          if (!dataTable) return;\n",
              "\n",
              "          const docLinkHtml = 'Like what you see? Visit the ' +\n",
              "            '<a target=\"_blank\" href=https://colab.research.google.com/notebooks/data_table.ipynb>data table notebook</a>'\n",
              "            + ' to learn more about interactive tables.';\n",
              "          element.innerHTML = '';\n",
              "          dataTable['output_type'] = 'display_data';\n",
              "          await google.colab.output.renderOutput(dataTable, element);\n",
              "          const docLink = document.createElement('div');\n",
              "          docLink.innerHTML = docLinkHtml;\n",
              "          element.appendChild(docLink);\n",
              "        }\n",
              "      </script>\n",
              "    </div>\n",
              "  </div>\n",
              "  "
            ]
          },
          "metadata": {},
          "execution_count": 7
        }
      ]
    },
    {
      "cell_type": "markdown",
      "source": [
        "### Are the differences between the averages statistically significant?"
      ],
      "metadata": {
        "id": "TUUWyt8Ok8uh"
      }
    },
    {
      "cell_type": "markdown",
      "source": [
        "#### Using the T-Test for continuous variables"
      ],
      "metadata": {
        "id": "wF7rjia-Pog-"
      }
    },
    {
      "cell_type": "code",
      "source": [
        "#t-test\n",
        "\n",
        "#Here, and it's most common application, are testing whether the means of two populations are different \n",
        "\n",
        "#H0 is the difference between the two means is not statistically significant\n",
        "\n",
        "#t-test can be used when sample size is more than 30 ... https://stats.stackexchange.com/questions/78961/t-test-for-more-than-30-samples\n",
        "\n",
        "group1 = df.where(df.catholic == 0).dropna()['income']\n",
        "\n",
        "group2 = df.where(df.catholic == 1).dropna()['income']"
      ],
      "metadata": {
        "id": "FFQP2a4YlCzX"
      },
      "execution_count": 8,
      "outputs": []
    },
    {
      "cell_type": "code",
      "source": [
        "tstat, p = ss.ttest_ind(group1, group2)\n",
        "\n",
        "print(p)\n",
        "\n",
        "#so the difference b/w the two groups' income is statistically significant "
      ],
      "metadata": {
        "colab": {
          "base_uri": "https://localhost:8080/"
        },
        "id": "lL4QIDfxnnQ5",
        "outputId": "5e08dbeb-2b35-4c06-9ee1-afec0c0637ed"
      },
      "execution_count": 9,
      "outputs": [
        {
          "output_type": "stream",
          "name": "stdout",
          "text": [
            "5.943636213205364e-41\n"
          ]
        }
      ]
    },
    {
      "cell_type": "code",
      "source": [
        "#can only t-test continuous \n",
        "\n",
        "continuous = ['number_places_lived', 'mom_age', 'dad_age', 'mom_score', 'dad_score', 'income']\n",
        "\n",
        "stat = {}\n",
        "p = {}\n",
        "\n",
        "for x in continuous:\n",
        "  group1 = df.where(df.catholic == 0).dropna()[x]\n",
        "  group2 = df.where(df.catholic == 1).dropna()[x]\n",
        "  stat[x], p[x] = ss.ttest_ind(group1, group2)\n",
        "\n",
        "print(stat)\n",
        "print(p)"
      ],
      "metadata": {
        "colab": {
          "base_uri": "https://localhost:8080/"
        },
        "id": "TJC5MWPfKnwW",
        "outputId": "a9e58cfa-7adc-4408-cb06-95dd93e285d9"
      },
      "execution_count": 10,
      "outputs": [
        {
          "output_type": "stream",
          "name": "stdout",
          "text": [
            "{'number_places_lived': 2.6944305286994696, 'mom_age': -9.824653649822254, 'dad_age': -8.18569031271562, 'mom_score': -9.032982766824812, 'dad_score': -8.672932116270957, 'income': -13.513541496069346}\n",
            "{'number_places_lived': 0.007072608561784237, 'mom_age': 1.3594922471501544e-22, 'dad_age': 3.344265345899021e-16, 'mom_score': 2.280116071188206e-19, 'dad_score': 5.4897222068833424e-18, 'income': 5.943636213205364e-41}\n"
          ]
        }
      ]
    },
    {
      "cell_type": "code",
      "source": [
        "ttests = pd.DataFrame.from_dict(p, orient = \"Index\")\n",
        "ttests.columns = [\"pvalue\"]\n",
        "print(ttests)"
      ],
      "metadata": {
        "colab": {
          "base_uri": "https://localhost:8080/"
        },
        "id": "ilQBbRurO9D0",
        "outputId": "c1a2707d-1413-40dd-8389-1e84d3b02885"
      },
      "execution_count": 11,
      "outputs": [
        {
          "output_type": "stream",
          "name": "stdout",
          "text": [
            "                           pvalue\n",
            "number_places_lived  7.072609e-03\n",
            "mom_age              1.359492e-22\n",
            "dad_age              3.344265e-16\n",
            "mom_score            2.280116e-19\n",
            "dad_score            5.489722e-18\n",
            "income               5.943636e-41\n"
          ]
        }
      ]
    },
    {
      "cell_type": "code",
      "source": [
        "#The difference between the means of the Catholic and non-Catholic groups are statistically significant"
      ],
      "metadata": {
        "id": "ZKxqsWJbPP9F"
      },
      "execution_count": 12,
      "outputs": []
    },
    {
      "cell_type": "markdown",
      "source": [
        "#### Using the Chi-Squared test for binary variables"
      ],
      "metadata": {
        "id": "nA9SOv9GPW8y"
      }
    },
    {
      "cell_type": "code",
      "source": [
        "tab = pd.crosstab(index = df.poverty,\n",
        "            columns = df.catholic)\n",
        "\n",
        "tab"
      ],
      "metadata": {
        "colab": {
          "base_uri": "https://localhost:8080/",
          "height": 143
        },
        "id": "Zqn1UIyTQDq7",
        "outputId": "32c2d88e-ad9b-47d9-bae4-2509bb2d5812"
      },
      "execution_count": 13,
      "outputs": [
        {
          "output_type": "execute_result",
          "data": {
            "text/plain": [
              "catholic     0    1\n",
              "poverty            \n",
              "0         4042  915\n",
              "1          457   15"
            ],
            "text/html": [
              "\n",
              "  <div id=\"df-120cd2f3-e003-4452-baed-24dc7fb0212c\">\n",
              "    <div class=\"colab-df-container\">\n",
              "      <div>\n",
              "<style scoped>\n",
              "    .dataframe tbody tr th:only-of-type {\n",
              "        vertical-align: middle;\n",
              "    }\n",
              "\n",
              "    .dataframe tbody tr th {\n",
              "        vertical-align: top;\n",
              "    }\n",
              "\n",
              "    .dataframe thead th {\n",
              "        text-align: right;\n",
              "    }\n",
              "</style>\n",
              "<table border=\"1\" class=\"dataframe\">\n",
              "  <thead>\n",
              "    <tr style=\"text-align: right;\">\n",
              "      <th>catholic</th>\n",
              "      <th>0</th>\n",
              "      <th>1</th>\n",
              "    </tr>\n",
              "    <tr>\n",
              "      <th>poverty</th>\n",
              "      <th></th>\n",
              "      <th></th>\n",
              "    </tr>\n",
              "  </thead>\n",
              "  <tbody>\n",
              "    <tr>\n",
              "      <th>0</th>\n",
              "      <td>4042</td>\n",
              "      <td>915</td>\n",
              "    </tr>\n",
              "    <tr>\n",
              "      <th>1</th>\n",
              "      <td>457</td>\n",
              "      <td>15</td>\n",
              "    </tr>\n",
              "  </tbody>\n",
              "</table>\n",
              "</div>\n",
              "      <button class=\"colab-df-convert\" onclick=\"convertToInteractive('df-120cd2f3-e003-4452-baed-24dc7fb0212c')\"\n",
              "              title=\"Convert this dataframe to an interactive table.\"\n",
              "              style=\"display:none;\">\n",
              "        \n",
              "  <svg xmlns=\"http://www.w3.org/2000/svg\" height=\"24px\"viewBox=\"0 0 24 24\"\n",
              "       width=\"24px\">\n",
              "    <path d=\"M0 0h24v24H0V0z\" fill=\"none\"/>\n",
              "    <path d=\"M18.56 5.44l.94 2.06.94-2.06 2.06-.94-2.06-.94-.94-2.06-.94 2.06-2.06.94zm-11 1L8.5 8.5l.94-2.06 2.06-.94-2.06-.94L8.5 2.5l-.94 2.06-2.06.94zm10 10l.94 2.06.94-2.06 2.06-.94-2.06-.94-.94-2.06-.94 2.06-2.06.94z\"/><path d=\"M17.41 7.96l-1.37-1.37c-.4-.4-.92-.59-1.43-.59-.52 0-1.04.2-1.43.59L10.3 9.45l-7.72 7.72c-.78.78-.78 2.05 0 2.83L4 21.41c.39.39.9.59 1.41.59.51 0 1.02-.2 1.41-.59l7.78-7.78 2.81-2.81c.8-.78.8-2.07 0-2.86zM5.41 20L4 18.59l7.72-7.72 1.47 1.35L5.41 20z\"/>\n",
              "  </svg>\n",
              "      </button>\n",
              "      \n",
              "  <style>\n",
              "    .colab-df-container {\n",
              "      display:flex;\n",
              "      flex-wrap:wrap;\n",
              "      gap: 12px;\n",
              "    }\n",
              "\n",
              "    .colab-df-convert {\n",
              "      background-color: #E8F0FE;\n",
              "      border: none;\n",
              "      border-radius: 50%;\n",
              "      cursor: pointer;\n",
              "      display: none;\n",
              "      fill: #1967D2;\n",
              "      height: 32px;\n",
              "      padding: 0 0 0 0;\n",
              "      width: 32px;\n",
              "    }\n",
              "\n",
              "    .colab-df-convert:hover {\n",
              "      background-color: #E2EBFA;\n",
              "      box-shadow: 0px 1px 2px rgba(60, 64, 67, 0.3), 0px 1px 3px 1px rgba(60, 64, 67, 0.15);\n",
              "      fill: #174EA6;\n",
              "    }\n",
              "\n",
              "    [theme=dark] .colab-df-convert {\n",
              "      background-color: #3B4455;\n",
              "      fill: #D2E3FC;\n",
              "    }\n",
              "\n",
              "    [theme=dark] .colab-df-convert:hover {\n",
              "      background-color: #434B5C;\n",
              "      box-shadow: 0px 1px 3px 1px rgba(0, 0, 0, 0.15);\n",
              "      filter: drop-shadow(0px 1px 2px rgba(0, 0, 0, 0.3));\n",
              "      fill: #FFFFFF;\n",
              "    }\n",
              "  </style>\n",
              "\n",
              "      <script>\n",
              "        const buttonEl =\n",
              "          document.querySelector('#df-120cd2f3-e003-4452-baed-24dc7fb0212c button.colab-df-convert');\n",
              "        buttonEl.style.display =\n",
              "          google.colab.kernel.accessAllowed ? 'block' : 'none';\n",
              "\n",
              "        async function convertToInteractive(key) {\n",
              "          const element = document.querySelector('#df-120cd2f3-e003-4452-baed-24dc7fb0212c');\n",
              "          const dataTable =\n",
              "            await google.colab.kernel.invokeFunction('convertToInteractive',\n",
              "                                                     [key], {});\n",
              "          if (!dataTable) return;\n",
              "\n",
              "          const docLinkHtml = 'Like what you see? Visit the ' +\n",
              "            '<a target=\"_blank\" href=https://colab.research.google.com/notebooks/data_table.ipynb>data table notebook</a>'\n",
              "            + ' to learn more about interactive tables.';\n",
              "          element.innerHTML = '';\n",
              "          dataTable['output_type'] = 'display_data';\n",
              "          await google.colab.output.renderOutput(dataTable, element);\n",
              "          const docLink = document.createElement('div');\n",
              "          docLink.innerHTML = docLinkHtml;\n",
              "          element.appendChild(docLink);\n",
              "        }\n",
              "      </script>\n",
              "    </div>\n",
              "  </div>\n",
              "  "
            ]
          },
          "metadata": {},
          "execution_count": 13
        }
      ]
    },
    {
      "cell_type": "code",
      "source": [
        "stats, p, dof, exp_freq = ss.chi2_contingency(tab)\n",
        "print(p)"
      ],
      "metadata": {
        "colab": {
          "base_uri": "https://localhost:8080/"
        },
        "id": "zVasLRjcQcqp",
        "outputId": "9e21320c-7eef-45dd-a393-79c29db98429"
      },
      "execution_count": 14,
      "outputs": [
        {
          "output_type": "stream",
          "name": "stdout",
          "text": [
            "6.511354893726035e-17\n"
          ]
        }
      ]
    },
    {
      "cell_type": "code",
      "source": [
        "#So in relation to the binary variable difference is statistically significant"
      ],
      "metadata": {
        "id": "0EVAoy0zRFlf"
      },
      "execution_count": 15,
      "outputs": []
    },
    {
      "cell_type": "code",
      "source": [
        "#what to loop\n",
        "categorical = [\"poverty\", \"food_stamps\"]\n",
        "\n",
        "#where to store\n",
        "p = {}\n",
        "\n",
        "#loop\n",
        "for y in categorical:\n",
        "  tab = pd.crosstab(index = df[y],\n",
        "                  columns = df.catholic)\n",
        "  stat, p[y], dof, exp = ss.chi2_contingency(tab)\n",
        "chisquare = pd.DataFrame.from_dict(p, orient = \"Index\")\n",
        "chisquare.columns = [\"pvalue\"]\n",
        "print(chisquare)"
      ],
      "metadata": {
        "colab": {
          "base_uri": "https://localhost:8080/"
        },
        "id": "Hp6pE8O6RP5L",
        "outputId": "c718f3be-1d9f-4840-bca7-bba1676aea5a"
      },
      "execution_count": 16,
      "outputs": [
        {
          "output_type": "stream",
          "name": "stdout",
          "text": [
            "                   pvalue\n",
            "poverty      6.511355e-17\n",
            "food_stamps  3.294153e-08\n"
          ]
        }
      ]
    },
    {
      "cell_type": "code",
      "source": [
        "#there exists a close relationship between non-/Catholic and poverty, food stamps so\n",
        "#the groups are not compatible"
      ],
      "metadata": {
        "id": "Gwfu51tYT8kl"
      },
      "execution_count": 17,
      "outputs": []
    },
    {
      "cell_type": "markdown",
      "source": [
        "### The Curse of Dimensionality"
      ],
      "metadata": {
        "id": "4AqT18uCULaV"
      }
    },
    {
      "cell_type": "markdown",
      "source": [
        "Three variables with three options each, 3^3 gives 27 combinations"
      ],
      "metadata": {
        "id": "DXCDVZBLUO1A"
      }
    },
    {
      "cell_type": "markdown",
      "source": [
        "Can lead to sacrifcing matching quality, and having too many elements per 'dimension' which leads to misleading outputs\n",
        "\n",
        "So keep the model simple"
      ],
      "metadata": {
        "id": "vU-ItkMRUnZa"
      }
    },
    {
      "cell_type": "markdown",
      "source": [
        "#### Transforming the race variable"
      ],
      "metadata": {
        "id": "1FV2bNPtVRQ3"
      }
    },
    {
      "cell_type": "code",
      "source": [
        "#Data preparation"
      ],
      "metadata": {
        "id": "5WMmTHGdVXwl"
      },
      "execution_count": 18,
      "outputs": []
    },
    {
      "cell_type": "code",
      "source": [
        "dimension = pd.get_dummies(df)\n",
        "dimension.head(1)"
      ],
      "metadata": {
        "colab": {
          "base_uri": "https://localhost:8080/",
          "height": 209
        },
        "id": "hCdxyE04VZbi",
        "outputId": "83cf2a85-1a21-4c8a-faa9-abb39a6f16f3"
      },
      "execution_count": 19,
      "outputs": [
        {
          "output_type": "execute_result",
          "data": {
            "text/plain": [
              "   catholic  number_places_lived  mom_age  dad_age  mom_score  dad_score  \\\n",
              "0         0                    1       47       45       53.5       77.5   \n",
              "\n",
              "    income  poverty  food_stamps  score_standardized  ...  \\\n",
              "0  62500.5        0            0            0.981753  ...   \n",
              "\n",
              "   dad_education_VOC/TECH PROGRAM  mom_education_8TH GRADE OR BELOW  \\\n",
              "0                               0                                 0   \n",
              "\n",
              "   mom_education_9TH - 12TH GRADE  mom_education_BACHELOR'S DEGREE  \\\n",
              "0                               0                                0   \n",
              "\n",
              "   mom_education_DOCTORATE OR PROFESSIONAL DEGREE  \\\n",
              "0                                               0   \n",
              "\n",
              "   mom_education_GRADUATE/PROFESSIONAL SCHOOL-NO DEGREE  \\\n",
              "0                                                  0      \n",
              "\n",
              "   mom_education_HIGH SCHOOL DIPLOMA/EQUIVALENT  \\\n",
              "0                                             0   \n",
              "\n",
              "   mom_education_MASTER'S DEGREE (MA, MS)  mom_education_SOME COLLEGE  \\\n",
              "0                                       0                           1   \n",
              "\n",
              "   mom_education_VOC/TECH PROGRAM  \n",
              "0                               0  \n",
              "\n",
              "[1 rows x 37 columns]"
            ],
            "text/html": [
              "\n",
              "  <div id=\"df-165d808f-df38-4188-aac3-194d7e78d3b1\">\n",
              "    <div class=\"colab-df-container\">\n",
              "      <div>\n",
              "<style scoped>\n",
              "    .dataframe tbody tr th:only-of-type {\n",
              "        vertical-align: middle;\n",
              "    }\n",
              "\n",
              "    .dataframe tbody tr th {\n",
              "        vertical-align: top;\n",
              "    }\n",
              "\n",
              "    .dataframe thead th {\n",
              "        text-align: right;\n",
              "    }\n",
              "</style>\n",
              "<table border=\"1\" class=\"dataframe\">\n",
              "  <thead>\n",
              "    <tr style=\"text-align: right;\">\n",
              "      <th></th>\n",
              "      <th>catholic</th>\n",
              "      <th>number_places_lived</th>\n",
              "      <th>mom_age</th>\n",
              "      <th>dad_age</th>\n",
              "      <th>mom_score</th>\n",
              "      <th>dad_score</th>\n",
              "      <th>income</th>\n",
              "      <th>poverty</th>\n",
              "      <th>food_stamps</th>\n",
              "      <th>score_standardized</th>\n",
              "      <th>...</th>\n",
              "      <th>dad_education_VOC/TECH PROGRAM</th>\n",
              "      <th>mom_education_8TH GRADE OR BELOW</th>\n",
              "      <th>mom_education_9TH - 12TH GRADE</th>\n",
              "      <th>mom_education_BACHELOR'S DEGREE</th>\n",
              "      <th>mom_education_DOCTORATE OR PROFESSIONAL DEGREE</th>\n",
              "      <th>mom_education_GRADUATE/PROFESSIONAL SCHOOL-NO DEGREE</th>\n",
              "      <th>mom_education_HIGH SCHOOL DIPLOMA/EQUIVALENT</th>\n",
              "      <th>mom_education_MASTER'S DEGREE (MA, MS)</th>\n",
              "      <th>mom_education_SOME COLLEGE</th>\n",
              "      <th>mom_education_VOC/TECH PROGRAM</th>\n",
              "    </tr>\n",
              "  </thead>\n",
              "  <tbody>\n",
              "    <tr>\n",
              "      <th>0</th>\n",
              "      <td>0</td>\n",
              "      <td>1</td>\n",
              "      <td>47</td>\n",
              "      <td>45</td>\n",
              "      <td>53.5</td>\n",
              "      <td>77.5</td>\n",
              "      <td>62500.5</td>\n",
              "      <td>0</td>\n",
              "      <td>0</td>\n",
              "      <td>0.981753</td>\n",
              "      <td>...</td>\n",
              "      <td>0</td>\n",
              "      <td>0</td>\n",
              "      <td>0</td>\n",
              "      <td>0</td>\n",
              "      <td>0</td>\n",
              "      <td>0</td>\n",
              "      <td>0</td>\n",
              "      <td>0</td>\n",
              "      <td>1</td>\n",
              "      <td>0</td>\n",
              "    </tr>\n",
              "  </tbody>\n",
              "</table>\n",
              "<p>1 rows × 37 columns</p>\n",
              "</div>\n",
              "      <button class=\"colab-df-convert\" onclick=\"convertToInteractive('df-165d808f-df38-4188-aac3-194d7e78d3b1')\"\n",
              "              title=\"Convert this dataframe to an interactive table.\"\n",
              "              style=\"display:none;\">\n",
              "        \n",
              "  <svg xmlns=\"http://www.w3.org/2000/svg\" height=\"24px\"viewBox=\"0 0 24 24\"\n",
              "       width=\"24px\">\n",
              "    <path d=\"M0 0h24v24H0V0z\" fill=\"none\"/>\n",
              "    <path d=\"M18.56 5.44l.94 2.06.94-2.06 2.06-.94-2.06-.94-.94-2.06-.94 2.06-2.06.94zm-11 1L8.5 8.5l.94-2.06 2.06-.94-2.06-.94L8.5 2.5l-.94 2.06-2.06.94zm10 10l.94 2.06.94-2.06 2.06-.94-2.06-.94-.94-2.06-.94 2.06-2.06.94z\"/><path d=\"M17.41 7.96l-1.37-1.37c-.4-.4-.92-.59-1.43-.59-.52 0-1.04.2-1.43.59L10.3 9.45l-7.72 7.72c-.78.78-.78 2.05 0 2.83L4 21.41c.39.39.9.59 1.41.59.51 0 1.02-.2 1.41-.59l7.78-7.78 2.81-2.81c.8-.78.8-2.07 0-2.86zM5.41 20L4 18.59l7.72-7.72 1.47 1.35L5.41 20z\"/>\n",
              "  </svg>\n",
              "      </button>\n",
              "      \n",
              "  <style>\n",
              "    .colab-df-container {\n",
              "      display:flex;\n",
              "      flex-wrap:wrap;\n",
              "      gap: 12px;\n",
              "    }\n",
              "\n",
              "    .colab-df-convert {\n",
              "      background-color: #E8F0FE;\n",
              "      border: none;\n",
              "      border-radius: 50%;\n",
              "      cursor: pointer;\n",
              "      display: none;\n",
              "      fill: #1967D2;\n",
              "      height: 32px;\n",
              "      padding: 0 0 0 0;\n",
              "      width: 32px;\n",
              "    }\n",
              "\n",
              "    .colab-df-convert:hover {\n",
              "      background-color: #E2EBFA;\n",
              "      box-shadow: 0px 1px 2px rgba(60, 64, 67, 0.3), 0px 1px 3px 1px rgba(60, 64, 67, 0.15);\n",
              "      fill: #174EA6;\n",
              "    }\n",
              "\n",
              "    [theme=dark] .colab-df-convert {\n",
              "      background-color: #3B4455;\n",
              "      fill: #D2E3FC;\n",
              "    }\n",
              "\n",
              "    [theme=dark] .colab-df-convert:hover {\n",
              "      background-color: #434B5C;\n",
              "      box-shadow: 0px 1px 3px 1px rgba(0, 0, 0, 0.15);\n",
              "      filter: drop-shadow(0px 1px 2px rgba(0, 0, 0, 0.3));\n",
              "      fill: #FFFFFF;\n",
              "    }\n",
              "  </style>\n",
              "\n",
              "      <script>\n",
              "        const buttonEl =\n",
              "          document.querySelector('#df-165d808f-df38-4188-aac3-194d7e78d3b1 button.colab-df-convert');\n",
              "        buttonEl.style.display =\n",
              "          google.colab.kernel.accessAllowed ? 'block' : 'none';\n",
              "\n",
              "        async function convertToInteractive(key) {\n",
              "          const element = document.querySelector('#df-165d808f-df38-4188-aac3-194d7e78d3b1');\n",
              "          const dataTable =\n",
              "            await google.colab.kernel.invokeFunction('convertToInteractive',\n",
              "                                                     [key], {});\n",
              "          if (!dataTable) return;\n",
              "\n",
              "          const docLinkHtml = 'Like what you see? Visit the ' +\n",
              "            '<a target=\"_blank\" href=https://colab.research.google.com/notebooks/data_table.ipynb>data table notebook</a>'\n",
              "            + ' to learn more about interactive tables.';\n",
              "          element.innerHTML = '';\n",
              "          dataTable['output_type'] = 'display_data';\n",
              "          await google.colab.output.renderOutput(dataTable, element);\n",
              "          const docLink = document.createElement('div');\n",
              "          docLink.innerHTML = docLinkHtml;\n",
              "          element.appendChild(docLink);\n",
              "        }\n",
              "      </script>\n",
              "    </div>\n",
              "  </div>\n",
              "  "
            ]
          },
          "metadata": {},
          "execution_count": 19
        }
      ]
    },
    {
      "cell_type": "code",
      "source": [
        "len(dimension.columns)\n",
        "\n",
        "#Getting dummies for all categoricl variables gives 37 total columns"
      ],
      "metadata": {
        "colab": {
          "base_uri": "https://localhost:8080/"
        },
        "id": "Cdrw2Y0PV_5Z",
        "outputId": "11ef6d50-c169-4def-ea52-6c4260f805a1"
      },
      "execution_count": 20,
      "outputs": [
        {
          "output_type": "execute_result",
          "data": {
            "text/plain": [
              "37"
            ]
          },
          "metadata": {},
          "execution_count": 20
        }
      ]
    },
    {
      "cell_type": "code",
      "source": [
        "#Go through each variable case-by-case, starting with race\n",
        "df.race.value_counts()\n",
        "#by grouping we can reduce dimensionality e.g. Hispanic"
      ],
      "metadata": {
        "colab": {
          "base_uri": "https://localhost:8080/"
        },
        "id": "NN1nMJxIWOwD",
        "outputId": "92e071cd-456f-49e0-f70e-78ddb87e50a1"
      },
      "execution_count": 21,
      "outputs": [
        {
          "output_type": "execute_result",
          "data": {
            "text/plain": [
              "WHITE, NON-HISPANIC                        3654\n",
              "HISPANIC, RACE NOT SPECIFIED                408\n",
              "HISPANIC, RACE SPECIFIED                    387\n",
              "BLACK OR AFRICAN AMERICAN, NON-HISPANIC     357\n",
              "ASIAN                                       342\n",
              "MORE THAN ONE RACE, NON HISPANIC            123\n",
              "NATIVE HAWAIIAN, OTHER PACIFIC ISLANDER      93\n",
              "AMERICAN INDIAN OR ALASKA NATIVE             62\n",
              "NOT ASCERTAINED                               3\n",
              "Name: race, dtype: int64"
            ]
          },
          "metadata": {},
          "execution_count": 21
        }
      ]
    },
    {
      "cell_type": "code",
      "source": [
        "#White, Hispanic, Black, Asian, Other\n",
        "\n",
        "df['race_white'] = np.where(df.race == 'WHITE, NON-HISPANIC', 1, 0)\n",
        "df['race_hispanic'] = np.where((df.race == 'HISPANIC, RACE NOT SPECIFIED') |\n",
        "(df.race == 'HISPANIC, RACE SPECIFIED'), 1, 0)\n",
        "df['race_black'] = np.where(df.race == 'BLACK OR AFRICAN AMERICAN, NON-HISPANIC', 1, 0)\n",
        "df['race_asian'] = np.where(df.race == 'ASIAN', 1, 0)\n",
        "#df['race_other'] = np.where((df.race == 'MORE THAN ONE RACE, NON HISPANIC') |\n",
        "#(df.race == 'NATIVE HAWAIIAN, OTHER PACIFIC ISLANDER') | (df.race == 'AMERICAN INDIAN OR ALASKA NATIVE') | (df.race == 'NOT ASCERTAINED')   , 1, 0)"
      ],
      "metadata": {
        "id": "7szEzz5MWyDt"
      },
      "execution_count": 22,
      "outputs": []
    },
    {
      "cell_type": "code",
      "source": [
        "#AVOID THE DUMMY VARIABLE TRAP ... IF WE KNOW NOT W,H,B,A then will be other,\n",
        "#including other would reduce the prediction models relibility "
      ],
      "metadata": {
        "id": "K4XBxQnLZMmf"
      },
      "execution_count": 23,
      "outputs": []
    },
    {
      "cell_type": "markdown",
      "source": [
        "#### Transforming the education variable"
      ],
      "metadata": {
        "id": "-CRRSMVBbBVC"
      }
    },
    {
      "cell_type": "code",
      "source": [
        "df.mom_education.value_counts()"
      ],
      "metadata": {
        "colab": {
          "base_uri": "https://localhost:8080/"
        },
        "id": "5H4GelQcbMMl",
        "outputId": "accc941d-e2ed-42df-bf18-f6a0d974e8fc"
      },
      "execution_count": 24,
      "outputs": [
        {
          "output_type": "execute_result",
          "data": {
            "text/plain": [
              "SOME COLLEGE                              1721\n",
              "HIGH SCHOOL DIPLOMA/EQUIVALENT            1306\n",
              "BACHELOR'S DEGREE                         1085\n",
              "MASTER'S DEGREE (MA, MS)                   387\n",
              "VOC/TECH PROGRAM                           294\n",
              "9TH - 12TH GRADE                           222\n",
              "GRADUATE/PROFESSIONAL SCHOOL-NO DEGREE     170\n",
              "8TH GRADE OR BELOW                         134\n",
              "DOCTORATE OR PROFESSIONAL DEGREE           110\n",
              "Name: mom_education, dtype: int64"
            ]
          },
          "metadata": {},
          "execution_count": 24
        }
      ]
    },
    {
      "cell_type": "code",
      "source": [
        "#Transforming education variable\n",
        "df[\"dad_higher_education\"] = np.where((df.dad_education == \"BACHELOR'S DEGREE\") |\n",
        "                                      (df.dad_education == \"MASTER'S DEGREE (MA, MS)\") |\n",
        "                                      (df.dad_education == \"DOCTORATE OR PROFESSIONAL DEGREE\"),\n",
        "                                      1, 0)\n",
        "df[\"mom_higher_education\"] = np.where((df.mom_education == \"BACHELOR'S DEGREE\") |\n",
        "                                      (df.mom_education == \"MASTER'S DEGREE (MA, MS)\") |\n",
        "                                      (df.mom_education == \"DOCTORATE OR PROFESSIONAL DEGREE\"),\n",
        "                                      1, 0)"
      ],
      "metadata": {
        "id": "9IT_-7TdbW1S"
      },
      "execution_count": 26,
      "outputs": []
    },
    {
      "cell_type": "code",
      "source": [
        "df.head(1)"
      ],
      "metadata": {
        "colab": {
          "base_uri": "https://localhost:8080/",
          "height": 145
        },
        "id": "G57pJKwUT7zr",
        "outputId": "c4361772-516e-491f-e66a-970dbe4472d1"
      },
      "execution_count": 34,
      "outputs": [
        {
          "output_type": "execute_result",
          "data": {
            "text/plain": [
              "   catholic  number_places_lived  mom_age  dad_age  mom_score  dad_score  \\\n",
              "0         0                    1       47       45       53.5       77.5   \n",
              "\n",
              "    income  poverty  food_stamps  score_standardized  race_white  \\\n",
              "0  62500.5        0            0            0.981753           1   \n",
              "\n",
              "   race_hispanic  race_black  race_asian  dad_higher_education  \\\n",
              "0              0           0           0                     1   \n",
              "\n",
              "   mom_higher_education  \n",
              "0                     0  "
            ],
            "text/html": [
              "\n",
              "  <div id=\"df-f31d9033-60ba-4b7a-b2df-6867e70c3f19\">\n",
              "    <div class=\"colab-df-container\">\n",
              "      <div>\n",
              "<style scoped>\n",
              "    .dataframe tbody tr th:only-of-type {\n",
              "        vertical-align: middle;\n",
              "    }\n",
              "\n",
              "    .dataframe tbody tr th {\n",
              "        vertical-align: top;\n",
              "    }\n",
              "\n",
              "    .dataframe thead th {\n",
              "        text-align: right;\n",
              "    }\n",
              "</style>\n",
              "<table border=\"1\" class=\"dataframe\">\n",
              "  <thead>\n",
              "    <tr style=\"text-align: right;\">\n",
              "      <th></th>\n",
              "      <th>catholic</th>\n",
              "      <th>number_places_lived</th>\n",
              "      <th>mom_age</th>\n",
              "      <th>dad_age</th>\n",
              "      <th>mom_score</th>\n",
              "      <th>dad_score</th>\n",
              "      <th>income</th>\n",
              "      <th>poverty</th>\n",
              "      <th>food_stamps</th>\n",
              "      <th>score_standardized</th>\n",
              "      <th>race_white</th>\n",
              "      <th>race_hispanic</th>\n",
              "      <th>race_black</th>\n",
              "      <th>race_asian</th>\n",
              "      <th>dad_higher_education</th>\n",
              "      <th>mom_higher_education</th>\n",
              "    </tr>\n",
              "  </thead>\n",
              "  <tbody>\n",
              "    <tr>\n",
              "      <th>0</th>\n",
              "      <td>0</td>\n",
              "      <td>1</td>\n",
              "      <td>47</td>\n",
              "      <td>45</td>\n",
              "      <td>53.5</td>\n",
              "      <td>77.5</td>\n",
              "      <td>62500.5</td>\n",
              "      <td>0</td>\n",
              "      <td>0</td>\n",
              "      <td>0.981753</td>\n",
              "      <td>1</td>\n",
              "      <td>0</td>\n",
              "      <td>0</td>\n",
              "      <td>0</td>\n",
              "      <td>1</td>\n",
              "      <td>0</td>\n",
              "    </tr>\n",
              "  </tbody>\n",
              "</table>\n",
              "</div>\n",
              "      <button class=\"colab-df-convert\" onclick=\"convertToInteractive('df-f31d9033-60ba-4b7a-b2df-6867e70c3f19')\"\n",
              "              title=\"Convert this dataframe to an interactive table.\"\n",
              "              style=\"display:none;\">\n",
              "        \n",
              "  <svg xmlns=\"http://www.w3.org/2000/svg\" height=\"24px\"viewBox=\"0 0 24 24\"\n",
              "       width=\"24px\">\n",
              "    <path d=\"M0 0h24v24H0V0z\" fill=\"none\"/>\n",
              "    <path d=\"M18.56 5.44l.94 2.06.94-2.06 2.06-.94-2.06-.94-.94-2.06-.94 2.06-2.06.94zm-11 1L8.5 8.5l.94-2.06 2.06-.94-2.06-.94L8.5 2.5l-.94 2.06-2.06.94zm10 10l.94 2.06.94-2.06 2.06-.94-2.06-.94-.94-2.06-.94 2.06-2.06.94z\"/><path d=\"M17.41 7.96l-1.37-1.37c-.4-.4-.92-.59-1.43-.59-.52 0-1.04.2-1.43.59L10.3 9.45l-7.72 7.72c-.78.78-.78 2.05 0 2.83L4 21.41c.39.39.9.59 1.41.59.51 0 1.02-.2 1.41-.59l7.78-7.78 2.81-2.81c.8-.78.8-2.07 0-2.86zM5.41 20L4 18.59l7.72-7.72 1.47 1.35L5.41 20z\"/>\n",
              "  </svg>\n",
              "      </button>\n",
              "      \n",
              "  <style>\n",
              "    .colab-df-container {\n",
              "      display:flex;\n",
              "      flex-wrap:wrap;\n",
              "      gap: 12px;\n",
              "    }\n",
              "\n",
              "    .colab-df-convert {\n",
              "      background-color: #E8F0FE;\n",
              "      border: none;\n",
              "      border-radius: 50%;\n",
              "      cursor: pointer;\n",
              "      display: none;\n",
              "      fill: #1967D2;\n",
              "      height: 32px;\n",
              "      padding: 0 0 0 0;\n",
              "      width: 32px;\n",
              "    }\n",
              "\n",
              "    .colab-df-convert:hover {\n",
              "      background-color: #E2EBFA;\n",
              "      box-shadow: 0px 1px 2px rgba(60, 64, 67, 0.3), 0px 1px 3px 1px rgba(60, 64, 67, 0.15);\n",
              "      fill: #174EA6;\n",
              "    }\n",
              "\n",
              "    [theme=dark] .colab-df-convert {\n",
              "      background-color: #3B4455;\n",
              "      fill: #D2E3FC;\n",
              "    }\n",
              "\n",
              "    [theme=dark] .colab-df-convert:hover {\n",
              "      background-color: #434B5C;\n",
              "      box-shadow: 0px 1px 3px 1px rgba(0, 0, 0, 0.15);\n",
              "      filter: drop-shadow(0px 1px 2px rgba(0, 0, 0, 0.3));\n",
              "      fill: #FFFFFF;\n",
              "    }\n",
              "  </style>\n",
              "\n",
              "      <script>\n",
              "        const buttonEl =\n",
              "          document.querySelector('#df-f31d9033-60ba-4b7a-b2df-6867e70c3f19 button.colab-df-convert');\n",
              "        buttonEl.style.display =\n",
              "          google.colab.kernel.accessAllowed ? 'block' : 'none';\n",
              "\n",
              "        async function convertToInteractive(key) {\n",
              "          const element = document.querySelector('#df-f31d9033-60ba-4b7a-b2df-6867e70c3f19');\n",
              "          const dataTable =\n",
              "            await google.colab.kernel.invokeFunction('convertToInteractive',\n",
              "                                                     [key], {});\n",
              "          if (!dataTable) return;\n",
              "\n",
              "          const docLinkHtml = 'Like what you see? Visit the ' +\n",
              "            '<a target=\"_blank\" href=https://colab.research.google.com/notebooks/data_table.ipynb>data table notebook</a>'\n",
              "            + ' to learn more about interactive tables.';\n",
              "          element.innerHTML = '';\n",
              "          dataTable['output_type'] = 'display_data';\n",
              "          await google.colab.output.renderOutput(dataTable, element);\n",
              "          const docLink = document.createElement('div');\n",
              "          docLink.innerHTML = docLinkHtml;\n",
              "          element.appendChild(docLink);\n",
              "        }\n",
              "      </script>\n",
              "    </div>\n",
              "  </div>\n",
              "  "
            ]
          },
          "metadata": {},
          "execution_count": 34
        }
      ]
    },
    {
      "cell_type": "code",
      "source": [
        "#Clean the data frame\n",
        "df =  df.drop(columns = ['race', 'dad_education', 'mom_education'])"
      ],
      "metadata": {
        "id": "1V0xNpKOUNk-"
      },
      "execution_count": null,
      "outputs": []
    },
    {
      "cell_type": "code",
      "source": [
        "#Isolate confounders, treat, y\n",
        "treat = df.catholic.values\n",
        "y = df.score_standardized.values\n",
        "confounders = df.drop(columns = ['catholic', 'score_standardized']).values"
      ],
      "metadata": {
        "id": "0z-CHo9VUXGz"
      },
      "execution_count": 35,
      "outputs": []
    },
    {
      "cell_type": "markdown",
      "source": [
        "#### How to determine the Common Support Region?"
      ],
      "metadata": {
        "id": "20GSWqTOVeAn"
      }
    },
    {
      "cell_type": "markdown",
      "source": [
        "Good matching if elements in treated and confounders are similar enough\n",
        "\n",
        "PLot density curves for probability of treated and non-treated groups being treated, there should be overlap between the two curves ... this is the Common Support Region\n",
        "\n"
      ],
      "metadata": {
        "id": "Ou-WO8FoVsfU"
      }
    },
    {
      "cell_type": "code",
      "source": [
        " #1 list of confounders\n",
        " #2 logisitic regression\n",
        " #3 visualise probabilities\n",
        "\n",
        " #Logistic regression\n",
        "\n",
        " import statsmodels.api as sm "
      ],
      "metadata": {
        "id": "kFuy4ErGXAzo"
      },
      "execution_count": 36,
      "outputs": []
    },
    {
      "cell_type": "code",
      "source": [
        "confounders_csr = sm.add_constant(confounders)"
      ],
      "metadata": {
        "id": "njt9Hp8lXgUz"
      },
      "execution_count": 37,
      "outputs": []
    },
    {
      "cell_type": "code",
      "source": [
        "csr_model = sm.Logit(treat, confounders_csr).fit()"
      ],
      "metadata": {
        "colab": {
          "base_uri": "https://localhost:8080/"
        },
        "id": "tLW0MhbXXpel",
        "outputId": "9e599841-1ac3-4e36-f1c6-792144c412e4"
      },
      "execution_count": 38,
      "outputs": [
        {
          "output_type": "stream",
          "name": "stdout",
          "text": [
            "Optimization terminated successfully.\n",
            "         Current function value: 0.430983\n",
            "         Iterations 8\n"
          ]
        }
      ]
    },
    {
      "cell_type": "code",
      "source": [
        "csr_model.summary()"
      ],
      "metadata": {
        "colab": {
          "base_uri": "https://localhost:8080/",
          "height": 530
        },
        "id": "4U193i60X-cS",
        "outputId": "6aa1cb11-da65-48d6-b690-e52aadaac5a0"
      },
      "execution_count": 39,
      "outputs": [
        {
          "output_type": "execute_result",
          "data": {
            "text/plain": [
              "<class 'statsmodels.iolib.summary.Summary'>\n",
              "\"\"\"\n",
              "                           Logit Regression Results                           \n",
              "==============================================================================\n",
              "Dep. Variable:                      y   No. Observations:                 5429\n",
              "Model:                          Logit   Df Residuals:                     5414\n",
              "Method:                           MLE   Df Model:                           14\n",
              "Date:                Sun, 11 Jun 2023   Pseudo R-squ.:                 0.05888\n",
              "Time:                        16:52:56   Log-Likelihood:                -2339.8\n",
              "converged:                       True   LL-Null:                       -2486.2\n",
              "Covariance Type:            nonrobust   LLR p-value:                 3.835e-54\n",
              "==============================================================================\n",
              "                 coef    std err          z      P>|z|      [0.025      0.975]\n",
              "------------------------------------------------------------------------------\n",
              "const         -4.3412      0.418    -10.380      0.000      -5.161      -3.521\n",
              "x1            -0.1666      0.124     -1.341      0.180      -0.410       0.077\n",
              "x2             0.0292      0.010      2.860      0.004       0.009       0.049\n",
              "x3             0.0122      0.009      1.390      0.165      -0.005       0.029\n",
              "x4             0.0074      0.004      2.089      0.037       0.000       0.014\n",
              "x5             0.0065      0.004      1.706      0.088      -0.001       0.014\n",
              "x6          5.171e-06   9.59e-07      5.392      0.000    3.29e-06    7.05e-06\n",
              "x7            -1.1431      0.278     -4.105      0.000      -1.689      -0.597\n",
              "x8            -0.9002      0.430     -2.095      0.036      -1.742      -0.058\n",
              "x9             0.3749      0.198      1.893      0.058      -0.013       0.763\n",
              "x10            0.4315      0.221      1.951      0.051      -0.002       0.865\n",
              "x11           -0.0920      0.267     -0.345      0.730      -0.615       0.431\n",
              "x12           -0.1121      0.256     -0.438      0.661      -0.614       0.390\n",
              "x13           -0.0585      0.096     -0.611      0.541      -0.246       0.129\n",
              "x14            0.1881      0.093      2.012      0.044       0.005       0.371\n",
              "==============================================================================\n",
              "\"\"\""
            ],
            "text/html": [
              "<table class=\"simpletable\">\n",
              "<caption>Logit Regression Results</caption>\n",
              "<tr>\n",
              "  <th>Dep. Variable:</th>           <td>y</td>        <th>  No. Observations:  </th>  <td>  5429</td>  \n",
              "</tr>\n",
              "<tr>\n",
              "  <th>Model:</th>                 <td>Logit</td>      <th>  Df Residuals:      </th>  <td>  5414</td>  \n",
              "</tr>\n",
              "<tr>\n",
              "  <th>Method:</th>                 <td>MLE</td>       <th>  Df Model:          </th>  <td>    14</td>  \n",
              "</tr>\n",
              "<tr>\n",
              "  <th>Date:</th>            <td>Sun, 11 Jun 2023</td> <th>  Pseudo R-squ.:     </th>  <td>0.05888</td> \n",
              "</tr>\n",
              "<tr>\n",
              "  <th>Time:</th>                <td>16:52:56</td>     <th>  Log-Likelihood:    </th> <td> -2339.8</td> \n",
              "</tr>\n",
              "<tr>\n",
              "  <th>converged:</th>             <td>True</td>       <th>  LL-Null:           </th> <td> -2486.2</td> \n",
              "</tr>\n",
              "<tr>\n",
              "  <th>Covariance Type:</th>     <td>nonrobust</td>    <th>  LLR p-value:       </th> <td>3.835e-54</td>\n",
              "</tr>\n",
              "</table>\n",
              "<table class=\"simpletable\">\n",
              "<tr>\n",
              "    <td></td>       <th>coef</th>     <th>std err</th>      <th>z</th>      <th>P>|z|</th>  <th>[0.025</th>    <th>0.975]</th>  \n",
              "</tr>\n",
              "<tr>\n",
              "  <th>const</th> <td>   -4.3412</td> <td>    0.418</td> <td>  -10.380</td> <td> 0.000</td> <td>   -5.161</td> <td>   -3.521</td>\n",
              "</tr>\n",
              "<tr>\n",
              "  <th>x1</th>    <td>   -0.1666</td> <td>    0.124</td> <td>   -1.341</td> <td> 0.180</td> <td>   -0.410</td> <td>    0.077</td>\n",
              "</tr>\n",
              "<tr>\n",
              "  <th>x2</th>    <td>    0.0292</td> <td>    0.010</td> <td>    2.860</td> <td> 0.004</td> <td>    0.009</td> <td>    0.049</td>\n",
              "</tr>\n",
              "<tr>\n",
              "  <th>x3</th>    <td>    0.0122</td> <td>    0.009</td> <td>    1.390</td> <td> 0.165</td> <td>   -0.005</td> <td>    0.029</td>\n",
              "</tr>\n",
              "<tr>\n",
              "  <th>x4</th>    <td>    0.0074</td> <td>    0.004</td> <td>    2.089</td> <td> 0.037</td> <td>    0.000</td> <td>    0.014</td>\n",
              "</tr>\n",
              "<tr>\n",
              "  <th>x5</th>    <td>    0.0065</td> <td>    0.004</td> <td>    1.706</td> <td> 0.088</td> <td>   -0.001</td> <td>    0.014</td>\n",
              "</tr>\n",
              "<tr>\n",
              "  <th>x6</th>    <td> 5.171e-06</td> <td> 9.59e-07</td> <td>    5.392</td> <td> 0.000</td> <td> 3.29e-06</td> <td> 7.05e-06</td>\n",
              "</tr>\n",
              "<tr>\n",
              "  <th>x7</th>    <td>   -1.1431</td> <td>    0.278</td> <td>   -4.105</td> <td> 0.000</td> <td>   -1.689</td> <td>   -0.597</td>\n",
              "</tr>\n",
              "<tr>\n",
              "  <th>x8</th>    <td>   -0.9002</td> <td>    0.430</td> <td>   -2.095</td> <td> 0.036</td> <td>   -1.742</td> <td>   -0.058</td>\n",
              "</tr>\n",
              "<tr>\n",
              "  <th>x9</th>    <td>    0.3749</td> <td>    0.198</td> <td>    1.893</td> <td> 0.058</td> <td>   -0.013</td> <td>    0.763</td>\n",
              "</tr>\n",
              "<tr>\n",
              "  <th>x10</th>   <td>    0.4315</td> <td>    0.221</td> <td>    1.951</td> <td> 0.051</td> <td>   -0.002</td> <td>    0.865</td>\n",
              "</tr>\n",
              "<tr>\n",
              "  <th>x11</th>   <td>   -0.0920</td> <td>    0.267</td> <td>   -0.345</td> <td> 0.730</td> <td>   -0.615</td> <td>    0.431</td>\n",
              "</tr>\n",
              "<tr>\n",
              "  <th>x12</th>   <td>   -0.1121</td> <td>    0.256</td> <td>   -0.438</td> <td> 0.661</td> <td>   -0.614</td> <td>    0.390</td>\n",
              "</tr>\n",
              "<tr>\n",
              "  <th>x13</th>   <td>   -0.0585</td> <td>    0.096</td> <td>   -0.611</td> <td> 0.541</td> <td>   -0.246</td> <td>    0.129</td>\n",
              "</tr>\n",
              "<tr>\n",
              "  <th>x14</th>   <td>    0.1881</td> <td>    0.093</td> <td>    2.012</td> <td> 0.044</td> <td>    0.005</td> <td>    0.371</td>\n",
              "</tr>\n",
              "</table>"
            ]
          },
          "metadata": {},
          "execution_count": 39
        }
      ]
    },
    {
      "cell_type": "code",
      "source": [
        "probabilities = csr_model.predict(confounders_csr)\n",
        "probabilities"
      ],
      "metadata": {
        "colab": {
          "base_uri": "https://localhost:8080/"
        },
        "id": "GsihJBT2YCpv",
        "outputId": "f81051d8-0547-4206-b893-635865f592c7"
      },
      "execution_count": 40,
      "outputs": [
        {
          "output_type": "execute_result",
          "data": {
            "text/plain": [
              "array([0.26041384, 0.17273291, 0.24596599, ..., 0.23182116, 0.12192314,\n",
              "       0.1825144 ])"
            ]
          },
          "metadata": {},
          "execution_count": 40
        }
      ]
    },
    {
      "cell_type": "code",
      "source": [
        " #build object with treat and probabilities \n",
        "\n",
        "df_prob = np.vstack([treat, probabilities])\n",
        "df_prob"
      ],
      "metadata": {
        "colab": {
          "base_uri": "https://localhost:8080/"
        },
        "id": "eh35AeV_YPcE",
        "outputId": "0b028515-3fc5-48f0-cf7e-18ae81886441"
      },
      "execution_count": 41,
      "outputs": [
        {
          "output_type": "execute_result",
          "data": {
            "text/plain": [
              "array([[0.        , 0.        , 0.        , ..., 0.        , 0.        ,\n",
              "        0.        ],\n",
              "       [0.26041384, 0.17273291, 0.24596599, ..., 0.23182116, 0.12192314,\n",
              "        0.1825144 ]])"
            ]
          },
          "metadata": {},
          "execution_count": 41
        }
      ]
    },
    {
      "cell_type": "code",
      "source": [
        "df_prob = np.transpose(df_prob)\n",
        "df_prob"
      ],
      "metadata": {
        "colab": {
          "base_uri": "https://localhost:8080/"
        },
        "id": "MrhKlQJNpYu1",
        "outputId": "c19e021b-4299-4731-ca9c-ed60f0fc202a"
      },
      "execution_count": 42,
      "outputs": [
        {
          "output_type": "execute_result",
          "data": {
            "text/plain": [
              "array([[0.        , 0.26041384],\n",
              "       [0.        , 0.17273291],\n",
              "       [0.        , 0.24596599],\n",
              "       ...,\n",
              "       [0.        , 0.23182116],\n",
              "       [0.        , 0.12192314],\n",
              "       [0.        , 0.1825144 ]])"
            ]
          },
          "metadata": {},
          "execution_count": 42
        }
      ]
    },
    {
      "cell_type": "code",
      "source": [
        "#Split between treated and non-treated\n",
        "non_treated = df_prob[:,0] == 0 \n",
        "non_treated"
      ],
      "metadata": {
        "colab": {
          "base_uri": "https://localhost:8080/"
        },
        "id": "x-91THvpphCc",
        "outputId": "8c2257f3-6203-4a01-d072-b864a479f8c8"
      },
      "execution_count": 43,
      "outputs": [
        {
          "output_type": "execute_result",
          "data": {
            "text/plain": [
              "array([ True,  True,  True, ...,  True,  True,  True])"
            ]
          },
          "metadata": {},
          "execution_count": 43
        }
      ]
    },
    {
      "cell_type": "code",
      "source": [
        "non_treated = df_prob[non_treated, 1]\n",
        "non_treated"
      ],
      "metadata": {
        "colab": {
          "base_uri": "https://localhost:8080/"
        },
        "id": "9km-lXrvpyP-",
        "outputId": "ce7bdf2a-7bd8-4f67-a963-aa989cee4260"
      },
      "execution_count": 44,
      "outputs": [
        {
          "output_type": "execute_result",
          "data": {
            "text/plain": [
              "array([0.26041384, 0.17273291, 0.24596599, ..., 0.23182116, 0.12192314,\n",
              "       0.1825144 ])"
            ]
          },
          "metadata": {},
          "execution_count": 44
        }
      ]
    },
    {
      "cell_type": "code",
      "source": [
        "treated = df_prob[:,0] == 1\n",
        "treated = df_prob[treated, 1]\n",
        "treated"
      ],
      "metadata": {
        "id": "Y-_fi-7up6UO"
      },
      "execution_count": null,
      "outputs": []
    },
    {
      "cell_type": "code",
      "source": [
        "#plot CSR\n",
        "\n",
        "sns.kdeplot(non_treated, shade = True, color = 'red')\n",
        "sns.kdeplot(treated, shade = True, color = 'blue')"
      ],
      "metadata": {
        "colab": {
          "base_uri": "https://localhost:8080/",
          "height": 656
        },
        "id": "JTZ6OXQWqP7y",
        "outputId": "98f9ab62-678f-4e3b-d791-f434dc8edce6"
      },
      "execution_count": 47,
      "outputs": [
        {
          "output_type": "stream",
          "name": "stderr",
          "text": [
            "<ipython-input-47-25b12e123977>:3: FutureWarning: \n",
            "\n",
            "`shade` is now deprecated in favor of `fill`; setting `fill=True`.\n",
            "This will become an error in seaborn v0.14.0; please update your code.\n",
            "\n",
            "  sns.kdeplot(non_treated, shade = True, color = 'red')\n",
            "<ipython-input-47-25b12e123977>:4: FutureWarning: \n",
            "\n",
            "`shade` is now deprecated in favor of `fill`; setting `fill=True`.\n",
            "This will become an error in seaborn v0.14.0; please update your code.\n",
            "\n",
            "  sns.kdeplot(treated, shade = True, color = 'blue')\n"
          ]
        },
        {
          "output_type": "execute_result",
          "data": {
            "text/plain": [
              "<Axes: ylabel='Density'>"
            ]
          },
          "metadata": {},
          "execution_count": 47
        },
        {
          "output_type": "display_data",
          "data": {
            "text/plain": [
              "<Figure size 640x480 with 1 Axes>"
            ],
            "image/png": "[encoded data removed]"
          },
          "metadata": {}
        }
      ]
    },
    {
      "cell_type": "markdown",
      "source": [
        "#### Matching Model"
      ],
      "metadata": {
        "id": "zaXmSDwtq5UJ"
      }
    },
    {
      "cell_type": "code",
      "source": [
        "model = CausalModel(y, treat, confounders)\n",
        "model.est_via_matching(bias_adj = True)\n",
        "print(model.estimates)"
      ],
      "metadata": {
        "colab": {
          "base_uri": "https://localhost:8080/"
        },
        "id": "Xm8nCobNq_C1",
        "outputId": "0c131dcc-ee1c-4e43-cf99-c40046016f41"
      },
      "execution_count": 49,
      "outputs": [
        {
          "output_type": "stream",
          "name": "stderr",
          "text": [
            "/usr/local/lib/python3.10/dist-packages/causalinference/estimators/matching.py:100: FutureWarning: `rcond` parameter will change to the default of machine precision times ``max(M, N)`` where M and N are the input matrix dimensions.\n",
            "To use the future default and silence this warning we advise to pass `rcond=None`, to keep using the old, explicitly pass `rcond=-1`.\n",
            "  return np.linalg.lstsq(X, Y)[0][1:]  # don't need intercept coef\n"
          ]
        },
        {
          "output_type": "stream",
          "name": "stdout",
          "text": [
            "\n",
            "Treatment Effect Estimates: Matching\n",
            "\n",
            "                     Est.       S.e.          z      P>|z|      [95% Conf. int.]\n",
            "--------------------------------------------------------------------------------\n",
            "           ATE     -0.133      0.065     -2.044      0.041     -0.260     -0.005\n",
            "           ATC     -0.126      0.073     -1.737      0.082     -0.268      0.016\n",
            "           ATT     -0.167      0.060     -2.786      0.005     -0.284     -0.049\n",
            "\n"
          ]
        }
      ]
    },
    {
      "cell_type": "markdown",
      "source": [
        "ATT is the average treatment effect, ATT is the average treatment effect on the treated e.g. ATT tells us how much a soldier gained or lost from service, ATE how much a typical application gained or lost. So we will use the ATE as we want to know the effect of Catholic school for all potential students. Our ATE score would suggest standardized test scores are 13.3% lower for Catholic school students."
      ],
      "metadata": {
        "id": "cpPtN8kWsCKm"
      }
    },
    {
      "cell_type": "markdown",
      "source": [
        "#### Robustness checks"
      ],
      "metadata": {
        "id": "G4sPC6XRtIUl"
      }
    },
    {
      "cell_type": "markdown",
      "source": [
        "1. Repeat experiment process multiple times ... Dataset --> Sample --> Subsample --> Matching --> Store Results\n",
        "\n",
        "2. Repeat this process ... Variables --> Remove 1 --> Matching --> Store results"
      ],
      "metadata": {
        "id": "JOui3VhqsZDB"
      }
    },
    {
      "cell_type": "code",
      "source": [
        "#Robust check -- repeated samples\n",
        "\n",
        "#isolate the coef\n",
        "model.estimates['matching']['ate']"
      ],
      "metadata": {
        "colab": {
          "base_uri": "https://localhost:8080/"
        },
        "id": "yeExQ2FXuFTW",
        "outputId": "af42ee70-8c92-425d-948a-b45c249b978f"
      },
      "execution_count": 52,
      "outputs": [
        {
          "output_type": "execute_result",
          "data": {
            "text/plain": [
              "-0.13297192873362434"
            ]
          },
          "metadata": {},
          "execution_count": 52
        }
      ]
    },
    {
      "cell_type": "code",
      "source": [
        "ate = {}\n",
        "i = 0\n",
        "\n",
        "while i < 1000:\n",
        "  #sampling\n",
        "  sample = df.sample(1000)\n",
        "  #isolation of treat, y and confounders\n",
        "  treat = sample.catholic.values\n",
        "  y = sample.score_standardized.values\n",
        "  confounders = sample.drop(columns = ['catholic', \n",
        "                                       'score_standardized']).values\n",
        "  #matching model\n",
        "  model = CausalModel(y, treat, confounders)\n",
        "  model.est_via_matching(bias_adj = True)\n",
        "  #store results\n",
        "  ate[i] = model.estimates['matching']['ate']\n",
        "  i += 1"
      ],
      "metadata": {
        "id": "fioRjLxMuXEP"
      },
      "execution_count": null,
      "outputs": []
    },
    {
      "cell_type": "code",
      "source": [
        "ate = pd.Series(ate)\n",
        "print(ate.hist())\n",
        "print(ate.mean())"
      ],
      "metadata": {
        "colab": {
          "base_uri": "https://localhost:8080/",
          "height": 465
        },
        "id": "A2PSWi-2xYJo",
        "outputId": "9438732e-dc49-49f5-f63f-02beb9463e2c"
      },
      "execution_count": 56,
      "outputs": [
        {
          "output_type": "stream",
          "name": "stdout",
          "text": [
            "Axes(0.125,0.11;0.775x0.77)\n",
            "-0.1269595182037932\n"
          ]
        },
        {
          "output_type": "display_data",
          "data": {
            "text/plain": [
              "<Figure size 640x480 with 1 Axes>"
            ],
            "image/png": "[encoded data removed]"
          },
          "metadata": {}
        }
      ]
    },
    {
      "cell_type": "code",
      "source": [
        "#Robustness check -- removing 1 confounder\n",
        "#we expect that removing one confounding variable will not have a great impact otherwise that would suggest our matching is faulty\n",
        "df.columns"
      ],
      "metadata": {
        "colab": {
          "base_uri": "https://localhost:8080/"
        },
        "id": "dEU48UY_yUlu",
        "outputId": "920d286b-f6a3-4898-cec0-84471b0db84a"
      },
      "execution_count": 57,
      "outputs": [
        {
          "output_type": "execute_result",
          "data": {
            "text/plain": [
              "Index(['catholic', 'number_places_lived', 'mom_age', 'dad_age', 'mom_score',\n",
              "       'dad_score', 'income', 'poverty', 'food_stamps', 'score_standardized',\n",
              "       'race_white', 'race_hispanic', 'race_black', 'race_asian',\n",
              "       'dad_higher_education', 'mom_higher_education'],\n",
              "      dtype='object')"
            ]
          },
          "metadata": {},
          "execution_count": 57
        }
      ]
    },
    {
      "cell_type": "code",
      "source": [
        "#Robustness check -- removing 1 confounder\n",
        "treat = sample.catholic.values\n",
        "y = sample.score_standardized.values\n",
        "confounders = sample.drop(columns = ['catholic', \n",
        "                                     'score_standardized',\n",
        "                                     'number_places_lived']).values\n",
        "model = CausalModel(y, treat, confounders)\n",
        "model.est_via_matching(bias_adj = True)\n",
        "print(model.estimates)"
      ],
      "metadata": {
        "colab": {
          "base_uri": "https://localhost:8080/"
        },
        "id": "isrCFP-rx1ig",
        "outputId": "c7dd3a01-d58e-4362-df6d-64df88ca85a5"
      },
      "execution_count": 58,
      "outputs": [
        {
          "output_type": "stream",
          "name": "stdout",
          "text": [
            "\n",
            "Treatment Effect Estimates: Matching\n",
            "\n",
            "                     Est.       S.e.          z      P>|z|      [95% Conf. int.]\n",
            "--------------------------------------------------------------------------------\n",
            "           ATE     -0.171      0.126     -1.350      0.177     -0.418      0.077\n",
            "           ATC     -0.157      0.140     -1.124      0.261     -0.431      0.117\n",
            "           ATT     -0.231      0.129     -1.798      0.072     -0.483      0.021\n",
            "\n"
          ]
        },
        {
          "output_type": "stream",
          "name": "stderr",
          "text": [
            "/usr/local/lib/python3.10/dist-packages/causalinference/estimators/matching.py:100: FutureWarning: `rcond` parameter will change to the default of machine precision times ``max(M, N)`` where M and N are the input matrix dimensions.\n",
            "To use the future default and silence this warning we advise to pass `rcond=None`, to keep using the old, explicitly pass `rcond=-1`.\n",
            "  return np.linalg.lstsq(X, Y)[0][1:]  # don't need intercept coef\n"
          ]
        }
      ]
    }
  ]
}