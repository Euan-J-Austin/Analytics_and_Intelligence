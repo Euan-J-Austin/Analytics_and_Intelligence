{
 "cells": [
  {
   "cell_type": "markdown",
   "id": "201e6431",
   "metadata": {},
   "source": [
    "# Linear Regression"
   ]
  },
  {
   "cell_type": "markdown",
   "id": "4c2e26fb",
   "metadata": {},
   "source": [
    "Creating a relationship between a dependent variable and independent variable(s), assessing the strength of that relationship.\n",
    "\n",
    "Correlation reveals direction of the relationship, regression the strength of the relationship."
   ]
  },
  {
   "cell_type": "code",
   "execution_count": 34,
   "id": "1b52395b",
   "metadata": {},
   "outputs": [],
   "source": [
    "#How do carats influence price? Dependent variable is price, independent variable is carats."
   ]
  },
  {
   "cell_type": "markdown",
   "id": "52f4acec",
   "metadata": {},
   "source": [
    "## $ Y_i = \\beta_0 + \\beta_1 X_i + \\epsilon_i $"
   ]
  },
  {
   "cell_type": "markdown",
   "id": "376e829c",
   "metadata": {},
   "source": [
    "Error term is deviation from the estimated true regression."
   ]
  },
  {
   "cell_type": "markdown",
   "id": "03a86119",
   "metadata": {},
   "source": [
    "#### For continuous data \"As x increased by 1 unit, Y increases by B\""
   ]
  },
  {
   "cell_type": "markdown",
   "id": "2adf1dba",
   "metadata": {},
   "source": [
    "#### For binary data \"If X happens, Y increases by b\""
   ]
  },
  {
   "cell_type": "code",
   "execution_count": 35,
   "id": "968156e2",
   "metadata": {},
   "outputs": [],
   "source": [
    "import pandas as pd\n",
    "import statsmodels.api as sm \n",
    "import matplotlib.pyplot as plt \n",
    "import numpy as np"
   ]
  },
  {
   "cell_type": "code",
   "execution_count": 36,
   "id": "6d25749b",
   "metadata": {},
   "outputs": [],
   "source": [
    "df = pd.read_csv('diamond.csv')"
   ]
  },
  {
   "cell_type": "code",
   "execution_count": 37,
   "id": "53bb7733",
   "metadata": {},
   "outputs": [
    {
     "data": {
      "text/html": [
       "<div>\n",
       "<style scoped>\n",
       "    .dataframe tbody tr th:only-of-type {\n",
       "        vertical-align: middle;\n",
       "    }\n",
       "\n",
       "    .dataframe tbody tr th {\n",
       "        vertical-align: top;\n",
       "    }\n",
       "\n",
       "    .dataframe thead th {\n",
       "        text-align: right;\n",
       "    }\n",
       "</style>\n",
       "<table border=\"1\" class=\"dataframe\">\n",
       "  <thead>\n",
       "    <tr style=\"text-align: right;\">\n",
       "      <th></th>\n",
       "      <th>Unnamed: 0</th>\n",
       "      <th>carat</th>\n",
       "      <th>colour</th>\n",
       "      <th>clarity</th>\n",
       "      <th>certification</th>\n",
       "      <th>price</th>\n",
       "    </tr>\n",
       "  </thead>\n",
       "  <tbody>\n",
       "    <tr>\n",
       "      <th>0</th>\n",
       "      <td>1</td>\n",
       "      <td>0.30</td>\n",
       "      <td>D</td>\n",
       "      <td>VS2</td>\n",
       "      <td>GIA</td>\n",
       "      <td>1302</td>\n",
       "    </tr>\n",
       "    <tr>\n",
       "      <th>1</th>\n",
       "      <td>2</td>\n",
       "      <td>0.30</td>\n",
       "      <td>E</td>\n",
       "      <td>VS1</td>\n",
       "      <td>GIA</td>\n",
       "      <td>1510</td>\n",
       "    </tr>\n",
       "    <tr>\n",
       "      <th>2</th>\n",
       "      <td>3</td>\n",
       "      <td>0.30</td>\n",
       "      <td>G</td>\n",
       "      <td>VVS1</td>\n",
       "      <td>GIA</td>\n",
       "      <td>1510</td>\n",
       "    </tr>\n",
       "    <tr>\n",
       "      <th>3</th>\n",
       "      <td>4</td>\n",
       "      <td>0.30</td>\n",
       "      <td>G</td>\n",
       "      <td>VS1</td>\n",
       "      <td>GIA</td>\n",
       "      <td>1260</td>\n",
       "    </tr>\n",
       "    <tr>\n",
       "      <th>4</th>\n",
       "      <td>5</td>\n",
       "      <td>0.31</td>\n",
       "      <td>D</td>\n",
       "      <td>VS1</td>\n",
       "      <td>GIA</td>\n",
       "      <td>1641</td>\n",
       "    </tr>\n",
       "  </tbody>\n",
       "</table>\n",
       "</div>"
      ],
      "text/plain": [
       "   Unnamed: 0  carat colour clarity certification  price\n",
       "0           1   0.30      D     VS2           GIA   1302\n",
       "1           2   0.30      E     VS1           GIA   1510\n",
       "2           3   0.30      G    VVS1           GIA   1510\n",
       "3           4   0.30      G     VS1           GIA   1260\n",
       "4           5   0.31      D     VS1           GIA   1641"
      ]
     },
     "execution_count": 37,
     "metadata": {},
     "output_type": "execute_result"
    }
   ],
   "source": [
    "df.head()"
   ]
  },
  {
   "cell_type": "code",
   "execution_count": 38,
   "id": "d1d84fee",
   "metadata": {},
   "outputs": [
    {
     "name": "stdout",
     "output_type": "stream",
     "text": [
      "0      0.30\n",
      "1      0.30\n",
      "2      0.30\n",
      "3      0.30\n",
      "4      0.31\n",
      "       ... \n",
      "303    1.01\n",
      "304    1.02\n",
      "305    1.06\n",
      "306    1.02\n",
      "307    1.09\n",
      "Name: carat, Length: 308, dtype: float64 0       1302\n",
      "1       1510\n",
      "2       1510\n",
      "3       1260\n",
      "4       1641\n",
      "       ...  \n",
      "303     8175\n",
      "304    10796\n",
      "305     9890\n",
      "306     8959\n",
      "307     9107\n",
      "Name: price, Length: 308, dtype: int64\n"
     ]
    }
   ],
   "source": [
    "x = df.carat #independent variable\n",
    "\n",
    "y = df.price #dependent variable\n",
    "\n",
    "print(x, y_hat)"
   ]
  },
  {
   "cell_type": "code",
   "execution_count": 39,
   "id": "20484c76",
   "metadata": {},
   "outputs": [
    {
     "data": {
      "text/html": [
       "<div>\n",
       "<style scoped>\n",
       "    .dataframe tbody tr th:only-of-type {\n",
       "        vertical-align: middle;\n",
       "    }\n",
       "\n",
       "    .dataframe tbody tr th {\n",
       "        vertical-align: top;\n",
       "    }\n",
       "\n",
       "    .dataframe thead th {\n",
       "        text-align: right;\n",
       "    }\n",
       "</style>\n",
       "<table border=\"1\" class=\"dataframe\">\n",
       "  <thead>\n",
       "    <tr style=\"text-align: right;\">\n",
       "      <th></th>\n",
       "      <th>const</th>\n",
       "      <th>carat</th>\n",
       "    </tr>\n",
       "  </thead>\n",
       "  <tbody>\n",
       "    <tr>\n",
       "      <th>0</th>\n",
       "      <td>1.0</td>\n",
       "      <td>0.30</td>\n",
       "    </tr>\n",
       "    <tr>\n",
       "      <th>1</th>\n",
       "      <td>1.0</td>\n",
       "      <td>0.30</td>\n",
       "    </tr>\n",
       "    <tr>\n",
       "      <th>2</th>\n",
       "      <td>1.0</td>\n",
       "      <td>0.30</td>\n",
       "    </tr>\n",
       "    <tr>\n",
       "      <th>3</th>\n",
       "      <td>1.0</td>\n",
       "      <td>0.30</td>\n",
       "    </tr>\n",
       "    <tr>\n",
       "      <th>4</th>\n",
       "      <td>1.0</td>\n",
       "      <td>0.31</td>\n",
       "    </tr>\n",
       "  </tbody>\n",
       "</table>\n",
       "</div>"
      ],
      "text/plain": [
       "   const  carat\n",
       "0    1.0   0.30\n",
       "1    1.0   0.30\n",
       "2    1.0   0.30\n",
       "3    1.0   0.30\n",
       "4    1.0   0.31"
      ]
     },
     "execution_count": 39,
     "metadata": {},
     "output_type": "execute_result"
    }
   ],
   "source": [
    "x = sm.tools.tools.add_constant(x) #don't create a new variable named constant, but add to existing x variable\n",
    "x.head()"
   ]
  },
  {
   "cell_type": "markdown",
   "id": "902d0dfe",
   "metadata": {},
   "source": [
    "## Regression model"
   ]
  },
  {
   "cell_type": "code",
   "execution_count": 40,
   "id": "acf30192",
   "metadata": {},
   "outputs": [
    {
     "data": {
      "text/html": [
       "<table class=\"simpletable\">\n",
       "<caption>OLS Regression Results</caption>\n",
       "<tr>\n",
       "  <th>Dep. Variable:</th>          <td>price</td>      <th>  R-squared:         </th> <td>   0.893</td> \n",
       "</tr>\n",
       "<tr>\n",
       "  <th>Model:</th>                   <td>OLS</td>       <th>  Adj. R-squared:    </th> <td>   0.892</td> \n",
       "</tr>\n",
       "<tr>\n",
       "  <th>Method:</th>             <td>Least Squares</td>  <th>  F-statistic:       </th> <td>   2541.</td> \n",
       "</tr>\n",
       "<tr>\n",
       "  <th>Date:</th>             <td>Wed, 07 Jun 2023</td> <th>  Prob (F-statistic):</th> <td>3.04e-150</td>\n",
       "</tr>\n",
       "<tr>\n",
       "  <th>Time:</th>                 <td>20:45:22</td>     <th>  Log-Likelihood:    </th> <td> -2597.9</td> \n",
       "</tr>\n",
       "<tr>\n",
       "  <th>No. Observations:</th>      <td>   308</td>      <th>  AIC:               </th> <td>   5200.</td> \n",
       "</tr>\n",
       "<tr>\n",
       "  <th>Df Residuals:</th>          <td>   306</td>      <th>  BIC:               </th> <td>   5207.</td> \n",
       "</tr>\n",
       "<tr>\n",
       "  <th>Df Model:</th>              <td>     1</td>      <th>                     </th>     <td> </td>    \n",
       "</tr>\n",
       "<tr>\n",
       "  <th>Covariance Type:</th>      <td>nonrobust</td>    <th>                     </th>     <td> </td>    \n",
       "</tr>\n",
       "</table>\n",
       "<table class=\"simpletable\">\n",
       "<tr>\n",
       "    <td></td>       <th>coef</th>     <th>std err</th>      <th>t</th>      <th>P>|t|</th>  <th>[0.025</th>    <th>0.975]</th>  \n",
       "</tr>\n",
       "<tr>\n",
       "  <th>const</th> <td>-2298.3576</td> <td>  158.531</td> <td>  -14.498</td> <td> 0.000</td> <td>-2610.306</td> <td>-1986.410</td>\n",
       "</tr>\n",
       "<tr>\n",
       "  <th>carat</th> <td>  1.16e+04</td> <td>  230.111</td> <td>   50.406</td> <td> 0.000</td> <td> 1.11e+04</td> <td> 1.21e+04</td>\n",
       "</tr>\n",
       "</table>\n",
       "<table class=\"simpletable\">\n",
       "<tr>\n",
       "  <th>Omnibus:</th>       <td>170.301</td> <th>  Durbin-Watson:     </th> <td>   1.216</td> \n",
       "</tr>\n",
       "<tr>\n",
       "  <th>Prob(Omnibus):</th> <td> 0.000</td>  <th>  Jarque-Bera (JB):  </th> <td>1324.411</td> \n",
       "</tr>\n",
       "<tr>\n",
       "  <th>Skew:</th>          <td> 2.168</td>  <th>  Prob(JB):          </th> <td>2.56e-288</td>\n",
       "</tr>\n",
       "<tr>\n",
       "  <th>Kurtosis:</th>      <td>12.187</td>  <th>  Cond. No.          </th> <td>    5.13</td> \n",
       "</tr>\n",
       "</table><br/><br/>Notes:<br/>[1] Standard Errors assume that the covariance matrix of the errors is correctly specified."
      ],
      "text/plain": [
       "<class 'statsmodels.iolib.summary.Summary'>\n",
       "\"\"\"\n",
       "                            OLS Regression Results                            \n",
       "==============================================================================\n",
       "Dep. Variable:                  price   R-squared:                       0.893\n",
       "Model:                            OLS   Adj. R-squared:                  0.892\n",
       "Method:                 Least Squares   F-statistic:                     2541.\n",
       "Date:                Wed, 07 Jun 2023   Prob (F-statistic):          3.04e-150\n",
       "Time:                        20:45:22   Log-Likelihood:                -2597.9\n",
       "No. Observations:                 308   AIC:                             5200.\n",
       "Df Residuals:                     306   BIC:                             5207.\n",
       "Df Model:                           1                                         \n",
       "Covariance Type:            nonrobust                                         \n",
       "==============================================================================\n",
       "                 coef    std err          t      P>|t|      [0.025      0.975]\n",
       "------------------------------------------------------------------------------\n",
       "const      -2298.3576    158.531    -14.498      0.000   -2610.306   -1986.410\n",
       "carat        1.16e+04    230.111     50.406      0.000    1.11e+04    1.21e+04\n",
       "==============================================================================\n",
       "Omnibus:                      170.301   Durbin-Watson:                   1.216\n",
       "Prob(Omnibus):                  0.000   Jarque-Bera (JB):             1324.411\n",
       "Skew:                           2.168   Prob(JB):                    2.56e-288\n",
       "Kurtosis:                      12.187   Cond. No.                         5.13\n",
       "==============================================================================\n",
       "\n",
       "Notes:\n",
       "[1] Standard Errors assume that the covariance matrix of the errors is correctly specified.\n",
       "\"\"\""
      ]
     },
     "execution_count": 40,
     "metadata": {},
     "output_type": "execute_result"
    }
   ],
   "source": [
    "model_1 = sm.OLS(endog = y, exog = x).fit() \n",
    "\n",
    "model_1.summary()"
   ]
  },
  {
   "cell_type": "code",
   "execution_count": 51,
   "id": "290cc2ce",
   "metadata": {},
   "outputs": [
    {
     "data": {
      "text/html": [
       "<div>\n",
       "<style scoped>\n",
       "    .dataframe tbody tr th:only-of-type {\n",
       "        vertical-align: middle;\n",
       "    }\n",
       "\n",
       "    .dataframe tbody tr th {\n",
       "        vertical-align: top;\n",
       "    }\n",
       "\n",
       "    .dataframe thead th {\n",
       "        text-align: right;\n",
       "    }\n",
       "</style>\n",
       "<table border=\"1\" class=\"dataframe\">\n",
       "  <thead>\n",
       "    <tr style=\"text-align: right;\">\n",
       "      <th></th>\n",
       "      <th>Unnamed: 0</th>\n",
       "      <th>carat</th>\n",
       "      <th>colour</th>\n",
       "      <th>clarity</th>\n",
       "      <th>certification</th>\n",
       "      <th>price</th>\n",
       "    </tr>\n",
       "  </thead>\n",
       "  <tbody>\n",
       "    <tr>\n",
       "      <th>0</th>\n",
       "      <td>1</td>\n",
       "      <td>0.30</td>\n",
       "      <td>D</td>\n",
       "      <td>VS2</td>\n",
       "      <td>GIA</td>\n",
       "      <td>1302</td>\n",
       "    </tr>\n",
       "    <tr>\n",
       "      <th>1</th>\n",
       "      <td>2</td>\n",
       "      <td>0.30</td>\n",
       "      <td>E</td>\n",
       "      <td>VS1</td>\n",
       "      <td>GIA</td>\n",
       "      <td>1510</td>\n",
       "    </tr>\n",
       "    <tr>\n",
       "      <th>2</th>\n",
       "      <td>3</td>\n",
       "      <td>0.30</td>\n",
       "      <td>G</td>\n",
       "      <td>VVS1</td>\n",
       "      <td>GIA</td>\n",
       "      <td>1510</td>\n",
       "    </tr>\n",
       "    <tr>\n",
       "      <th>3</th>\n",
       "      <td>4</td>\n",
       "      <td>0.30</td>\n",
       "      <td>G</td>\n",
       "      <td>VS1</td>\n",
       "      <td>GIA</td>\n",
       "      <td>1260</td>\n",
       "    </tr>\n",
       "    <tr>\n",
       "      <th>4</th>\n",
       "      <td>5</td>\n",
       "      <td>0.31</td>\n",
       "      <td>D</td>\n",
       "      <td>VS1</td>\n",
       "      <td>GIA</td>\n",
       "      <td>1641</td>\n",
       "    </tr>\n",
       "  </tbody>\n",
       "</table>\n",
       "</div>"
      ],
      "text/plain": [
       "   Unnamed: 0  carat colour clarity certification  price\n",
       "0           1   0.30      D     VS2           GIA   1302\n",
       "1           2   0.30      E     VS1           GIA   1510\n",
       "2           3   0.30      G    VVS1           GIA   1510\n",
       "3           4   0.30      G     VS1           GIA   1260\n",
       "4           5   0.31      D     VS1           GIA   1641"
      ]
     },
     "execution_count": 51,
     "metadata": {},
     "output_type": "execute_result"
    }
   ],
   "source": [
    "df.head()"
   ]
  },
  {
   "cell_type": "code",
   "execution_count": 54,
   "id": "4d06f840",
   "metadata": {},
   "outputs": [
    {
     "data": {
      "text/plain": [
       "Text(0, 0.5, 'Price')"
      ]
     },
     "execution_count": 54,
     "metadata": {},
     "output_type": "execute_result"
    },
    {
     "data": {
      "image/png": "[encoded data removed]",
      "text/plain": [
       "<Figure size 640x480 with 1 Axes>"
      ]
     },
     "metadata": {},
     "output_type": "display_data"
    }
   ],
   "source": [
    "#plotting \n",
    "\n",
    "x = df.carat\n",
    "plt.plot(x, y, 'o')\n",
    "\n",
    "b, a = np.polyfit(x, y, 1)\n",
    "plt.plot(x, b * x + a)\n",
    "plt.xlabel(\"Carats\")\n",
    "plt.ylabel(\"Price\")"
   ]
  },
  {
   "cell_type": "markdown",
   "id": "0f8c8bca",
   "metadata": {},
   "source": [
    "# Dummy Variable Trap\n",
    "\n"
   ]
  },
  {
   "cell_type": "markdown",
   "id": "afd852db",
   "metadata": {},
   "source": [
    "e.g.\n",
    "\n",
    "Observation, Coca-Cola, Pepsi\n",
    "a, 1, 0\n",
    "b, 0, 1\n",
    "c, 0, 1 \n",
    "\n",
    "etc.\n",
    "\n",
    "There is multicolinearity, a perfect negative correlation between the two variables ="
   ]
  },
  {
   "cell_type": "markdown",
   "id": "cbd45288",
   "metadata": {},
   "source": [
    "The solution is to remove the dummy variable.\n",
    "\n",
    "The removed dummy variable becomes a part of the intercept."
   ]
  },
  {
   "cell_type": "markdown",
   "id": "bbb66af4",
   "metadata": {},
   "source": [
    "Would only ever need to remove one dummy variable e.g.\n",
    "\n",
    "Observation, Coca-Cola, Pepsi, White Label\n",
    "a, 1, 0, 0\n",
    "b, 0, 1, 0\n",
    "c, 0, 0, 1\n",
    "\n",
    "If Coca-Cola and Pepsi are kept, when both are 0 we know white label is 1"
   ]
  },
  {
   "cell_type": "markdown",
   "id": "c84c0eeb",
   "metadata": {},
   "source": [
    "# Linear regression with dummy variable"
   ]
  },
  {
   "cell_type": "code",
   "execution_count": 55,
   "id": "ac3f4225",
   "metadata": {},
   "outputs": [
    {
     "data": {
      "text/plain": [
       "count    308.000000\n",
       "mean       0.630909\n",
       "std        0.277183\n",
       "min        0.180000\n",
       "25%        0.350000\n",
       "50%        0.620000\n",
       "75%        0.850000\n",
       "max        1.100000\n",
       "Name: carat, dtype: float64"
      ]
     },
     "execution_count": 55,
     "metadata": {},
     "output_type": "execute_result"
    }
   ],
   "source": [
    "df.carat.describe()"
   ]
  },
  {
   "cell_type": "code",
   "execution_count": 56,
   "id": "cdb50efe",
   "metadata": {
    "scrolled": true
   },
   "outputs": [
    {
     "data": {
      "text/html": [
       "<div>\n",
       "<style scoped>\n",
       "    .dataframe tbody tr th:only-of-type {\n",
       "        vertical-align: middle;\n",
       "    }\n",
       "\n",
       "    .dataframe tbody tr th {\n",
       "        vertical-align: top;\n",
       "    }\n",
       "\n",
       "    .dataframe thead th {\n",
       "        text-align: right;\n",
       "    }\n",
       "</style>\n",
       "<table border=\"1\" class=\"dataframe\">\n",
       "  <thead>\n",
       "    <tr style=\"text-align: right;\">\n",
       "      <th></th>\n",
       "      <th>Unnamed: 0</th>\n",
       "      <th>carat</th>\n",
       "      <th>colour</th>\n",
       "      <th>clarity</th>\n",
       "      <th>certification</th>\n",
       "      <th>price</th>\n",
       "      <th>carat_binary</th>\n",
       "    </tr>\n",
       "  </thead>\n",
       "  <tbody>\n",
       "    <tr>\n",
       "      <th>0</th>\n",
       "      <td>1</td>\n",
       "      <td>0.30</td>\n",
       "      <td>D</td>\n",
       "      <td>VS2</td>\n",
       "      <td>GIA</td>\n",
       "      <td>1302</td>\n",
       "      <td>0</td>\n",
       "    </tr>\n",
       "    <tr>\n",
       "      <th>1</th>\n",
       "      <td>2</td>\n",
       "      <td>0.30</td>\n",
       "      <td>E</td>\n",
       "      <td>VS1</td>\n",
       "      <td>GIA</td>\n",
       "      <td>1510</td>\n",
       "      <td>0</td>\n",
       "    </tr>\n",
       "    <tr>\n",
       "      <th>2</th>\n",
       "      <td>3</td>\n",
       "      <td>0.30</td>\n",
       "      <td>G</td>\n",
       "      <td>VVS1</td>\n",
       "      <td>GIA</td>\n",
       "      <td>1510</td>\n",
       "      <td>0</td>\n",
       "    </tr>\n",
       "    <tr>\n",
       "      <th>3</th>\n",
       "      <td>4</td>\n",
       "      <td>0.30</td>\n",
       "      <td>G</td>\n",
       "      <td>VS1</td>\n",
       "      <td>GIA</td>\n",
       "      <td>1260</td>\n",
       "      <td>0</td>\n",
       "    </tr>\n",
       "    <tr>\n",
       "      <th>4</th>\n",
       "      <td>5</td>\n",
       "      <td>0.31</td>\n",
       "      <td>D</td>\n",
       "      <td>VS1</td>\n",
       "      <td>GIA</td>\n",
       "      <td>1641</td>\n",
       "      <td>0</td>\n",
       "    </tr>\n",
       "  </tbody>\n",
       "</table>\n",
       "</div>"
      ],
      "text/plain": [
       "   Unnamed: 0  carat colour clarity certification  price  carat_binary\n",
       "0           1   0.30      D     VS2           GIA   1302             0\n",
       "1           2   0.30      E     VS1           GIA   1510             0\n",
       "2           3   0.30      G    VVS1           GIA   1510             0\n",
       "3           4   0.30      G     VS1           GIA   1260             0\n",
       "4           5   0.31      D     VS1           GIA   1641             0"
      ]
     },
     "execution_count": 56,
     "metadata": {},
     "output_type": "execute_result"
    }
   ],
   "source": [
    "#create binary variable\n",
    "\n",
    "df[\"carat_binary\"] = np.where(df.carat > 0.6, 1, 0)\n",
    "df.head()"
   ]
  },
  {
   "cell_type": "code",
   "execution_count": 58,
   "id": "a7345994",
   "metadata": {},
   "outputs": [],
   "source": [
    "#create a linear regression with the binary variable and plot"
   ]
  },
  {
   "cell_type": "code",
   "execution_count": 60,
   "id": "c9229759",
   "metadata": {},
   "outputs": [],
   "source": [
    "x = df.carat_binary\n",
    "y = df.price"
   ]
  },
  {
   "cell_type": "code",
   "execution_count": 62,
   "id": "39f4f5cc",
   "metadata": {},
   "outputs": [],
   "source": [
    "x = sm.tools.tools.add_constant(x)"
   ]
  },
  {
   "cell_type": "code",
   "execution_count": 63,
   "id": "acaf4fba",
   "metadata": {},
   "outputs": [
    {
     "data": {
      "text/html": [
       "<table class=\"simpletable\">\n",
       "<caption>OLS Regression Results</caption>\n",
       "<tr>\n",
       "  <th>Dep. Variable:</th>          <td>price</td>      <th>  R-squared:         </th> <td>   0.659</td>\n",
       "</tr>\n",
       "<tr>\n",
       "  <th>Model:</th>                   <td>OLS</td>       <th>  Adj. R-squared:    </th> <td>   0.658</td>\n",
       "</tr>\n",
       "<tr>\n",
       "  <th>Method:</th>             <td>Least Squares</td>  <th>  F-statistic:       </th> <td>   591.5</td>\n",
       "</tr>\n",
       "<tr>\n",
       "  <th>Date:</th>             <td>Wed, 07 Jun 2023</td> <th>  Prob (F-statistic):</th> <td>1.79e-73</td>\n",
       "</tr>\n",
       "<tr>\n",
       "  <th>Time:</th>                 <td>21:02:07</td>     <th>  Log-Likelihood:    </th> <td> -2775.6</td>\n",
       "</tr>\n",
       "<tr>\n",
       "  <th>No. Observations:</th>      <td>   308</td>      <th>  AIC:               </th> <td>   5555.</td>\n",
       "</tr>\n",
       "<tr>\n",
       "  <th>Df Residuals:</th>          <td>   306</td>      <th>  BIC:               </th> <td>   5563.</td>\n",
       "</tr>\n",
       "<tr>\n",
       "  <th>Df Model:</th>              <td>     1</td>      <th>                     </th>     <td> </td>   \n",
       "</tr>\n",
       "<tr>\n",
       "  <th>Covariance Type:</th>      <td>nonrobust</td>    <th>                     </th>     <td> </td>   \n",
       "</tr>\n",
       "</table>\n",
       "<table class=\"simpletable\">\n",
       "<tr>\n",
       "        <td></td>          <th>coef</th>     <th>std err</th>      <th>t</th>      <th>P>|t|</th>  <th>[0.025</th>    <th>0.975]</th>  \n",
       "</tr>\n",
       "<tr>\n",
       "  <th>const</th>        <td> 2225.2303</td> <td>  161.442</td> <td>   13.783</td> <td> 0.000</td> <td> 1907.553</td> <td> 2542.908</td>\n",
       "</tr>\n",
       "<tr>\n",
       "  <th>carat_binary</th> <td> 5516.8595</td> <td>  226.846</td> <td>   24.320</td> <td> 0.000</td> <td> 5070.485</td> <td> 5963.234</td>\n",
       "</tr>\n",
       "</table>\n",
       "<table class=\"simpletable\">\n",
       "<tr>\n",
       "  <th>Omnibus:</th>       <td>33.053</td> <th>  Durbin-Watson:     </th> <td>   0.504</td>\n",
       "</tr>\n",
       "<tr>\n",
       "  <th>Prob(Omnibus):</th> <td> 0.000</td> <th>  Jarque-Bera (JB):  </th> <td>  48.667</td>\n",
       "</tr>\n",
       "<tr>\n",
       "  <th>Skew:</th>          <td> 0.698</td> <th>  Prob(JB):          </th> <td>2.70e-11</td>\n",
       "</tr>\n",
       "<tr>\n",
       "  <th>Kurtosis:</th>      <td> 4.358</td> <th>  Cond. No.          </th> <td>    2.63</td>\n",
       "</tr>\n",
       "</table><br/><br/>Notes:<br/>[1] Standard Errors assume that the covariance matrix of the errors is correctly specified."
      ],
      "text/plain": [
       "<class 'statsmodels.iolib.summary.Summary'>\n",
       "\"\"\"\n",
       "                            OLS Regression Results                            \n",
       "==============================================================================\n",
       "Dep. Variable:                  price   R-squared:                       0.659\n",
       "Model:                            OLS   Adj. R-squared:                  0.658\n",
       "Method:                 Least Squares   F-statistic:                     591.5\n",
       "Date:                Wed, 07 Jun 2023   Prob (F-statistic):           1.79e-73\n",
       "Time:                        21:02:07   Log-Likelihood:                -2775.6\n",
       "No. Observations:                 308   AIC:                             5555.\n",
       "Df Residuals:                     306   BIC:                             5563.\n",
       "Df Model:                           1                                         \n",
       "Covariance Type:            nonrobust                                         \n",
       "================================================================================\n",
       "                   coef    std err          t      P>|t|      [0.025      0.975]\n",
       "--------------------------------------------------------------------------------\n",
       "const         2225.2303    161.442     13.783      0.000    1907.553    2542.908\n",
       "carat_binary  5516.8595    226.846     24.320      0.000    5070.485    5963.234\n",
       "==============================================================================\n",
       "Omnibus:                       33.053   Durbin-Watson:                   0.504\n",
       "Prob(Omnibus):                  0.000   Jarque-Bera (JB):               48.667\n",
       "Skew:                           0.698   Prob(JB):                     2.70e-11\n",
       "Kurtosis:                       4.358   Cond. No.                         2.63\n",
       "==============================================================================\n",
       "\n",
       "Notes:\n",
       "[1] Standard Errors assume that the covariance matrix of the errors is correctly specified.\n",
       "\"\"\""
      ]
     },
     "execution_count": 63,
     "metadata": {},
     "output_type": "execute_result"
    }
   ],
   "source": [
    "model_2 = sm.OLS(endog = y, exog = x).fit()\n",
    "model_2.summary()"
   ]
  },
  {
   "cell_type": "markdown",
   "id": "723d73e3",
   "metadata": {},
   "source": [
    "Lower R-squared as only two data, 0 and 1 as opposed to continuous variable.\n",
    "\n",
    "\"If the carat is greater than 0.6, then carat binary is 1 and price increases by more than 5,516.86 sterling. If the carat is less than 0.6 then the carat binary is 0 and the predicted price si 2,225.23 sterling."
   ]
  },
  {
   "cell_type": "code",
   "execution_count": 64,
   "id": "6028891c",
   "metadata": {},
   "outputs": [
    {
     "data": {
      "text/plain": [
       "Text(0, 0.5, 'Price')"
      ]
     },
     "execution_count": 64,
     "metadata": {},
     "output_type": "execute_result"
    },
    {
     "data": {
      "image/png": "[encoded data removed]",
      "text/plain": [
       "<Figure size 640x480 with 1 Axes>"
      ]
     },
     "metadata": {},
     "output_type": "display_data"
    }
   ],
   "source": [
    "x = df.carat\n",
    "\n",
    "plt.plot(x, y, 'o')\n",
    "\n",
    "b, a = np.polyfit(x, y, 1)\n",
    "plt.plot(x, b * x + a)\n",
    "plt.xlabel(\"Carat_Binary\")\n",
    "plt.ylabel(\"Price\")"
   ]
  }
 ],
 "metadata": {
  "kernelspec": {
   "display_name": "Python 3 (ipykernel)",
   "language": "python",
   "name": "python3"
  },
  "language_info": {
   "codemirror_mode": {
    "name": "ipython",
    "version": 3
   },
   "file_extension": ".py",
   "mimetype": "text/x-python",
   "name": "python",
   "nbconvert_exporter": "python",
   "pygments_lexer": "ipython3",
   "version": "3.9.13"
  }
 },
 "nbformat": 4,
 "nbformat_minor": 5
}
