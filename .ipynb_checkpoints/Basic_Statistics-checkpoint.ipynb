{
 "cells": [
  {
   "cell_type": "markdown",
   "id": "d03fe447",
   "metadata": {},
   "source": [
    "# Arithmetic mean"
   ]
  },
  {
   "cell_type": "markdown",
   "id": "0e00cea7",
   "metadata": {},
   "source": [
    "$\\bar{x}= \\sum{x}_{i} / {n}$"
   ]
  },
  {
   "cell_type": "markdown",
   "id": "b06d885f",
   "metadata": {},
   "source": [
    "# Libraries, directory and data"
   ]
  },
  {
   "cell_type": "markdown",
   "id": "9817378e",
   "metadata": {},
   "source": [
    "Directory change not needed."
   ]
  },
  {
   "cell_type": "code",
   "execution_count": 2,
   "id": "e0607c1e",
   "metadata": {},
   "outputs": [],
   "source": [
    "import pandas as pd\n",
    "import seaborn as sns"
   ]
  },
  {
   "cell_type": "code",
   "execution_count": 3,
   "id": "80c4ccdc",
   "metadata": {},
   "outputs": [],
   "source": [
    "df = pd.read_csv(\"Baseball.csv\")"
   ]
  },
  {
   "cell_type": "code",
   "execution_count": 4,
   "id": "b1de2382",
   "metadata": {},
   "outputs": [
    {
     "data": {
      "text/html": [
       "<div>\n",
       "<style scoped>\n",
       "    .dataframe tbody tr th:only-of-type {\n",
       "        vertical-align: middle;\n",
       "    }\n",
       "\n",
       "    .dataframe tbody tr th {\n",
       "        vertical-align: top;\n",
       "    }\n",
       "\n",
       "    .dataframe thead th {\n",
       "        text-align: right;\n",
       "    }\n",
       "</style>\n",
       "<table border=\"1\" class=\"dataframe\">\n",
       "  <thead>\n",
       "    <tr style=\"text-align: right;\">\n",
       "      <th></th>\n",
       "      <th>Team</th>\n",
       "      <th>League</th>\n",
       "      <th>Year</th>\n",
       "      <th>RS</th>\n",
       "      <th>RA</th>\n",
       "      <th>W</th>\n",
       "      <th>OBP</th>\n",
       "      <th>SLG</th>\n",
       "      <th>BA</th>\n",
       "      <th>Playoffs</th>\n",
       "      <th>RankSeason</th>\n",
       "      <th>RankPlayoffs</th>\n",
       "      <th>G</th>\n",
       "      <th>OOBP</th>\n",
       "      <th>OSLG</th>\n",
       "    </tr>\n",
       "  </thead>\n",
       "  <tbody>\n",
       "    <tr>\n",
       "      <th>0</th>\n",
       "      <td>ARI</td>\n",
       "      <td>NL</td>\n",
       "      <td>2012</td>\n",
       "      <td>734</td>\n",
       "      <td>688</td>\n",
       "      <td>81</td>\n",
       "      <td>0.328</td>\n",
       "      <td>0.418</td>\n",
       "      <td>0.259</td>\n",
       "      <td>0</td>\n",
       "      <td>NaN</td>\n",
       "      <td>NaN</td>\n",
       "      <td>162</td>\n",
       "      <td>0.317</td>\n",
       "      <td>0.415</td>\n",
       "    </tr>\n",
       "    <tr>\n",
       "      <th>1</th>\n",
       "      <td>ATL</td>\n",
       "      <td>NL</td>\n",
       "      <td>2012</td>\n",
       "      <td>700</td>\n",
       "      <td>600</td>\n",
       "      <td>94</td>\n",
       "      <td>0.320</td>\n",
       "      <td>0.389</td>\n",
       "      <td>0.247</td>\n",
       "      <td>1</td>\n",
       "      <td>4.0</td>\n",
       "      <td>5.0</td>\n",
       "      <td>162</td>\n",
       "      <td>0.306</td>\n",
       "      <td>0.378</td>\n",
       "    </tr>\n",
       "    <tr>\n",
       "      <th>2</th>\n",
       "      <td>BAL</td>\n",
       "      <td>AL</td>\n",
       "      <td>2012</td>\n",
       "      <td>712</td>\n",
       "      <td>705</td>\n",
       "      <td>93</td>\n",
       "      <td>0.311</td>\n",
       "      <td>0.417</td>\n",
       "      <td>0.247</td>\n",
       "      <td>1</td>\n",
       "      <td>5.0</td>\n",
       "      <td>4.0</td>\n",
       "      <td>162</td>\n",
       "      <td>0.315</td>\n",
       "      <td>0.403</td>\n",
       "    </tr>\n",
       "    <tr>\n",
       "      <th>3</th>\n",
       "      <td>BOS</td>\n",
       "      <td>AL</td>\n",
       "      <td>2012</td>\n",
       "      <td>734</td>\n",
       "      <td>806</td>\n",
       "      <td>69</td>\n",
       "      <td>0.315</td>\n",
       "      <td>0.415</td>\n",
       "      <td>0.260</td>\n",
       "      <td>0</td>\n",
       "      <td>NaN</td>\n",
       "      <td>NaN</td>\n",
       "      <td>162</td>\n",
       "      <td>0.331</td>\n",
       "      <td>0.428</td>\n",
       "    </tr>\n",
       "    <tr>\n",
       "      <th>4</th>\n",
       "      <td>CHC</td>\n",
       "      <td>NL</td>\n",
       "      <td>2012</td>\n",
       "      <td>613</td>\n",
       "      <td>759</td>\n",
       "      <td>61</td>\n",
       "      <td>0.302</td>\n",
       "      <td>0.378</td>\n",
       "      <td>0.240</td>\n",
       "      <td>0</td>\n",
       "      <td>NaN</td>\n",
       "      <td>NaN</td>\n",
       "      <td>162</td>\n",
       "      <td>0.335</td>\n",
       "      <td>0.424</td>\n",
       "    </tr>\n",
       "  </tbody>\n",
       "</table>\n",
       "</div>"
      ],
      "text/plain": [
       "  Team League  Year   RS   RA   W    OBP    SLG     BA  Playoffs  RankSeason  \\\n",
       "0  ARI     NL  2012  734  688  81  0.328  0.418  0.259         0         NaN   \n",
       "1  ATL     NL  2012  700  600  94  0.320  0.389  0.247         1         4.0   \n",
       "2  BAL     AL  2012  712  705  93  0.311  0.417  0.247         1         5.0   \n",
       "3  BOS     AL  2012  734  806  69  0.315  0.415  0.260         0         NaN   \n",
       "4  CHC     NL  2012  613  759  61  0.302  0.378  0.240         0         NaN   \n",
       "\n",
       "   RankPlayoffs    G   OOBP   OSLG  \n",
       "0           NaN  162  0.317  0.415  \n",
       "1           5.0  162  0.306  0.378  \n",
       "2           4.0  162  0.315  0.403  \n",
       "3           NaN  162  0.331  0.428  \n",
       "4           NaN  162  0.335  0.424  "
      ]
     },
     "execution_count": 4,
     "metadata": {},
     "output_type": "execute_result"
    }
   ],
   "source": [
    "df.head()"
   ]
  },
  {
   "cell_type": "markdown",
   "id": "2a6b1339",
   "metadata": {},
   "source": [
    "# Mean"
   ]
  },
  {
   "cell_type": "code",
   "execution_count": 5,
   "id": "bb16bf91",
   "metadata": {},
   "outputs": [
    {
     "data": {
      "text/plain": [
       "715.0819805194806"
      ]
     },
     "execution_count": 5,
     "metadata": {},
     "output_type": "execute_result"
    }
   ],
   "source": [
    "#Mean of RS\n",
    "\n",
    "df.RS.mean()"
   ]
  },
  {
   "cell_type": "code",
   "execution_count": 6,
   "id": "a0044539",
   "metadata": {},
   "outputs": [
    {
     "data": {
      "text/plain": [
       "742.2"
      ]
     },
     "execution_count": 6,
     "metadata": {},
     "output_type": "execute_result"
    }
   ],
   "source": [
    "#Mean of ARI's RS\n",
    "\n",
    "df.loc[df.Team == 'ARI'].RS.mean()"
   ]
  },
  {
   "cell_type": "code",
   "execution_count": 10,
   "id": "f00cc751",
   "metadata": {},
   "outputs": [
    {
     "data": {
      "text/plain": [
       "729.0"
      ]
     },
     "execution_count": 10,
     "metadata": {},
     "output_type": "execute_result"
    }
   ],
   "source": [
    "#Mean of ARI's RS since 2005\n",
    "\n",
    "df.loc[(df.Team == 'ARI') & (df.Year > 2005)].RS.mean()"
   ]
  },
  {
   "cell_type": "code",
   "execution_count": 19,
   "id": "99ad3990",
   "metadata": {},
   "outputs": [
    {
     "data": {
      "text/plain": [
       "728.170731707317"
      ]
     },
     "execution_count": 19,
     "metadata": {},
     "output_type": "execute_result"
    }
   ],
   "source": [
    "#What is the mean of RA for CHC?\n",
    "\n",
    "df.loc[(df.Team == 'CHC') & (df.Year < 2007)].RA.mean()"
   ]
  },
  {
   "cell_type": "markdown",
   "id": "bd74deff",
   "metadata": {},
   "source": [
    "# Mode and Median"
   ]
  },
  {
   "cell_type": "markdown",
   "id": "ac687c1b",
   "metadata": {},
   "source": [
    "Mode is most frequent.\n",
    "\n",
    "Median is the center of an ordered set. Often used with skewed data e.g. national salaries, where 50th percentile is not so affected by large incomes as the mean."
   ]
  },
  {
   "cell_type": "code",
   "execution_count": 22,
   "id": "dae9278b",
   "metadata": {},
   "outputs": [
    {
     "name": "stdout",
     "output_type": "stream",
     "text": [
      "80.90422077922078 81.0\n"
     ]
    }
   ],
   "source": [
    "#Median and Mean of Wins (W)\n",
    "\n",
    "print(df.W.mean(), df.W.median())"
   ]
  },
  {
   "cell_type": "code",
   "execution_count": 26,
   "id": "2eb51704",
   "metadata": {},
   "outputs": [
    {
     "data": {
      "text/plain": [
       "89.0"
      ]
     },
     "execution_count": 26,
     "metadata": {},
     "output_type": "execute_result"
    }
   ],
   "source": [
    "# What is the median of BAL W's until 2000?\n",
    "\n",
    "df.loc[(df.Team == 'BAL') & (df.Year <= 2000)].W.median()"
   ]
  },
  {
   "cell_type": "code",
   "execution_count": 29,
   "id": "340a73f4",
   "metadata": {},
   "outputs": [
    {
     "name": "stdout",
     "output_type": "stream",
     "text": [
      "0.3263311688311693 0.326 0    0.322\n",
      "Name: OBP, dtype: float64\n"
     ]
    }
   ],
   "source": [
    "# Mode of the On-Base Percentage\n",
    "\n",
    "print(df.OBP.mean(), df.OBP.median(), df.OBP.mode())"
   ]
  },
  {
   "cell_type": "code",
   "execution_count": 32,
   "id": "cf15e722",
   "metadata": {},
   "outputs": [
    {
     "data": {
      "text/plain": [
       "0    0.332\n",
       "Name: OBP, dtype: float64"
      ]
     },
     "execution_count": 32,
     "metadata": {},
     "output_type": "execute_result"
    }
   ],
   "source": [
    "#Mode of OBP during 2010\n",
    "\n",
    "df.loc[(df.Year == 2010)].OBP.mode()"
   ]
  },
  {
   "cell_type": "markdown",
   "id": "44532dcf",
   "metadata": {},
   "source": [
    "# (Pearson) Correlation"
   ]
  },
  {
   "cell_type": "markdown",
   "id": "f6cbe0a1",
   "metadata": {},
   "source": [
    "A measure of the relationship between two variables.\n",
    "\n",
    "1 means strong positive relationship e.g. rain and umbrella use\n",
    "\n",
    "-1 means strong negative relationship e.g. sunshine and umbrella use\n",
    "\n",
    "0 indicates no relationship e.g. shoe colour and umbrella use"
   ]
  },
  {
   "cell_type": "markdown",
   "id": "e87b12b5",
   "metadata": {},
   "source": [
    "# $ r = \\frac{{}\\sum_{i=1}^{n} (x_i - \\overline{x})(y_i - \\overline{y})}\n",
    "{\\sqrt{\\sum_{i=1}^{n} (x_i - \\overline{x})^2  \\sum_{i=1}^{n}(y_i - \\overline{y})^2}} $"
   ]
  },
  {
   "cell_type": "markdown",
   "id": "15816400",
   "metadata": {},
   "source": [
    "\"The sum of all values of set less mean of that set over the square root of the sum of these values squared\""
   ]
  },
  {
   "cell_type": "markdown",
   "id": "cf2cc73d",
   "metadata": {},
   "source": [
    "Why are they squared?\n",
    "\n",
    "Squares are mathematically tractable, easy to control or influence, as opposed to absolute numbers. "
   ]
  },
  {
   "cell_type": "markdown",
   "id": "b9941612",
   "metadata": {},
   "source": [
    "# Correlation"
   ]
  },
  {
   "cell_type": "code",
   "execution_count": 50,
   "id": "e03777c3",
   "metadata": {},
   "outputs": [
    {
     "data": {
      "text/html": [
       "<div>\n",
       "<style scoped>\n",
       "    .dataframe tbody tr th:only-of-type {\n",
       "        vertical-align: middle;\n",
       "    }\n",
       "\n",
       "    .dataframe tbody tr th {\n",
       "        vertical-align: top;\n",
       "    }\n",
       "\n",
       "    .dataframe thead th {\n",
       "        text-align: right;\n",
       "    }\n",
       "</style>\n",
       "<table border=\"1\" class=\"dataframe\">\n",
       "  <thead>\n",
       "    <tr style=\"text-align: right;\">\n",
       "      <th></th>\n",
       "      <th>RS</th>\n",
       "      <th>RA</th>\n",
       "      <th>W</th>\n",
       "    </tr>\n",
       "  </thead>\n",
       "  <tbody>\n",
       "    <tr>\n",
       "      <th>0</th>\n",
       "      <td>734</td>\n",
       "      <td>688</td>\n",
       "      <td>81</td>\n",
       "    </tr>\n",
       "  </tbody>\n",
       "</table>\n",
       "</div>"
      ],
      "text/plain": [
       "    RS   RA   W\n",
       "0  734  688  81"
      ]
     },
     "execution_count": 50,
     "metadata": {},
     "output_type": "execute_result"
    }
   ],
   "source": [
    "df_correlation = df[[\"RS\", \"RA\", \"W\"]]\n",
    "df_correlation.head(1)"
   ]
  },
  {
   "cell_type": "code",
   "execution_count": 51,
   "id": "b4a53221",
   "metadata": {},
   "outputs": [
    {
     "data": {
      "text/html": [
       "<div>\n",
       "<style scoped>\n",
       "    .dataframe tbody tr th:only-of-type {\n",
       "        vertical-align: middle;\n",
       "    }\n",
       "\n",
       "    .dataframe tbody tr th {\n",
       "        vertical-align: top;\n",
       "    }\n",
       "\n",
       "    .dataframe thead th {\n",
       "        text-align: right;\n",
       "    }\n",
       "</style>\n",
       "<table border=\"1\" class=\"dataframe\">\n",
       "  <thead>\n",
       "    <tr style=\"text-align: right;\">\n",
       "      <th></th>\n",
       "      <th>RS</th>\n",
       "      <th>RA</th>\n",
       "      <th>W</th>\n",
       "    </tr>\n",
       "  </thead>\n",
       "  <tbody>\n",
       "    <tr>\n",
       "      <th>RS</th>\n",
       "      <td>1.000000</td>\n",
       "      <td>0.380139</td>\n",
       "      <td>0.511745</td>\n",
       "    </tr>\n",
       "    <tr>\n",
       "      <th>RA</th>\n",
       "      <td>0.380139</td>\n",
       "      <td>1.000000</td>\n",
       "      <td>-0.532394</td>\n",
       "    </tr>\n",
       "    <tr>\n",
       "      <th>W</th>\n",
       "      <td>0.511745</td>\n",
       "      <td>-0.532394</td>\n",
       "      <td>1.000000</td>\n",
       "    </tr>\n",
       "  </tbody>\n",
       "</table>\n",
       "</div>"
      ],
      "text/plain": [
       "          RS        RA         W\n",
       "RS  1.000000  0.380139  0.511745\n",
       "RA  0.380139  1.000000 -0.532394\n",
       "W   0.511745 -0.532394  1.000000"
      ]
     },
     "execution_count": 51,
     "metadata": {},
     "output_type": "execute_result"
    }
   ],
   "source": [
    "#Correlation matrix\n",
    "\n",
    "df_correlation.corr()"
   ]
  },
  {
   "cell_type": "code",
   "execution_count": 57,
   "id": "de29d83f",
   "metadata": {},
   "outputs": [
    {
     "data": {
      "text/plain": [
       "<AxesSubplot:>"
      ]
     },
     "execution_count": 57,
     "metadata": {},
     "output_type": "execute_result"
    },
    {
     "data": {
      "image/png": "[encoded data removed]",
      "text/plain": [
       "<Figure size 640x480 with 2 Axes>"
      ]
     },
     "metadata": {},
     "output_type": "display_data"
    }
   ],
   "source": [
    "#Correlation heatmap\n",
    "\n",
    "sns.heatmap(data = df_correlation.corr(),\n",
    "           annot = True,\n",
    "           fmt = '.2g',\n",
    "           center = 0,\n",
    "           cmap = 'coolwarm',\n",
    "           linewidths = 1,\n",
    "           linecolor = 'black')"
   ]
  },
  {
   "cell_type": "code",
   "execution_count": 59,
   "id": "253cf3cb",
   "metadata": {},
   "outputs": [
    {
     "data": {
      "text/html": [
       "<div>\n",
       "<style scoped>\n",
       "    .dataframe tbody tr th:only-of-type {\n",
       "        vertical-align: middle;\n",
       "    }\n",
       "\n",
       "    .dataframe tbody tr th {\n",
       "        vertical-align: top;\n",
       "    }\n",
       "\n",
       "    .dataframe thead th {\n",
       "        text-align: right;\n",
       "    }\n",
       "</style>\n",
       "<table border=\"1\" class=\"dataframe\">\n",
       "  <thead>\n",
       "    <tr style=\"text-align: right;\">\n",
       "      <th></th>\n",
       "      <th>OBP</th>\n",
       "      <th>SLG</th>\n",
       "      <th>BA</th>\n",
       "    </tr>\n",
       "  </thead>\n",
       "  <tbody>\n",
       "    <tr>\n",
       "      <th>0</th>\n",
       "      <td>0.328</td>\n",
       "      <td>0.418</td>\n",
       "      <td>0.259</td>\n",
       "    </tr>\n",
       "    <tr>\n",
       "      <th>1</th>\n",
       "      <td>0.320</td>\n",
       "      <td>0.389</td>\n",
       "      <td>0.247</td>\n",
       "    </tr>\n",
       "    <tr>\n",
       "      <th>2</th>\n",
       "      <td>0.311</td>\n",
       "      <td>0.417</td>\n",
       "      <td>0.247</td>\n",
       "    </tr>\n",
       "    <tr>\n",
       "      <th>3</th>\n",
       "      <td>0.315</td>\n",
       "      <td>0.415</td>\n",
       "      <td>0.260</td>\n",
       "    </tr>\n",
       "    <tr>\n",
       "      <th>4</th>\n",
       "      <td>0.302</td>\n",
       "      <td>0.378</td>\n",
       "      <td>0.240</td>\n",
       "    </tr>\n",
       "  </tbody>\n",
       "</table>\n",
       "</div>"
      ],
      "text/plain": [
       "     OBP    SLG     BA\n",
       "0  0.328  0.418  0.259\n",
       "1  0.320  0.389  0.247\n",
       "2  0.311  0.417  0.247\n",
       "3  0.315  0.415  0.260\n",
       "4  0.302  0.378  0.240"
      ]
     },
     "execution_count": 59,
     "metadata": {},
     "output_type": "execute_result"
    }
   ],
   "source": [
    "#Correlation matrix and heatmap for OBP, SLG and BA.\n",
    "\n",
    "df_correlation_2 = df[[\"OBP\", \"SLG\", \"BA\"]]\n",
    "df_correlation_2.head()"
   ]
  },
  {
   "cell_type": "code",
   "execution_count": 60,
   "id": "b69708ec",
   "metadata": {},
   "outputs": [
    {
     "data": {
      "text/html": [
       "<div>\n",
       "<style scoped>\n",
       "    .dataframe tbody tr th:only-of-type {\n",
       "        vertical-align: middle;\n",
       "    }\n",
       "\n",
       "    .dataframe tbody tr th {\n",
       "        vertical-align: top;\n",
       "    }\n",
       "\n",
       "    .dataframe thead th {\n",
       "        text-align: right;\n",
       "    }\n",
       "</style>\n",
       "<table border=\"1\" class=\"dataframe\">\n",
       "  <thead>\n",
       "    <tr style=\"text-align: right;\">\n",
       "      <th></th>\n",
       "      <th>OBP</th>\n",
       "      <th>SLG</th>\n",
       "      <th>BA</th>\n",
       "    </tr>\n",
       "  </thead>\n",
       "  <tbody>\n",
       "    <tr>\n",
       "      <th>OBP</th>\n",
       "      <td>1.000000</td>\n",
       "      <td>0.790910</td>\n",
       "      <td>0.851958</td>\n",
       "    </tr>\n",
       "    <tr>\n",
       "      <th>SLG</th>\n",
       "      <td>0.790910</td>\n",
       "      <td>1.000000</td>\n",
       "      <td>0.790481</td>\n",
       "    </tr>\n",
       "    <tr>\n",
       "      <th>BA</th>\n",
       "      <td>0.851958</td>\n",
       "      <td>0.790481</td>\n",
       "      <td>1.000000</td>\n",
       "    </tr>\n",
       "  </tbody>\n",
       "</table>\n",
       "</div>"
      ],
      "text/plain": [
       "          OBP       SLG        BA\n",
       "OBP  1.000000  0.790910  0.851958\n",
       "SLG  0.790910  1.000000  0.790481\n",
       "BA   0.851958  0.790481  1.000000"
      ]
     },
     "execution_count": 60,
     "metadata": {},
     "output_type": "execute_result"
    }
   ],
   "source": [
    "df_correlation_2.corr()"
   ]
  },
  {
   "cell_type": "code",
   "execution_count": 71,
   "id": "002baf88",
   "metadata": {},
   "outputs": [
    {
     "data": {
      "text/plain": [
       "<AxesSubplot:>"
      ]
     },
     "execution_count": 71,
     "metadata": {},
     "output_type": "execute_result"
    },
    {
     "data": {
      "image/png": "[encoded data removed]",
      "text/plain": [
       "<Figure size 640x480 with 1 Axes>"
      ]
     },
     "metadata": {},
     "output_type": "display_data"
    }
   ],
   "source": [
    "sns.heatmap(data = df_correlation_2.corr(),\n",
    "           annot = True,\n",
    "           fmt = \".1f\",\n",
    "           cmap = \"crest\",\n",
    "           linewidths = 0.5,\n",
    "           linecolor = \"orange\",\n",
    "           cbar = False)"
   ]
  },
  {
   "cell_type": "markdown",
   "id": "822f437e",
   "metadata": {},
   "source": [
    "# Standard Deviation"
   ]
  },
  {
   "cell_type": "markdown",
   "id": "a39b2d40",
   "metadata": {},
   "source": [
    "Measures the variations or dispersion of a set of values about the mean.\n",
    "\n",
    "High values mean high variation, and the reverse is true."
   ]
  },
  {
   "cell_type": "markdown",
   "id": "307309f0",
   "metadata": {},
   "source": [
    "# $ \\sigma = \\sqrt{\\sum(x_i - \\mu)^2 / {n}} $"
   ]
  },
  {
   "cell_type": "code",
   "execution_count": 73,
   "id": "c94d2615",
   "metadata": {},
   "outputs": [
    {
     "name": "stdout",
     "output_type": "stream",
     "text": [
      "0.33226428571428523 0.015295316041389943\n"
     ]
    }
   ],
   "source": [
    "print(df.OOBP.mean(), df.OOBP.std())"
   ]
  },
  {
   "cell_type": "code",
   "execution_count": 75,
   "id": "b331a6c9",
   "metadata": {},
   "outputs": [
    {
     "name": "stdout",
     "output_type": "stream",
     "text": [
      "0.25927272727272715 0.012907228928000327\n"
     ]
    }
   ],
   "source": [
    "#What is the standard deviation of BA?\n",
    "print(df.BA.mean(), df.BA.std())"
   ]
  }
 ],
 "metadata": {
  "kernelspec": {
   "display_name": "Python 3 (ipykernel)",
   "language": "python",
   "name": "python3"
  },
  "language_info": {
   "codemirror_mode": {
    "name": "ipython",
    "version": 3
   },
   "file_extension": ".py",
   "mimetype": "text/x-python",
   "name": "python",
   "nbconvert_exporter": "python",
   "pygments_lexer": "ipython3",
   "version": "3.9.13"
  }
 },
 "nbformat": 4,
 "nbformat_minor": 5
}
