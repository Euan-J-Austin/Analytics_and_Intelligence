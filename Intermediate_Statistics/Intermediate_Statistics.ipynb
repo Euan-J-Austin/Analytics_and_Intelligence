{
 "cells": [
  {
   "cell_type": "markdown",
   "id": "508262c1",
   "metadata": {},
   "source": [
    "# Normal (a.k.a. Gaussian) Distribution"
   ]
  },
  {
   "cell_type": "markdown",
   "id": "fe1ae091",
   "metadata": {},
   "source": [
    "Symmetric, bell-shaped, and thin-tails\n",
    "\n",
    "Data occuring near the mean is more frequent\n",
    "\n",
    "The basis of some statistical methods e.g. regression normalization of errors"
   ]
  },
  {
   "cell_type": "markdown",
   "id": "8be4becc",
   "metadata": {},
   "source": [
    "68-95-99.7 rule . . . 68% percent of observations occur within 1 s.d. of the mean etc."
   ]
  },
  {
   "cell_type": "markdown",
   "id": "d238a2fe",
   "metadata": {},
   "source": [
    "# Wine Quality"
   ]
  },
  {
   "cell_type": "code",
   "execution_count": 5,
   "id": "742f0cc8",
   "metadata": {},
   "outputs": [],
   "source": [
    "import pandas as pd\n",
    "import scipy.stats as st\n",
    "import math as m\n",
    "import statsmodels.stats.api as sm\n",
    "import seaborn as sns"
   ]
  },
  {
   "cell_type": "code",
   "execution_count": 6,
   "id": "03540e69",
   "metadata": {},
   "outputs": [],
   "source": [
    "df = pd.read_csv(\"wine_quality.csv\")"
   ]
  },
  {
   "cell_type": "code",
   "execution_count": 7,
   "id": "7218d866",
   "metadata": {},
   "outputs": [
    {
     "data": {
      "text/html": [
       "<div>\n",
       "<style scoped>\n",
       "    .dataframe tbody tr th:only-of-type {\n",
       "        vertical-align: middle;\n",
       "    }\n",
       "\n",
       "    .dataframe tbody tr th {\n",
       "        vertical-align: top;\n",
       "    }\n",
       "\n",
       "    .dataframe thead th {\n",
       "        text-align: right;\n",
       "    }\n",
       "</style>\n",
       "<table border=\"1\" class=\"dataframe\">\n",
       "  <thead>\n",
       "    <tr style=\"text-align: right;\">\n",
       "      <th></th>\n",
       "      <th>fixed acidity</th>\n",
       "      <th>volatile acidity</th>\n",
       "      <th>citric acid</th>\n",
       "      <th>residual sugar</th>\n",
       "      <th>chlorides</th>\n",
       "      <th>free sulfur dioxide</th>\n",
       "      <th>total sulfur dioxide</th>\n",
       "      <th>density</th>\n",
       "      <th>pH</th>\n",
       "      <th>sulphates</th>\n",
       "      <th>alcohol</th>\n",
       "      <th>quality</th>\n",
       "    </tr>\n",
       "  </thead>\n",
       "  <tbody>\n",
       "    <tr>\n",
       "      <th>0</th>\n",
       "      <td>7.4</td>\n",
       "      <td>0.70</td>\n",
       "      <td>0.00</td>\n",
       "      <td>1.9</td>\n",
       "      <td>0.076</td>\n",
       "      <td>11.0</td>\n",
       "      <td>34.0</td>\n",
       "      <td>0.9978</td>\n",
       "      <td>3.51</td>\n",
       "      <td>0.56</td>\n",
       "      <td>9.4</td>\n",
       "      <td>5</td>\n",
       "    </tr>\n",
       "    <tr>\n",
       "      <th>1</th>\n",
       "      <td>7.8</td>\n",
       "      <td>0.88</td>\n",
       "      <td>0.00</td>\n",
       "      <td>2.6</td>\n",
       "      <td>0.098</td>\n",
       "      <td>25.0</td>\n",
       "      <td>67.0</td>\n",
       "      <td>0.9968</td>\n",
       "      <td>3.20</td>\n",
       "      <td>0.68</td>\n",
       "      <td>9.8</td>\n",
       "      <td>5</td>\n",
       "    </tr>\n",
       "    <tr>\n",
       "      <th>2</th>\n",
       "      <td>7.8</td>\n",
       "      <td>0.76</td>\n",
       "      <td>0.04</td>\n",
       "      <td>2.3</td>\n",
       "      <td>0.092</td>\n",
       "      <td>15.0</td>\n",
       "      <td>54.0</td>\n",
       "      <td>0.9970</td>\n",
       "      <td>3.26</td>\n",
       "      <td>0.65</td>\n",
       "      <td>9.8</td>\n",
       "      <td>5</td>\n",
       "    </tr>\n",
       "    <tr>\n",
       "      <th>3</th>\n",
       "      <td>11.2</td>\n",
       "      <td>0.28</td>\n",
       "      <td>0.56</td>\n",
       "      <td>1.9</td>\n",
       "      <td>0.075</td>\n",
       "      <td>17.0</td>\n",
       "      <td>60.0</td>\n",
       "      <td>0.9980</td>\n",
       "      <td>3.16</td>\n",
       "      <td>0.58</td>\n",
       "      <td>9.8</td>\n",
       "      <td>6</td>\n",
       "    </tr>\n",
       "    <tr>\n",
       "      <th>4</th>\n",
       "      <td>7.4</td>\n",
       "      <td>0.70</td>\n",
       "      <td>0.00</td>\n",
       "      <td>1.9</td>\n",
       "      <td>0.076</td>\n",
       "      <td>11.0</td>\n",
       "      <td>34.0</td>\n",
       "      <td>0.9978</td>\n",
       "      <td>3.51</td>\n",
       "      <td>0.56</td>\n",
       "      <td>9.4</td>\n",
       "      <td>5</td>\n",
       "    </tr>\n",
       "  </tbody>\n",
       "</table>\n",
       "</div>"
      ],
      "text/plain": [
       "   fixed acidity  volatile acidity  citric acid  residual sugar  chlorides  \\\n",
       "0            7.4              0.70         0.00             1.9      0.076   \n",
       "1            7.8              0.88         0.00             2.6      0.098   \n",
       "2            7.8              0.76         0.04             2.3      0.092   \n",
       "3           11.2              0.28         0.56             1.9      0.075   \n",
       "4            7.4              0.70         0.00             1.9      0.076   \n",
       "\n",
       "   free sulfur dioxide  total sulfur dioxide  density    pH  sulphates  \\\n",
       "0                 11.0                  34.0   0.9978  3.51       0.56   \n",
       "1                 25.0                  67.0   0.9968  3.20       0.68   \n",
       "2                 15.0                  54.0   0.9970  3.26       0.65   \n",
       "3                 17.0                  60.0   0.9980  3.16       0.58   \n",
       "4                 11.0                  34.0   0.9978  3.51       0.56   \n",
       "\n",
       "   alcohol  quality  \n",
       "0      9.4        5  \n",
       "1      9.8        5  \n",
       "2      9.8        5  \n",
       "3      9.8        6  \n",
       "4      9.4        5  "
      ]
     },
     "execution_count": 7,
     "metadata": {},
     "output_type": "execute_result"
    }
   ],
   "source": [
    "df.head()"
   ]
  },
  {
   "cell_type": "code",
   "execution_count": 9,
   "id": "11d920dd",
   "metadata": {},
   "outputs": [
    {
     "data": {
      "text/plain": [
       "<AxesSubplot:ylabel='Density'>"
      ]
     },
     "execution_count": 9,
     "metadata": {},
     "output_type": "execute_result"
    },
    {
     "data": {
      "image/png": "[encoded data removed]",
      "text/plain": [
       "<Figure size 640x480 with 1 Axes>"
      ]
     },
     "metadata": {},
     "output_type": "display_data"
    }
   ],
   "source": [
    "#Density plot for chlorides\n",
    "\n",
    "df.chlorides.plot.density()"
   ]
  },
  {
   "cell_type": "code",
   "execution_count": 16,
   "id": "8400180a",
   "metadata": {},
   "outputs": [
    {
     "name": "stdout",
     "output_type": "stream",
     "text": [
      "0.9480925578486554\n",
      "0.9718574108818011\n",
      "0.9806128830519074\n"
     ]
    }
   ],
   "source": [
    "#Portion of observations within 'x' standard deviations?\n",
    "\n",
    "#within +1 or -1 standard deviation\n",
    "print(df.loc[(df.chlorides <= df.chlorides.mean() + 1 * df.chlorides.std()) & \n",
    "       (df.chlorides >= df.chlorides.mean() + -1 * df.chlorides.std())].chlorides.count()/df.chlorides.count())\n",
    "#within +2 or -2 standard deviation\n",
    "print(df.loc[(df.chlorides <= df.chlorides.mean() + 2 * df.chlorides.std()) & \n",
    "       (df.chlorides >= df.chlorides.mean() + -2 * df.chlorides.std())].chlorides.count()/df.chlorides.count())\n",
    "#within +3 or -3 standard deviation\n",
    "print(df.loc[(df.chlorides <= df.chlorides.mean() + 3 * df.chlorides.std()) & \n",
    "       (df.chlorides >= df.chlorides.mean() + -3 * df.chlorides.std())].chlorides.count()/df.chlorides.count())"
   ]
  },
  {
   "cell_type": "markdown",
   "id": "d9892057",
   "metadata": {},
   "source": [
    "The percentage of chloride observations that occur within 1, 2 and 3 standard deviations of the mean suggest that chlorides are not normally distributed. This confirms what we could observe in the density plot."
   ]
  },
  {
   "cell_type": "code",
   "execution_count": 21,
   "id": "f26c3fcd",
   "metadata": {},
   "outputs": [
    {
     "data": {
      "text/plain": [
       "0.9949968730456535"
      ]
     },
     "execution_count": 21,
     "metadata": {},
     "output_type": "execute_result"
    }
   ],
   "source": [
    "#Portion of alcohol observations within 3 standard deviations?\n",
    "\n",
    "df.loc[(df.alcohol <= df.alcohol.mean() + 3 * df.alcohol.std()) & \n",
    "       (df.alcohol >= df.alcohol.mean() + -3 * df.alcohol.std())].alcohol.count()/df.alcohol.count()"
   ]
  },
  {
   "cell_type": "code",
   "execution_count": 22,
   "id": "1514a997",
   "metadata": {
    "scrolled": true
   },
   "outputs": [
    {
     "data": {
      "text/plain": [
       "<AxesSubplot:ylabel='Density'>"
      ]
     },
     "execution_count": 22,
     "metadata": {},
     "output_type": "execute_result"
    },
    {
     "data": {
      "image/png": "[encoded data removed]",
      "text/plain": [
       "<Figure size 640x480 with 1 Axes>"
      ]
     },
     "metadata": {},
     "output_type": "display_data"
    }
   ],
   "source": [
    "df.alcohol.plot.density()"
   ]
  },
  {
   "cell_type": "markdown",
   "id": "c6efbc28",
   "metadata": {},
   "source": [
    "# P-Value"
   ]
  },
  {
   "cell_type": "markdown",
   "id": "e3c3e71e",
   "metadata": {},
   "source": [
    "Assuming the null hypothesis is correct, the P-value is the  probability (so, 0 to 1) of obtaining results at least as extreme as the observed results of a statistical hypothesis. A lower p-value means greater certainty. \n",
    "\n",
    "Understanding the likelihood of accepting/failing to reject (we cannot prove a negative, analogous to not guilty as opposed to no innocent) the null hypothesis."
   ]
  },
  {
   "cell_type": "markdown",
   "id": "2a2f1a10",
   "metadata": {},
   "source": [
    "## Examples\n",
    "\n",
    "H0: Average salary is £60,000.00\n",
    "\n",
    "H1: Average salary is not equal to £60,000.00\n",
    "\n",
    "A t-test is performed, returning a p-value of 0.2. Using the threshold of 0.05, comparing to the p-value of 0.2 we fail to reject the null hypothesis. This result does not conclusively reveal the null hypothesis to be true or false, we need more evidence."
   ]
  },
  {
   "cell_type": "markdown",
   "id": "fe34eb57",
   "metadata": {},
   "source": [
    "# Shapiro-Wilk test"
   ]
  },
  {
   "cell_type": "markdown",
   "id": "e16981f2",
   "metadata": {},
   "source": [
    "Likelihood data was drawn from a Gaussian distribution."
   ]
  },
  {
   "cell_type": "markdown",
   "id": "364699a0",
   "metadata": {},
   "source": [
    "H0: The distribution is normal.\n",
    "\n",
    "H1: The distribution is not normal.\n",
    "\n",
    "Uses a threshold of 0.05."
   ]
  },
  {
   "cell_type": "code",
   "execution_count": 41,
   "id": "da01fd36",
   "metadata": {},
   "outputs": [
    {
     "name": "stdout",
     "output_type": "stream",
     "text": [
      "0.0\n",
      "H0, that the sample distribution is normal, was rejected.\n"
     ]
    }
   ],
   "source": [
    "# Shapiro-Wilk Test\n",
    "\n",
    "stat = st.shapiro(df.chlorides).statistic \n",
    "pvalue = st.shapiro(df.chlorides).pvalue\n",
    "\n",
    "print(pvalue)\n",
    "if pvalue > 0.05:\n",
    "    print(\"H0, that the sample distribution is normal, could not be rejected.\")\n",
    "else: \n",
    "    print(\"H0, that the sample distribution is normal, was rejected.\")"
   ]
  },
  {
   "cell_type": "code",
   "execution_count": 37,
   "id": "1153b70e",
   "metadata": {},
   "outputs": [
    {
     "data": {
      "text/plain": [
       "<AxesSubplot:ylabel='Density'>"
      ]
     },
     "execution_count": 37,
     "metadata": {},
     "output_type": "execute_result"
    },
    {
     "data": {
      "image/png": "[encoded data removed]",
      "text/plain": [
       "<Figure size 640x480 with 1 Axes>"
      ]
     },
     "metadata": {},
     "output_type": "display_data"
    }
   ],
   "source": [
    "df.chlorides.plot.density()"
   ]
  },
  {
   "cell_type": "code",
   "execution_count": 40,
   "id": "8ee9869e",
   "metadata": {},
   "outputs": [
    {
     "name": "stdout",
     "output_type": "stream",
     "text": [
      "P-value is 5.821617678881608e-38. \n",
      "          \n",
      "H0, that the sample distribution is normal, was rejected.\n"
     ]
    }
   ],
   "source": [
    "#Determine whether the observations for sulfites are normally distributed? \n",
    "\n",
    "sulphates_pvalue = st.shapiro(df.sulphates).pvalue\n",
    "\n",
    "if sulphates_pvalue > 0.05:\n",
    "    print(f\"\"\" P-value is {sulphates_pvalue}. \n",
    "          \n",
    "H0, that the sample distribution is normal, could not be rejected.\"\"\")\n",
    "else:\n",
    "    print(f\"\"\"P-value is {sulphates_pvalue}. \n",
    "          \n",
    "H0, that the sample distribution is normal, was rejected.\"\"\")"
   ]
  },
  {
   "cell_type": "code",
   "execution_count": 34,
   "id": "fee4e408",
   "metadata": {},
   "outputs": [
    {
     "data": {
      "text/plain": [
       "<AxesSubplot:ylabel='Density'>"
      ]
     },
     "execution_count": 34,
     "metadata": {},
     "output_type": "execute_result"
    },
    {
     "data": {
      "image/png": "[encoded data removed]",
      "text/plain": [
       "<Figure size 640x480 with 1 Axes>"
      ]
     },
     "metadata": {},
     "output_type": "display_data"
    }
   ],
   "source": [
    "df.sulphates.plot.density()"
   ]
  },
  {
   "cell_type": "markdown",
   "id": "ea31670e",
   "metadata": {},
   "source": [
    "# The Standard Error (of the sample mean)\n"
   ]
  },
  {
   "cell_type": "markdown",
   "id": "7cefde13",
   "metadata": {},
   "source": [
    "What is the difference between the Standard Deviation and the Standard Error? "
   ]
  },
  {
   "cell_type": "markdown",
   "id": "14c34d78",
   "metadata": {},
   "source": [
    "The standard error of the sample mean is an estimate of how far the sample mean is likely to be from the population mean. Compared to standard deviation is the degree to which individuals within the sample differ from the sample mean.\n",
    "\n",
    "The sample mean is often used to test hypothesis."
   ]
  },
  {
   "cell_type": "markdown",
   "id": "ffbabd4e",
   "metadata": {},
   "source": [
    "# $ {\\mathop {SE}} = \\frac{{\\sigma}}{\\sqrt n} $"
   ]
  },
  {
   "cell_type": "markdown",
   "id": "6c22b0ac",
   "metadata": {},
   "source": [
    "## Calculating the S.E."
   ]
  },
  {
   "cell_type": "code",
   "execution_count": 42,
   "id": "53a89022",
   "metadata": {},
   "outputs": [
    {
     "data": {
      "text/plain": [
       "0.026650018979018173"
      ]
     },
     "execution_count": 42,
     "metadata": {},
     "output_type": "execute_result"
    }
   ],
   "source": [
    "#Using a function\n",
    "\n",
    "st.sem(df.alcohol)"
   ]
  },
  {
   "cell_type": "code",
   "execution_count": 46,
   "id": "c8749863",
   "metadata": {},
   "outputs": [
    {
     "data": {
      "text/plain": [
       "0.026650018979018118"
      ]
     },
     "execution_count": 46,
     "metadata": {},
     "output_type": "execute_result"
    }
   ],
   "source": [
    "# Computing sd/sqrt. n\n",
    "\n",
    "df.alcohol.std() / m.sqrt(df.alcohol.count())"
   ]
  },
  {
   "cell_type": "code",
   "execution_count": 47,
   "id": "76c828de",
   "metadata": {},
   "outputs": [
    {
     "name": "stdout",
     "output_type": "stream",
     "text": [
      "0.0038608683325203784 0.0038608683325203753\n"
     ]
    }
   ],
   "source": [
    "#Standard error of pH\n",
    "\n",
    "print(st.sem(df.pH),\n",
    "     df.pH.std() / m.sqrt(df.pH.count()))"
   ]
  },
  {
   "cell_type": "markdown",
   "id": "aade3dbc",
   "metadata": {},
   "source": [
    "# Z-Score"
   ]
  },
  {
   "cell_type": "markdown",
   "id": "b6924061",
   "metadata": {},
   "source": [
    "How far from the mean a data point is.\n",
    "\n",
    "Can be used to compare results to a 'normal' population."
   ]
  },
  {
   "cell_type": "markdown",
   "id": "0ef9bc58",
   "metadata": {},
   "source": [
    "### z = x - mu / stdev."
   ]
  },
  {
   "cell_type": "markdown",
   "id": "81f8db26",
   "metadata": {},
   "source": [
    "Standardising values for comparison, the z-table will tell you within how many standard deviations of the mean the data point is e.g. 1.5"
   ]
  },
  {
   "cell_type": "markdown",
   "id": "f5682169",
   "metadata": {},
   "source": [
    "# Confidence Interval (when n > 30)"
   ]
  },
  {
   "cell_type": "markdown",
   "id": "82c0e335",
   "metadata": {},
   "source": [
    "A range indicating how precisely a statistic estimates a parameter."
   ]
  },
  {
   "cell_type": "markdown",
   "id": "4f83a7a9",
   "metadata": {},
   "source": [
    "### CI = x-bar +- z * stdev / sqrt. n"
   ]
  },
  {
   "cell_type": "code",
   "execution_count": 57,
   "id": "6a09ac0c",
   "metadata": {},
   "outputs": [
    {
     "name": "stdout",
     "output_type": "stream",
     "text": [
      "(array([0.26142755]), array([0.28052367]))\n"
     ]
    }
   ],
   "source": [
    "#CI for the mean of citric acid\n",
    "\n",
    "print(st.norm.interval(confidence = 0.95,\n",
    "                loc = df[['citric acid']].mean(),\n",
    "                scale = st.sem(df[['citric acid']])))\n"
   ]
  },
  {
   "cell_type": "code",
   "execution_count": 63,
   "id": "21a6c536",
   "metadata": {},
   "outputs": [
    {
     "data": {
      "text/plain": [
       "array([[<AxesSubplot:title={'center':'citric acid'}>]], dtype=object)"
      ]
     },
     "execution_count": 63,
     "metadata": {},
     "output_type": "execute_result"
    },
    {
     "data": {
      "image/png": "[encoded data removed]",
      "text/plain": [
       "<Figure size 640x480 with 1 Axes>"
      ]
     },
     "metadata": {},
     "output_type": "display_data"
    }
   ],
   "source": [
    "df[['citric acid']].hist()"
   ]
  },
  {
   "cell_type": "code",
   "execution_count": 65,
   "id": "d1e53e10",
   "metadata": {},
   "outputs": [
    {
     "name": "stdout",
     "output_type": "stream",
     "text": [
      "(array([0.99665417]), array([0.99683919]))\n"
     ]
    }
   ],
   "source": [
    "#CI for mean of density\n",
    "\n",
    "print(st.norm.interval(confidence = 0.95,\n",
    "                      loc = df[['density']].mean(),\n",
    "                      scale = st.sem(df[['density']])))"
   ]
  },
  {
   "cell_type": "code",
   "execution_count": 66,
   "id": "845d3dd1",
   "metadata": {},
   "outputs": [
    {
     "data": {
      "text/plain": [
       "array([[<AxesSubplot:title={'center':'density'}>]], dtype=object)"
      ]
     },
     "execution_count": 66,
     "metadata": {},
     "output_type": "execute_result"
    },
    {
     "data": {
      "image/png": "[encoded data removed]",
      "text/plain": [
       "<Figure size 640x480 with 1 Axes>"
      ]
     },
     "metadata": {},
     "output_type": "display_data"
    }
   ],
   "source": [
    "#Histogram for density mean\n",
    "df[['density']].hist()"
   ]
  },
  {
   "cell_type": "markdown",
   "id": "ab310924",
   "metadata": {},
   "source": [
    "# T-Tests"
   ]
  },
  {
   "cell_type": "markdown",
   "id": "6a305400",
   "metadata": {},
   "source": [
    "Used to test any statistical hypothesis in which the test statistic follows a Student's-T distribution under the null hypothesis."
   ]
  },
  {
   "cell_type": "markdown",
   "id": "1b1d21ae",
   "metadata": {},
   "source": [
    "In practice, the T-test can help us to understand whether one group is statistically different from another. If the p-value is less than the threshold, then the groups can be considered statistically different."
   ]
  },
  {
   "cell_type": "markdown",
   "id": "f9f51eb3",
   "metadata": {},
   "source": [
    "# Stack Overflow's Remote Working Dataset"
   ]
  },
  {
   "cell_type": "code",
   "execution_count": 67,
   "id": "bc74aa47",
   "metadata": {
    "scrolled": true
   },
   "outputs": [
    {
     "data": {
      "text/html": [
       "<div>\n",
       "<style scoped>\n",
       "    .dataframe tbody tr th:only-of-type {\n",
       "        vertical-align: middle;\n",
       "    }\n",
       "\n",
       "    .dataframe tbody tr th {\n",
       "        vertical-align: top;\n",
       "    }\n",
       "\n",
       "    .dataframe thead th {\n",
       "        text-align: right;\n",
       "    }\n",
       "</style>\n",
       "<table border=\"1\" class=\"dataframe\">\n",
       "  <thead>\n",
       "    <tr style=\"text-align: right;\">\n",
       "      <th></th>\n",
       "      <th>Country</th>\n",
       "      <th>Salary</th>\n",
       "      <th>YearsCodedJob</th>\n",
       "      <th>OpenSource</th>\n",
       "      <th>Hobby</th>\n",
       "      <th>CompanySizeNumber</th>\n",
       "      <th>Remote</th>\n",
       "      <th>CareerSatisfaction</th>\n",
       "      <th>Data_scientist</th>\n",
       "      <th>Database_administrator</th>\n",
       "      <th>...</th>\n",
       "      <th>Developer_with_stats_math_background</th>\n",
       "      <th>DevOps</th>\n",
       "      <th>Embedded_developer</th>\n",
       "      <th>Graphic_designer</th>\n",
       "      <th>Graphics_programming</th>\n",
       "      <th>Machine_learning_specialist</th>\n",
       "      <th>Mobile_developer</th>\n",
       "      <th>Quality_assurance_engineer</th>\n",
       "      <th>Systems_administrator</th>\n",
       "      <th>Web_developer</th>\n",
       "    </tr>\n",
       "  </thead>\n",
       "  <tbody>\n",
       "    <tr>\n",
       "      <th>0</th>\n",
       "      <td>United Kingdom</td>\n",
       "      <td>100000.000000</td>\n",
       "      <td>20</td>\n",
       "      <td>0</td>\n",
       "      <td>1</td>\n",
       "      <td>5000</td>\n",
       "      <td>Remote</td>\n",
       "      <td>8</td>\n",
       "      <td>0</td>\n",
       "      <td>0</td>\n",
       "      <td>...</td>\n",
       "      <td>0</td>\n",
       "      <td>0</td>\n",
       "      <td>1</td>\n",
       "      <td>0</td>\n",
       "      <td>0</td>\n",
       "      <td>0</td>\n",
       "      <td>0</td>\n",
       "      <td>0</td>\n",
       "      <td>0</td>\n",
       "      <td>0</td>\n",
       "    </tr>\n",
       "    <tr>\n",
       "      <th>1</th>\n",
       "      <td>United States</td>\n",
       "      <td>130000.000000</td>\n",
       "      <td>20</td>\n",
       "      <td>1</td>\n",
       "      <td>1</td>\n",
       "      <td>1000</td>\n",
       "      <td>Remote</td>\n",
       "      <td>9</td>\n",
       "      <td>0</td>\n",
       "      <td>0</td>\n",
       "      <td>...</td>\n",
       "      <td>0</td>\n",
       "      <td>1</td>\n",
       "      <td>1</td>\n",
       "      <td>0</td>\n",
       "      <td>0</td>\n",
       "      <td>0</td>\n",
       "      <td>0</td>\n",
       "      <td>1</td>\n",
       "      <td>0</td>\n",
       "      <td>1</td>\n",
       "    </tr>\n",
       "    <tr>\n",
       "      <th>2</th>\n",
       "      <td>United States</td>\n",
       "      <td>175000.000000</td>\n",
       "      <td>16</td>\n",
       "      <td>0</td>\n",
       "      <td>1</td>\n",
       "      <td>10000</td>\n",
       "      <td>Not remote</td>\n",
       "      <td>7</td>\n",
       "      <td>0</td>\n",
       "      <td>0</td>\n",
       "      <td>...</td>\n",
       "      <td>0</td>\n",
       "      <td>0</td>\n",
       "      <td>0</td>\n",
       "      <td>0</td>\n",
       "      <td>0</td>\n",
       "      <td>0</td>\n",
       "      <td>0</td>\n",
       "      <td>0</td>\n",
       "      <td>0</td>\n",
       "      <td>1</td>\n",
       "    </tr>\n",
       "    <tr>\n",
       "      <th>3</th>\n",
       "      <td>Germany</td>\n",
       "      <td>64516.129030</td>\n",
       "      <td>4</td>\n",
       "      <td>0</td>\n",
       "      <td>0</td>\n",
       "      <td>1000</td>\n",
       "      <td>Not remote</td>\n",
       "      <td>9</td>\n",
       "      <td>0</td>\n",
       "      <td>0</td>\n",
       "      <td>...</td>\n",
       "      <td>0</td>\n",
       "      <td>0</td>\n",
       "      <td>0</td>\n",
       "      <td>0</td>\n",
       "      <td>0</td>\n",
       "      <td>0</td>\n",
       "      <td>0</td>\n",
       "      <td>0</td>\n",
       "      <td>0</td>\n",
       "      <td>1</td>\n",
       "    </tr>\n",
       "    <tr>\n",
       "      <th>4</th>\n",
       "      <td>India</td>\n",
       "      <td>6636.323594</td>\n",
       "      <td>1</td>\n",
       "      <td>0</td>\n",
       "      <td>1</td>\n",
       "      <td>5000</td>\n",
       "      <td>Not remote</td>\n",
       "      <td>5</td>\n",
       "      <td>0</td>\n",
       "      <td>0</td>\n",
       "      <td>...</td>\n",
       "      <td>0</td>\n",
       "      <td>0</td>\n",
       "      <td>0</td>\n",
       "      <td>0</td>\n",
       "      <td>0</td>\n",
       "      <td>0</td>\n",
       "      <td>0</td>\n",
       "      <td>0</td>\n",
       "      <td>0</td>\n",
       "      <td>1</td>\n",
       "    </tr>\n",
       "  </tbody>\n",
       "</table>\n",
       "<p>5 rows × 21 columns</p>\n",
       "</div>"
      ],
      "text/plain": [
       "          Country         Salary  YearsCodedJob  OpenSource  Hobby  \\\n",
       "0  United Kingdom  100000.000000             20           0      1   \n",
       "1   United States  130000.000000             20           1      1   \n",
       "2   United States  175000.000000             16           0      1   \n",
       "3         Germany   64516.129030              4           0      0   \n",
       "4           India    6636.323594              1           0      1   \n",
       "\n",
       "   CompanySizeNumber      Remote  CareerSatisfaction  Data_scientist  \\\n",
       "0               5000      Remote                   8               0   \n",
       "1               1000      Remote                   9               0   \n",
       "2              10000  Not remote                   7               0   \n",
       "3               1000  Not remote                   9               0   \n",
       "4               5000  Not remote                   5               0   \n",
       "\n",
       "   Database_administrator  ...  Developer_with_stats_math_background  DevOps  \\\n",
       "0                       0  ...                                     0       0   \n",
       "1                       0  ...                                     0       1   \n",
       "2                       0  ...                                     0       0   \n",
       "3                       0  ...                                     0       0   \n",
       "4                       0  ...                                     0       0   \n",
       "\n",
       "   Embedded_developer  Graphic_designer  Graphics_programming  \\\n",
       "0                   1                 0                     0   \n",
       "1                   1                 0                     0   \n",
       "2                   0                 0                     0   \n",
       "3                   0                 0                     0   \n",
       "4                   0                 0                     0   \n",
       "\n",
       "   Machine_learning_specialist  Mobile_developer  Quality_assurance_engineer  \\\n",
       "0                            0                 0                           0   \n",
       "1                            0                 0                           1   \n",
       "2                            0                 0                           0   \n",
       "3                            0                 0                           0   \n",
       "4                            0                 0                           0   \n",
       "\n",
       "   Systems_administrator  Web_developer  \n",
       "0                      0              0  \n",
       "1                      0              1  \n",
       "2                      0              1  \n",
       "3                      0              1  \n",
       "4                      0              1  \n",
       "\n",
       "[5 rows x 21 columns]"
      ]
     },
     "execution_count": 67,
     "metadata": {},
     "output_type": "execute_result"
    }
   ],
   "source": [
    "so_df = pd.read_csv('stackoverflow.csv')\n",
    "so_df.head()"
   ]
  },
  {
   "cell_type": "code",
   "execution_count": 73,
   "id": "421a6477",
   "metadata": {},
   "outputs": [
    {
     "data": {
      "text/plain": [
       "0       100000.0\n",
       "11       32500.0\n",
       "12       30000.0\n",
       "17       32500.0\n",
       "18       43750.0\n",
       "          ...   \n",
       "5575     53750.0\n",
       "5577     45000.0\n",
       "5580     43750.0\n",
       "5589     88750.0\n",
       "5592     33750.0\n",
       "Name: Salary, Length: 1023, dtype: float64"
      ]
     },
     "execution_count": 73,
     "metadata": {},
     "output_type": "execute_result"
    }
   ],
   "source": [
    "#Subset the data\n",
    "\n",
    "uk_salary = so_df.loc[so_df.Country == 'United Kingdom'].Salary\n",
    "uk_salary"
   ]
  },
  {
   "cell_type": "code",
   "execution_count": 75,
   "id": "9bb8a95d",
   "metadata": {},
   "outputs": [
    {
     "data": {
      "text/plain": [
       "3       64516.129030\n",
       "7       53763.440860\n",
       "9       83870.967740\n",
       "25      10752.688170\n",
       "43      59139.784950\n",
       "            ...     \n",
       "5570    60215.053760\n",
       "5571    48387.096770\n",
       "5574    69892.473120\n",
       "5578     8602.150538\n",
       "5579    41935.483870\n",
       "Name: Salary, Length: 757, dtype: float64"
      ]
     },
     "execution_count": 75,
     "metadata": {},
     "output_type": "execute_result"
    }
   ],
   "source": [
    "de_salary = so_df.loc[so_df.Country == 'Germany'].Salary\n",
    "de_salary"
   ]
  },
  {
   "cell_type": "code",
   "execution_count": 79,
   "id": "24ccec25",
   "metadata": {},
   "outputs": [
    {
     "name": "stdout",
     "output_type": "stream",
     "text": [
      "P-value is 0.026389999555203502, so they groups of data can be considered statistically different. H0 rejected.\n"
     ]
    }
   ],
   "source": [
    "stat, p = st.ttest_ind(a = uk_salary, b= de_salary)\n",
    "\n",
    "#why is a t-test being used for a group with so many observations, Student's-T should be =< 30 observations?\n",
    "\n",
    "if p > 0.05:\n",
    "    print(f'P-value is {p}, so they groups of data are not statistically different. Failed to reject H0.')\n",
    "else:\n",
    "    print(f'P-value is {p}, so they groups of data can be considered statistically different. H0 rejected.')"
   ]
  },
  {
   "cell_type": "code",
   "execution_count": 86,
   "id": "e8e25187",
   "metadata": {},
   "outputs": [
    {
     "name": "stdout",
     "output_type": "stream",
     "text": [
      "P-value is 5.225676347614714e-58, so they groups of data can be considered statistically different. H0 rejected.\n"
     ]
    }
   ],
   "source": [
    "#T-Test in experience between India and the United States \n",
    "\n",
    "in_experience = so_df.loc[so_df.Country == 'India'].YearsCodedJob\n",
    "\n",
    "us_experience = so_df.loc[so_df.Country == 'United States'].YearsCodedJob\n",
    "\n",
    "stat, p = st.ttest_ind(a = in_experience, b = us_experience)\n",
    "\n",
    "if p > 0.05:\n",
    "    print(f'P-value is {p}, so the groups of data are not statistically different. Failed to reject H0.')\n",
    "else:\n",
    "    print(f'P-value is {p}, so the groups of data can be considered statistically different. H0 rejected.')"
   ]
  },
  {
   "cell_type": "code",
   "execution_count": 94,
   "id": "a75f6060",
   "metadata": {},
   "outputs": [
    {
     "data": {
      "text/plain": [
       "<AxesSubplot:>"
      ]
     },
     "execution_count": 94,
     "metadata": {},
     "output_type": "execute_result"
    },
    {
     "data": {
      "image/png": "[encoded data removed]",
      "text/plain": [
       "<Figure size 640x480 with 1 Axes>"
      ]
     },
     "metadata": {},
     "output_type": "display_data"
    }
   ],
   "source": [
    "#Histograms\n",
    "\n",
    "in_experience.hist(color = 'orange')"
   ]
  },
  {
   "cell_type": "code",
   "execution_count": 93,
   "id": "bae6a199",
   "metadata": {},
   "outputs": [
    {
     "data": {
      "text/plain": [
       "<AxesSubplot:>"
      ]
     },
     "execution_count": 93,
     "metadata": {},
     "output_type": "execute_result"
    },
    {
     "data": {
      "image/png": "[encoded data removed]",
      "text/plain": [
       "<Figure size 640x480 with 1 Axes>"
      ]
     },
     "metadata": {},
     "output_type": "display_data"
    }
   ],
   "source": [
    "us_experience.hist()"
   ]
  },
  {
   "cell_type": "markdown",
   "id": "4d6834e7",
   "metadata": {},
   "source": [
    "# (Pearson) Chi-square test"
   ]
  },
  {
   "cell_type": "markdown",
   "id": "7473e3cf",
   "metadata": {},
   "source": [
    "Is there a statistically significant difference between the expected frequencies and the observed frequencies?"
   ]
  },
  {
   "cell_type": "markdown",
   "id": "18cd17c0",
   "metadata": {},
   "source": [
    "T-test tests a null hypothesis about two means.\n",
    "\n",
    "A chi-squared test requires categorical variables"
   ]
  },
  {
   "cell_type": "code",
   "execution_count": 96,
   "id": "612e0efc",
   "metadata": {},
   "outputs": [
    {
     "data": {
      "text/html": [
       "<div>\n",
       "<style scoped>\n",
       "    .dataframe tbody tr th:only-of-type {\n",
       "        vertical-align: middle;\n",
       "    }\n",
       "\n",
       "    .dataframe tbody tr th {\n",
       "        vertical-align: top;\n",
       "    }\n",
       "\n",
       "    .dataframe thead th {\n",
       "        text-align: right;\n",
       "    }\n",
       "</style>\n",
       "<table border=\"1\" class=\"dataframe\">\n",
       "  <thead>\n",
       "    <tr style=\"text-align: right;\">\n",
       "      <th>Remote</th>\n",
       "      <th>Not remote</th>\n",
       "      <th>Remote</th>\n",
       "    </tr>\n",
       "    <tr>\n",
       "      <th>Country</th>\n",
       "      <th></th>\n",
       "      <th></th>\n",
       "    </tr>\n",
       "  </thead>\n",
       "  <tbody>\n",
       "    <tr>\n",
       "      <th>Canada</th>\n",
       "      <td>457</td>\n",
       "      <td>28</td>\n",
       "    </tr>\n",
       "    <tr>\n",
       "      <th>Germany</th>\n",
       "      <td>717</td>\n",
       "      <td>40</td>\n",
       "    </tr>\n",
       "    <tr>\n",
       "      <th>India</th>\n",
       "      <td>482</td>\n",
       "      <td>56</td>\n",
       "    </tr>\n",
       "    <tr>\n",
       "      <th>United Kingdom</th>\n",
       "      <td>953</td>\n",
       "      <td>70</td>\n",
       "    </tr>\n",
       "    <tr>\n",
       "      <th>United States</th>\n",
       "      <td>2410</td>\n",
       "      <td>381</td>\n",
       "    </tr>\n",
       "  </tbody>\n",
       "</table>\n",
       "</div>"
      ],
      "text/plain": [
       "Remote          Not remote  Remote\n",
       "Country                           \n",
       "Canada                 457      28\n",
       "Germany                717      40\n",
       "India                  482      56\n",
       "United Kingdom         953      70\n",
       "United States         2410     381"
      ]
     },
     "execution_count": 96,
     "metadata": {},
     "output_type": "execute_result"
    }
   ],
   "source": [
    "#Is there a relationship between country and number working remotely?\n",
    "\n",
    "#cross tabulation\n",
    "\n",
    "tab = pd.crosstab(index = so_df.Country,\n",
    "                 columns = so_df.Remote)\n",
    "\n",
    "tab"
   ]
  },
  {
   "cell_type": "code",
   "execution_count": 98,
   "id": "29ffc16b",
   "metadata": {},
   "outputs": [
    {
     "data": {
      "text/plain": [
       "(78.67672415412689,\n",
       " 3.321120877301216e-16,\n",
       " 4,\n",
       " array([[ 435.14747944,   49.85252056],\n",
       "        [ 679.18895245,   77.81104755],\n",
       "        [ 482.69967823,   55.30032177],\n",
       "        [ 917.84715767,  105.15284233],\n",
       "        [2504.11673221,  286.88326779]]))"
      ]
     },
     "execution_count": 98,
     "metadata": {},
     "output_type": "execute_result"
    }
   ],
   "source": [
    "st.chi2_contingency(tab)"
   ]
  },
  {
   "cell_type": "code",
   "execution_count": 102,
   "id": "d5a795ce",
   "metadata": {},
   "outputs": [
    {
     "name": "stdout",
     "output_type": "stream",
     "text": [
      "3.321120877301216e-16\n",
      "P-value is 3.321120877301216e-16, there is a relationship. H0 rejected.\n"
     ]
    }
   ],
   "source": [
    "chi2, p, dof, expected = st.chi2_contingency(tab)\n",
    "print(p)\n",
    "\n",
    "if p > 0.05:\n",
    "    print(f'P-value is {p}, there is no relationship. Failed to reject H0.')\n",
    "else:\n",
    "    print(f'P-value is {p}, there is a relationship. H0 rejected.')"
   ]
  },
  {
   "cell_type": "code",
   "execution_count": 103,
   "id": "f9added4",
   "metadata": {},
   "outputs": [
    {
     "data": {
      "text/html": [
       "<div>\n",
       "<style scoped>\n",
       "    .dataframe tbody tr th:only-of-type {\n",
       "        vertical-align: middle;\n",
       "    }\n",
       "\n",
       "    .dataframe tbody tr th {\n",
       "        vertical-align: top;\n",
       "    }\n",
       "\n",
       "    .dataframe thead th {\n",
       "        text-align: right;\n",
       "    }\n",
       "</style>\n",
       "<table border=\"1\" class=\"dataframe\">\n",
       "  <thead>\n",
       "    <tr style=\"text-align: right;\">\n",
       "      <th>Hobby</th>\n",
       "      <th>0</th>\n",
       "      <th>1</th>\n",
       "    </tr>\n",
       "    <tr>\n",
       "      <th>CompanySizeNumber</th>\n",
       "      <th></th>\n",
       "      <th></th>\n",
       "    </tr>\n",
       "  </thead>\n",
       "  <tbody>\n",
       "    <tr>\n",
       "      <th>1</th>\n",
       "      <td>101</td>\n",
       "      <td>311</td>\n",
       "    </tr>\n",
       "    <tr>\n",
       "      <th>10</th>\n",
       "      <td>123</td>\n",
       "      <td>400</td>\n",
       "    </tr>\n",
       "    <tr>\n",
       "      <th>20</th>\n",
       "      <td>293</td>\n",
       "      <td>961</td>\n",
       "    </tr>\n",
       "    <tr>\n",
       "      <th>100</th>\n",
       "      <td>245</td>\n",
       "      <td>918</td>\n",
       "    </tr>\n",
       "    <tr>\n",
       "      <th>500</th>\n",
       "      <td>91</td>\n",
       "      <td>309</td>\n",
       "    </tr>\n",
       "    <tr>\n",
       "      <th>1000</th>\n",
       "      <td>180</td>\n",
       "      <td>436</td>\n",
       "    </tr>\n",
       "    <tr>\n",
       "      <th>5000</th>\n",
       "      <td>60</td>\n",
       "      <td>192</td>\n",
       "    </tr>\n",
       "    <tr>\n",
       "      <th>10000</th>\n",
       "      <td>243</td>\n",
       "      <td>731</td>\n",
       "    </tr>\n",
       "  </tbody>\n",
       "</table>\n",
       "</div>"
      ],
      "text/plain": [
       "Hobby                0    1\n",
       "CompanySizeNumber          \n",
       "1                  101  311\n",
       "10                 123  400\n",
       "20                 293  961\n",
       "100                245  918\n",
       "500                 91  309\n",
       "1000               180  436\n",
       "5000                60  192\n",
       "10000              243  731"
      ]
     },
     "execution_count": 103,
     "metadata": {},
     "output_type": "execute_result"
    }
   ],
   "source": [
    "#Is there a relationship between company size and hobbies?\n",
    "\n",
    "tab = pd.crosstab(index = so_df.CompanySizeNumber,\n",
    "                 columns = so_df.Hobby)\n",
    "\n",
    "tab"
   ]
  },
  {
   "cell_type": "code",
   "execution_count": 104,
   "id": "4cac5cee",
   "metadata": {},
   "outputs": [
    {
     "name": "stdout",
     "output_type": "stream",
     "text": [
      "0.025708455559671047\n",
      "P-value is 0.025708455559671047, there is a relationship. H0 rejected.\n"
     ]
    }
   ],
   "source": [
    "chi2, p, dof, expected = st.chi2_contingency(tab)\n",
    "print(p)\n",
    "\n",
    "if p > 0.05:\n",
    "    print(f'P-value is {p}, there is no relationship. Failed to reject H0.')\n",
    "else:\n",
    "    print(f'P-value is {p}, there is a relationship. H0 rejected.')"
   ]
  }
 ],
 "metadata": {
  "kernelspec": {
   "display_name": "Python 3 (ipykernel)",
   "language": "python",
   "name": "python3"
  },
  "language_info": {
   "codemirror_mode": {
    "name": "ipython",
    "version": 3
   },
   "file_extension": ".py",
   "mimetype": "text/x-python",
   "name": "python",
   "nbconvert_exporter": "python",
   "pygments_lexer": "ipython3",
   "version": "3.9.13"
  }
 },
 "nbformat": 4,
 "nbformat_minor": 5
}
